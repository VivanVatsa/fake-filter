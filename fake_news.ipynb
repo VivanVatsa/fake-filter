{
 "metadata": {
  "language_info": {
   "codemirror_mode": {
    "name": "ipython",
    "version": 3
   },
   "file_extension": ".py",
   "mimetype": "text/x-python",
   "name": "python",
   "nbconvert_exporter": "python",
   "pygments_lexer": "ipython3",
   "version": "3.9.1-final"
  },
  "orig_nbformat": 2,
  "kernelspec": {
   "name": "python3",
   "display_name": "Python 3.9.1 64-bit ('virtual')",
   "metadata": {
    "interpreter": {
     "hash": "65b695cb0804c76015f8c54ea239c7c08d74ec47d226c5cc0ad620704c1cab26"
    }
   }
  }
 },
 "nbformat": 4,
 "nbformat_minor": 2,
 "cells": [
  {
   "cell_type": "code",
   "execution_count": 2,
   "metadata": {},
   "outputs": [],
   "source": [
    "import pandas as pd\n",
    "import numpy as np\n",
    "import matplotlib\n",
    "from matplotlib import pyplot as plt"
   ]
  },
  {
   "source": [
    "reading fake and real news data"
   ],
   "cell_type": "markdown",
   "metadata": {}
  },
  {
   "cell_type": "code",
   "execution_count": 3,
   "metadata": {},
   "outputs": [],
   "source": [
    "fake = pd.read_csv(\"Fake.csv\")\n",
    "true = pd.read_csv(\"True.csv\")"
   ]
  },
  {
   "cell_type": "code",
   "execution_count": 4,
   "metadata": {},
   "outputs": [
    {
     "output_type": "execute_result",
     "data": {
      "text/plain": [
       "                                               title  \\\n",
       "0   Donald Trump Sends Out Embarrassing New Year’...   \n",
       "1   Drunk Bragging Trump Staffer Started Russian ...   \n",
       "2   Sheriff David Clarke Becomes An Internet Joke...   \n",
       "3   Trump Is So Obsessed He Even Has Obama’s Name...   \n",
       "4   Pope Francis Just Called Out Donald Trump Dur...   \n",
       "\n",
       "                                                text subject  \\\n",
       "0  Donald Trump just couldn t wish all Americans ...    News   \n",
       "1  House Intelligence Committee Chairman Devin Nu...    News   \n",
       "2  On Friday, it was revealed that former Milwauk...    News   \n",
       "3  On Christmas day, Donald Trump announced that ...    News   \n",
       "4  Pope Francis used his annual Christmas Day mes...    News   \n",
       "\n",
       "                date  \n",
       "0  December 31, 2017  \n",
       "1  December 31, 2017  \n",
       "2  December 30, 2017  \n",
       "3  December 29, 2017  \n",
       "4  December 25, 2017  "
      ],
      "text/html": "<div>\n<style scoped>\n    .dataframe tbody tr th:only-of-type {\n        vertical-align: middle;\n    }\n\n    .dataframe tbody tr th {\n        vertical-align: top;\n    }\n\n    .dataframe thead th {\n        text-align: right;\n    }\n</style>\n<table border=\"1\" class=\"dataframe\">\n  <thead>\n    <tr style=\"text-align: right;\">\n      <th></th>\n      <th>title</th>\n      <th>text</th>\n      <th>subject</th>\n      <th>date</th>\n    </tr>\n  </thead>\n  <tbody>\n    <tr>\n      <th>0</th>\n      <td>Donald Trump Sends Out Embarrassing New Year’...</td>\n      <td>Donald Trump just couldn t wish all Americans ...</td>\n      <td>News</td>\n      <td>December 31, 2017</td>\n    </tr>\n    <tr>\n      <th>1</th>\n      <td>Drunk Bragging Trump Staffer Started Russian ...</td>\n      <td>House Intelligence Committee Chairman Devin Nu...</td>\n      <td>News</td>\n      <td>December 31, 2017</td>\n    </tr>\n    <tr>\n      <th>2</th>\n      <td>Sheriff David Clarke Becomes An Internet Joke...</td>\n      <td>On Friday, it was revealed that former Milwauk...</td>\n      <td>News</td>\n      <td>December 30, 2017</td>\n    </tr>\n    <tr>\n      <th>3</th>\n      <td>Trump Is So Obsessed He Even Has Obama’s Name...</td>\n      <td>On Christmas day, Donald Trump announced that ...</td>\n      <td>News</td>\n      <td>December 29, 2017</td>\n    </tr>\n    <tr>\n      <th>4</th>\n      <td>Pope Francis Just Called Out Donald Trump Dur...</td>\n      <td>Pope Francis used his annual Christmas Day mes...</td>\n      <td>News</td>\n      <td>December 25, 2017</td>\n    </tr>\n  </tbody>\n</table>\n</div>"
     },
     "metadata": {},
     "execution_count": 4
    }
   ],
   "source": [
    "fake.head()"
   ]
  },
  {
   "cell_type": "code",
   "execution_count": 5,
   "metadata": {},
   "outputs": [
    {
     "output_type": "execute_result",
     "data": {
      "text/plain": [
       "                                               title  \\\n",
       "0  As U.S. budget fight looms, Republicans flip t...   \n",
       "1  U.S. military to accept transgender recruits o...   \n",
       "2  Senior U.S. Republican senator: 'Let Mr. Muell...   \n",
       "3  FBI Russia probe helped by Australian diplomat...   \n",
       "4  Trump wants Postal Service to charge 'much mor...   \n",
       "\n",
       "                                                text       subject  \\\n",
       "0  WASHINGTON (Reuters) - The head of a conservat...  politicsNews   \n",
       "1  WASHINGTON (Reuters) - Transgender people will...  politicsNews   \n",
       "2  WASHINGTON (Reuters) - The special counsel inv...  politicsNews   \n",
       "3  WASHINGTON (Reuters) - Trump campaign adviser ...  politicsNews   \n",
       "4  SEATTLE/WASHINGTON (Reuters) - President Donal...  politicsNews   \n",
       "\n",
       "                 date  \n",
       "0  December 31, 2017   \n",
       "1  December 29, 2017   \n",
       "2  December 31, 2017   \n",
       "3  December 30, 2017   \n",
       "4  December 29, 2017   "
      ],
      "text/html": "<div>\n<style scoped>\n    .dataframe tbody tr th:only-of-type {\n        vertical-align: middle;\n    }\n\n    .dataframe tbody tr th {\n        vertical-align: top;\n    }\n\n    .dataframe thead th {\n        text-align: right;\n    }\n</style>\n<table border=\"1\" class=\"dataframe\">\n  <thead>\n    <tr style=\"text-align: right;\">\n      <th></th>\n      <th>title</th>\n      <th>text</th>\n      <th>subject</th>\n      <th>date</th>\n    </tr>\n  </thead>\n  <tbody>\n    <tr>\n      <th>0</th>\n      <td>As U.S. budget fight looms, Republicans flip t...</td>\n      <td>WASHINGTON (Reuters) - The head of a conservat...</td>\n      <td>politicsNews</td>\n      <td>December 31, 2017</td>\n    </tr>\n    <tr>\n      <th>1</th>\n      <td>U.S. military to accept transgender recruits o...</td>\n      <td>WASHINGTON (Reuters) - Transgender people will...</td>\n      <td>politicsNews</td>\n      <td>December 29, 2017</td>\n    </tr>\n    <tr>\n      <th>2</th>\n      <td>Senior U.S. Republican senator: 'Let Mr. Muell...</td>\n      <td>WASHINGTON (Reuters) - The special counsel inv...</td>\n      <td>politicsNews</td>\n      <td>December 31, 2017</td>\n    </tr>\n    <tr>\n      <th>3</th>\n      <td>FBI Russia probe helped by Australian diplomat...</td>\n      <td>WASHINGTON (Reuters) - Trump campaign adviser ...</td>\n      <td>politicsNews</td>\n      <td>December 30, 2017</td>\n    </tr>\n    <tr>\n      <th>4</th>\n      <td>Trump wants Postal Service to charge 'much mor...</td>\n      <td>SEATTLE/WASHINGTON (Reuters) - President Donal...</td>\n      <td>politicsNews</td>\n      <td>December 29, 2017</td>\n    </tr>\n  </tbody>\n</table>\n</div>"
     },
     "metadata": {},
     "execution_count": 5
    }
   ],
   "source": [
    "true.head()"
   ]
  },
  {
   "cell_type": "code",
   "execution_count": 6,
   "metadata": {},
   "outputs": [
    {
     "output_type": "execute_result",
     "data": {
      "text/plain": [
       "News               9050\n",
       "politics           6841\n",
       "left-news          4459\n",
       "Government News    1570\n",
       "US_News             783\n",
       "Middle-east         778\n",
       "Name: subject, dtype: int64"
      ]
     },
     "metadata": {},
     "execution_count": 6
    }
   ],
   "source": [
    "fake[\"subject\"].value_counts()"
   ]
  },
  {
   "cell_type": "code",
   "execution_count": 7,
   "metadata": {},
   "outputs": [
    {
     "output_type": "execute_result",
     "data": {
      "text/plain": [
       "politicsNews    11272\n",
       "worldnews       10145\n",
       "Name: subject, dtype: int64"
      ]
     },
     "metadata": {},
     "execution_count": 7
    }
   ],
   "source": [
    "true[\"subject\"].value_counts()"
   ]
  },
  {
   "cell_type": "code",
<<<<<<< HEAD
   "execution_count": 27,
   "metadata": {},
   "outputs": [
    {
     "output_type": "execute_result",
     "data": {
      "text/plain": [
       "May 10, 2017                                                                                                                                         46\n",
       "May 26, 2016                                                                                                                                         44\n",
       "May 5, 2016                                                                                                                                          44\n",
       "May 6, 2016                                                                                                                                          44\n",
       "May 11, 2016                                                                                                                                         43\n",
       "                                                                                                                                                     ..\n",
       "November 12, 2017                                                                                                                                     1\n",
       "November 19, 2017                                                                                                                                     1\n",
       "https://100percentfedup.com/served-roy-moore-vietnamletter-veteran-sets-record-straight-honorable-decent-respectable-patriotic-commander-soldier/     1\n",
       "December 11, 2017                                                                                                                                     1\n",
       "Jun 21, 2015                                                                                                                                          1\n",
       "Name: date, Length: 1681, dtype: int64"
      ]
     },
     "metadata": {},
     "execution_count": 27
    }
   ],
   "source": [
    "fake[\"date\"].value_counts()"
   ]
  },
  {
   "cell_type": "code",
=======
>>>>>>> 17b1f35758151cd7d63123cbc1771825918976b9
   "execution_count": 8,
   "metadata": {},
   "outputs": [],
   "source": [
    "fake[\"flag\"] = 0\n",
    "true[\"flag\"] = 1"
   ]
  },
  {
   "cell_type": "code",
   "execution_count": 9,
   "metadata": {},
   "outputs": [
    {
     "output_type": "execute_result",
     "data": {
      "text/plain": [
       "                                                   title  \\\n",
       "0       Donald Trump Sends Out Embarrassing New Year’...   \n",
       "1       Drunk Bragging Trump Staffer Started Russian ...   \n",
       "2       Sheriff David Clarke Becomes An Internet Joke...   \n",
       "3       Trump Is So Obsessed He Even Has Obama’s Name...   \n",
       "4       Pope Francis Just Called Out Donald Trump Dur...   \n",
       "...                                                  ...   \n",
       "23476  McPain: John McCain Furious That Iran Treated ...   \n",
       "23477  JUSTICE? Yahoo Settles E-mail Privacy Class-ac...   \n",
       "23478  Sunnistan: US and Allied ‘Safe Zone’ Plan to T...   \n",
       "23479  How to Blow $700 Million: Al Jazeera America F...   \n",
       "23480  10 U.S. Navy Sailors Held by Iranian Military ...   \n",
       "\n",
       "                                                    text      subject  \\\n",
       "0      Donald Trump just couldn t wish all Americans ...         News   \n",
       "1      House Intelligence Committee Chairman Devin Nu...         News   \n",
       "2      On Friday, it was revealed that former Milwauk...         News   \n",
       "3      On Christmas day, Donald Trump announced that ...         News   \n",
       "4      Pope Francis used his annual Christmas Day mes...         News   \n",
       "...                                                  ...          ...   \n",
       "23476  21st Century Wire says As 21WIRE reported earl...  Middle-east   \n",
       "23477  21st Century Wire says It s a familiar theme. ...  Middle-east   \n",
       "23478  Patrick Henningsen  21st Century WireRemember ...  Middle-east   \n",
       "23479  21st Century Wire says Al Jazeera America will...  Middle-east   \n",
       "23480  21st Century Wire says As 21WIRE predicted in ...  Middle-east   \n",
       "\n",
       "                    date  flag  \n",
       "0      December 31, 2017     0  \n",
       "1      December 31, 2017     0  \n",
       "2      December 30, 2017     0  \n",
       "3      December 29, 2017     0  \n",
       "4      December 25, 2017     0  \n",
       "...                  ...   ...  \n",
       "23476   January 16, 2016     0  \n",
       "23477   January 16, 2016     0  \n",
       "23478   January 15, 2016     0  \n",
       "23479   January 14, 2016     0  \n",
       "23480   January 12, 2016     0  \n",
       "\n",
       "[23481 rows x 5 columns]"
      ],
      "text/html": "<div>\n<style scoped>\n    .dataframe tbody tr th:only-of-type {\n        vertical-align: middle;\n    }\n\n    .dataframe tbody tr th {\n        vertical-align: top;\n    }\n\n    .dataframe thead th {\n        text-align: right;\n    }\n</style>\n<table border=\"1\" class=\"dataframe\">\n  <thead>\n    <tr style=\"text-align: right;\">\n      <th></th>\n      <th>title</th>\n      <th>text</th>\n      <th>subject</th>\n      <th>date</th>\n      <th>flag</th>\n    </tr>\n  </thead>\n  <tbody>\n    <tr>\n      <th>0</th>\n      <td>Donald Trump Sends Out Embarrassing New Year’...</td>\n      <td>Donald Trump just couldn t wish all Americans ...</td>\n      <td>News</td>\n      <td>December 31, 2017</td>\n      <td>0</td>\n    </tr>\n    <tr>\n      <th>1</th>\n      <td>Drunk Bragging Trump Staffer Started Russian ...</td>\n      <td>House Intelligence Committee Chairman Devin Nu...</td>\n      <td>News</td>\n      <td>December 31, 2017</td>\n      <td>0</td>\n    </tr>\n    <tr>\n      <th>2</th>\n      <td>Sheriff David Clarke Becomes An Internet Joke...</td>\n      <td>On Friday, it was revealed that former Milwauk...</td>\n      <td>News</td>\n      <td>December 30, 2017</td>\n      <td>0</td>\n    </tr>\n    <tr>\n      <th>3</th>\n      <td>Trump Is So Obsessed He Even Has Obama’s Name...</td>\n      <td>On Christmas day, Donald Trump announced that ...</td>\n      <td>News</td>\n      <td>December 29, 2017</td>\n      <td>0</td>\n    </tr>\n    <tr>\n      <th>4</th>\n      <td>Pope Francis Just Called Out Donald Trump Dur...</td>\n      <td>Pope Francis used his annual Christmas Day mes...</td>\n      <td>News</td>\n      <td>December 25, 2017</td>\n      <td>0</td>\n    </tr>\n    <tr>\n      <th>...</th>\n      <td>...</td>\n      <td>...</td>\n      <td>...</td>\n      <td>...</td>\n      <td>...</td>\n    </tr>\n    <tr>\n      <th>23476</th>\n      <td>McPain: John McCain Furious That Iran Treated ...</td>\n      <td>21st Century Wire says As 21WIRE reported earl...</td>\n      <td>Middle-east</td>\n      <td>January 16, 2016</td>\n      <td>0</td>\n    </tr>\n    <tr>\n      <th>23477</th>\n      <td>JUSTICE? Yahoo Settles E-mail Privacy Class-ac...</td>\n      <td>21st Century Wire says It s a familiar theme. ...</td>\n      <td>Middle-east</td>\n      <td>January 16, 2016</td>\n      <td>0</td>\n    </tr>\n    <tr>\n      <th>23478</th>\n      <td>Sunnistan: US and Allied ‘Safe Zone’ Plan to T...</td>\n      <td>Patrick Henningsen  21st Century WireRemember ...</td>\n      <td>Middle-east</td>\n      <td>January 15, 2016</td>\n      <td>0</td>\n    </tr>\n    <tr>\n      <th>23479</th>\n      <td>How to Blow $700 Million: Al Jazeera America F...</td>\n      <td>21st Century Wire says Al Jazeera America will...</td>\n      <td>Middle-east</td>\n      <td>January 14, 2016</td>\n      <td>0</td>\n    </tr>\n    <tr>\n      <th>23480</th>\n      <td>10 U.S. Navy Sailors Held by Iranian Military ...</td>\n      <td>21st Century Wire says As 21WIRE predicted in ...</td>\n      <td>Middle-east</td>\n      <td>January 12, 2016</td>\n      <td>0</td>\n    </tr>\n  </tbody>\n</table>\n<p>23481 rows × 5 columns</p>\n</div>"
     },
     "metadata": {},
     "execution_count": 9
    }
   ],
   "source": [
    "fake"
   ]
  },
  {
   "cell_type": "code",
   "execution_count": 10,
   "metadata": {},
   "outputs": [
    {
     "output_type": "execute_result",
     "data": {
      "text/plain": [
       "                                                   title  \\\n",
       "0      As U.S. budget fight looms, Republicans flip t...   \n",
       "1      U.S. military to accept transgender recruits o...   \n",
       "2      Senior U.S. Republican senator: 'Let Mr. Muell...   \n",
       "3      FBI Russia probe helped by Australian diplomat...   \n",
       "4      Trump wants Postal Service to charge 'much mor...   \n",
       "...                                                  ...   \n",
       "21412  'Fully committed' NATO backs new U.S. approach...   \n",
       "21413  LexisNexis withdrew two products from Chinese ...   \n",
       "21414  Minsk cultural hub becomes haven from authorities   \n",
       "21415  Vatican upbeat on possibility of Pope Francis ...   \n",
       "21416  Indonesia to buy $1.14 billion worth of Russia...   \n",
       "\n",
       "                                                    text       subject  \\\n",
       "0      WASHINGTON (Reuters) - The head of a conservat...  politicsNews   \n",
       "1      WASHINGTON (Reuters) - Transgender people will...  politicsNews   \n",
       "2      WASHINGTON (Reuters) - The special counsel inv...  politicsNews   \n",
       "3      WASHINGTON (Reuters) - Trump campaign adviser ...  politicsNews   \n",
       "4      SEATTLE/WASHINGTON (Reuters) - President Donal...  politicsNews   \n",
       "...                                                  ...           ...   \n",
       "21412  BRUSSELS (Reuters) - NATO allies on Tuesday we...     worldnews   \n",
       "21413  LONDON (Reuters) - LexisNexis, a provider of l...     worldnews   \n",
       "21414  MINSK (Reuters) - In the shadow of disused Sov...     worldnews   \n",
       "21415  MOSCOW (Reuters) - Vatican Secretary of State ...     worldnews   \n",
       "21416  JAKARTA (Reuters) - Indonesia will buy 11 Sukh...     worldnews   \n",
       "\n",
       "                     date  flag  \n",
       "0      December 31, 2017      1  \n",
       "1      December 29, 2017      1  \n",
       "2      December 31, 2017      1  \n",
       "3      December 30, 2017      1  \n",
       "4      December 29, 2017      1  \n",
       "...                   ...   ...  \n",
       "21412    August 22, 2017      1  \n",
       "21413    August 22, 2017      1  \n",
       "21414    August 22, 2017      1  \n",
       "21415    August 22, 2017      1  \n",
       "21416    August 22, 2017      1  \n",
       "\n",
       "[21417 rows x 5 columns]"
      ],
      "text/html": "<div>\n<style scoped>\n    .dataframe tbody tr th:only-of-type {\n        vertical-align: middle;\n    }\n\n    .dataframe tbody tr th {\n        vertical-align: top;\n    }\n\n    .dataframe thead th {\n        text-align: right;\n    }\n</style>\n<table border=\"1\" class=\"dataframe\">\n  <thead>\n    <tr style=\"text-align: right;\">\n      <th></th>\n      <th>title</th>\n      <th>text</th>\n      <th>subject</th>\n      <th>date</th>\n      <th>flag</th>\n    </tr>\n  </thead>\n  <tbody>\n    <tr>\n      <th>0</th>\n      <td>As U.S. budget fight looms, Republicans flip t...</td>\n      <td>WASHINGTON (Reuters) - The head of a conservat...</td>\n      <td>politicsNews</td>\n      <td>December 31, 2017</td>\n      <td>1</td>\n    </tr>\n    <tr>\n      <th>1</th>\n      <td>U.S. military to accept transgender recruits o...</td>\n      <td>WASHINGTON (Reuters) - Transgender people will...</td>\n      <td>politicsNews</td>\n      <td>December 29, 2017</td>\n      <td>1</td>\n    </tr>\n    <tr>\n      <th>2</th>\n      <td>Senior U.S. Republican senator: 'Let Mr. Muell...</td>\n      <td>WASHINGTON (Reuters) - The special counsel inv...</td>\n      <td>politicsNews</td>\n      <td>December 31, 2017</td>\n      <td>1</td>\n    </tr>\n    <tr>\n      <th>3</th>\n      <td>FBI Russia probe helped by Australian diplomat...</td>\n      <td>WASHINGTON (Reuters) - Trump campaign adviser ...</td>\n      <td>politicsNews</td>\n      <td>December 30, 2017</td>\n      <td>1</td>\n    </tr>\n    <tr>\n      <th>4</th>\n      <td>Trump wants Postal Service to charge 'much mor...</td>\n      <td>SEATTLE/WASHINGTON (Reuters) - President Donal...</td>\n      <td>politicsNews</td>\n      <td>December 29, 2017</td>\n      <td>1</td>\n    </tr>\n    <tr>\n      <th>...</th>\n      <td>...</td>\n      <td>...</td>\n      <td>...</td>\n      <td>...</td>\n      <td>...</td>\n    </tr>\n    <tr>\n      <th>21412</th>\n      <td>'Fully committed' NATO backs new U.S. approach...</td>\n      <td>BRUSSELS (Reuters) - NATO allies on Tuesday we...</td>\n      <td>worldnews</td>\n      <td>August 22, 2017</td>\n      <td>1</td>\n    </tr>\n    <tr>\n      <th>21413</th>\n      <td>LexisNexis withdrew two products from Chinese ...</td>\n      <td>LONDON (Reuters) - LexisNexis, a provider of l...</td>\n      <td>worldnews</td>\n      <td>August 22, 2017</td>\n      <td>1</td>\n    </tr>\n    <tr>\n      <th>21414</th>\n      <td>Minsk cultural hub becomes haven from authorities</td>\n      <td>MINSK (Reuters) - In the shadow of disused Sov...</td>\n      <td>worldnews</td>\n      <td>August 22, 2017</td>\n      <td>1</td>\n    </tr>\n    <tr>\n      <th>21415</th>\n      <td>Vatican upbeat on possibility of Pope Francis ...</td>\n      <td>MOSCOW (Reuters) - Vatican Secretary of State ...</td>\n      <td>worldnews</td>\n      <td>August 22, 2017</td>\n      <td>1</td>\n    </tr>\n    <tr>\n      <th>21416</th>\n      <td>Indonesia to buy $1.14 billion worth of Russia...</td>\n      <td>JAKARTA (Reuters) - Indonesia will buy 11 Sukh...</td>\n      <td>worldnews</td>\n      <td>August 22, 2017</td>\n      <td>1</td>\n    </tr>\n  </tbody>\n</table>\n<p>21417 rows × 5 columns</p>\n</div>"
     },
     "metadata": {},
     "execution_count": 10
    }
   ],
   "source": [
    "true"
   ]
  },
  {
   "cell_type": "code",
   "execution_count": 11,
   "metadata": {},
   "outputs": [],
   "source": [
    "df = pd.DataFrame()\n",
    "df = true.append(fake)"
   ]
  },
  {
   "source": [
    "Data Cleaning & EDA"
   ],
   "cell_type": "markdown",
   "metadata": {}
  },
  {
   "cell_type": "code",
   "execution_count": 12,
   "metadata": {},
   "outputs": [
    {
     "output_type": "stream",
     "name": "stdout",
     "text": [
      "<class 'pandas.core.frame.DataFrame'>\nInt64Index: 44898 entries, 0 to 23480\nData columns (total 5 columns):\n #   Column   Non-Null Count  Dtype \n---  ------   --------------  ----- \n 0   title    44898 non-null  object\n 1   text     44898 non-null  object\n 2   subject  44898 non-null  object\n 3   date     44898 non-null  object\n 4   flag     44898 non-null  int64 \ndtypes: int64(1), object(4)\nmemory usage: 2.1+ MB\n"
     ]
    }
   ],
   "source": [
    "df.info()"
   ]
  },
  {
   "source": [
    "- removal of duplicates\n",
    "\n",
    "- no indexing problem"
   ],
   "cell_type": "markdown",
   "metadata": {}
  },
  {
   "cell_type": "code",
   "execution_count": 13,
   "metadata": {},
   "outputs": [],
   "source": [
    "df = df.drop_duplicates()\n",
    "df = df.reset_index(drop=True)"
   ]
  },
  {
   "source": [
    "Formatting the dates is essential for future references"
   ],
   "cell_type": "markdown",
   "metadata": {}
  },
  {
   "cell_type": "code",
   "execution_count": 14,
   "metadata": {},
   "outputs": [],
   "source": [
    "df['date'] = df['date'].replace(['19-Feb-18'],'February 19, 2018')\n",
    "df['date'] = df['date'].replace(['18-Feb-18'],'February 18, 2018')\n",
    "df['date'] = df['date'].replace(['17-Feb-18'],'February 17, 2018')\n",
    "df['date'] = df['date'].replace(['16-Feb-18'],'February 16, 2018')\n",
    "df['date'] = df['date'].replace(['15-Feb-18'],'February 15, 2018')\n",
    "df['date'] = df['date'].replace(['14-Feb-18'],'February 14, 2018')\n",
    "df['date'] = df['date'].replace(['13-Feb-18'],'February 13, 2018')\n",
    "\n",
    "\n",
    "df['date'] = df['date'].str.replace('Dec ', 'December ')\n",
    "df['date'] = df['date'].str.replace('Nov ', 'November ')\n",
    "df['date'] = df['date'].str.replace('Oct ', 'October ')\n",
    "df['date'] = df['date'].str.replace('Sep ', 'September ')\n",
    "df['date'] = df['date'].str.replace('Aug ', 'August ')\n",
    "df['date'] = df['date'].str.replace('Jul ', 'July ')\n",
    "df['date'] = df['date'].str.replace('Jun ', 'June ')\n",
    "df['date'] = df['date'].str.replace('Apr ', 'April ')\n",
    "df['date'] = df['date'].str.replace('Mar ', 'March ')\n",
    "df['date'] = df['date'].str.replace('Feb ', 'February ')\n",
    "df['date'] = df['date'].str.replace('Jan ', 'January ')"
   ]
  },
  {
   "cell_type": "code",
   "execution_count": 15,
   "metadata": {},
   "outputs": [],
   "source": [
    "df['date'] = df['date'].str.replace(' ', '')"
   ]
  },
  {
   "cell_type": "code",
   "execution_count": 16,
   "metadata": {},
   "outputs": [
    {
     "output_type": "stream",
     "name": "stderr",
     "text": [
      "c:\\Users\\Vivan\\Documents\\GitHub\\fake-filter\\virtual\\lib\\site-packages\\pandas\\core\\indexing.py:1637: SettingWithCopyWarning: \nA value is trying to be set on a copy of a slice from a DataFrame\n\nSee the caveats in the documentation: https://pandas.pydata.org/pandas-docs/stable/user_guide/indexing.html#returning-a-view-versus-a-copy\n  self._setitem_single_block(indexer, value, name)\n"
     ]
    }
   ],
   "source": [
    "for i, val in enumerate(df['date']):\n",
    "    df['date'].iloc[i] = pd.to_datetime(df['date'].iloc[i], format='%B%d,%Y', errors='coerce') # by setting the parameter to \"coerce\", we will set unappropriate values to NaT (null)"
   ]
  },
  {
   "cell_type": "code",
   "execution_count": 17,
   "metadata": {},
   "outputs": [],
   "source": [
    "df['date'] = df['date'].astype('datetime64[ns]')"
   ]
  },
  {
   "cell_type": "code",
   "execution_count": 18,
   "metadata": {},
   "outputs": [
    {
     "output_type": "stream",
     "name": "stdout",
     "text": [
      "<class 'pandas.core.frame.DataFrame'>\nRangeIndex: 44689 entries, 0 to 44688\nData columns (total 5 columns):\n #   Column   Non-Null Count  Dtype         \n---  ------   --------------  -----         \n 0   title    44689 non-null  object        \n 1   text     44689 non-null  object        \n 2   subject  44689 non-null  object        \n 3   date     44679 non-null  datetime64[ns]\n 4   flag     44689 non-null  int64         \ndtypes: datetime64[ns](1), int64(1), object(3)\nmemory usage: 1.7+ MB\n"
     ]
    }
   ],
   "source": [
    "df.info()"
   ]
  },
  {
   "cell_type": "code",
   "execution_count": 19,
   "metadata": {},
   "outputs": [],
   "source": [
    "import datetime as dt\n",
    "df['year'] = pd.to_datetime(df['date']).dt.to_period('Y')\n",
    "df['month'] = pd.to_datetime(df['date']).dt.to_period('M')\n",
    "\n",
    "df['month'] = df['month'].astype(str)"
   ]
  },
  {
   "source": [
    "\n",
    "Non-text feature plotting (date, subject)\n",
    "\n",
    "Here we will try to elicit insights from non-text features to get to know if they will help us boost the Text Classifier.\n"
   ],
   "cell_type": "markdown",
   "metadata": {}
  },
  {
   "cell_type": "code",
   "execution_count": 22,
   "metadata": {},
   "outputs": [],
   "source": [
    "sub = df[['month', 'flag']]\n",
    "sub = sub.dropna()\n",
    "sub = sub.groupby(['month'])['flag'].sum()"
   ]
  },
  {
   "cell_type": "code",
   "execution_count": 23,
   "metadata": {},
   "outputs": [],
   "source": [
    "sub = sub.drop('NaT')\n"
   ]
  },
  {
   "cell_type": "code",
<<<<<<< HEAD
   "execution_count": 24,
   "metadata": {},
   "outputs": [
    {
     "output_type": "execute_result",
     "data": {
      "text/plain": [
       "[<matplotlib.lines.Line2D at 0x1d61d6e0a60>]"
      ]
     },
     "metadata": {},
     "execution_count": 24
    },
    {
     "output_type": "display_data",
     "data": {
      "text/plain": "<Figure size 432x288 with 1 Axes>",
      "image/svg+xml": "<?xml version=\"1.0\" encoding=\"utf-8\" standalone=\"no\"?>\r\n<!DOCTYPE svg PUBLIC \"-//W3C//DTD SVG 1.1//EN\"\r\n  \"http://www.w3.org/Graphics/SVG/1.1/DTD/svg11.dtd\">\r\n<!-- Created with matplotlib (https://matplotlib.org/) -->\r\n<svg height=\"323.100937pt\" version=\"1.1\" viewBox=\"0 0 395.328125 323.100937\" width=\"395.328125pt\" xmlns=\"http://www.w3.org/2000/svg\" xmlns:xlink=\"http://www.w3.org/1999/xlink\">\r\n <metadata>\r\n  <rdf:RDF xmlns:cc=\"http://creativecommons.org/ns#\" xmlns:dc=\"http://purl.org/dc/elements/1.1/\" xmlns:rdf=\"http://www.w3.org/1999/02/22-rdf-syntax-ns#\">\r\n   <cc:Work>\r\n    <dc:type rdf:resource=\"http://purl.org/dc/dcmitype/StillImage\"/>\r\n    <dc:date>2021-03-21T23:07:04.532705</dc:date>\r\n    <dc:format>image/svg+xml</dc:format>\r\n    <dc:creator>\r\n     <cc:Agent>\r\n      <dc:title>Matplotlib v3.3.4, https://matplotlib.org/</dc:title>\r\n     </cc:Agent>\r\n    </dc:creator>\r\n   </cc:Work>\r\n  </rdf:RDF>\r\n </metadata>\r\n <defs>\r\n  <style type=\"text/css\">*{stroke-linecap:butt;stroke-linejoin:round;}</style>\r\n </defs>\r\n <g id=\"figure_1\">\r\n  <g id=\"patch_1\">\r\n   <path d=\"M 0 323.100937 \r\nL 395.328125 323.100937 \r\nL 395.328125 0 \r\nL 0 0 \r\nz\r\n\" style=\"fill:none;\"/>\r\n  </g>\r\n  <g id=\"axes_1\">\r\n   <g id=\"patch_2\">\r\n    <path d=\"M 53.328125 253.44 \r\nL 388.128125 253.44 \r\nL 388.128125 36 \r\nL 53.328125 36 \r\nz\r\n\" style=\"fill:#ffffff;\"/>\r\n   </g>\r\n   <g id=\"matplotlib.axis_1\">\r\n    <g id=\"xtick_1\">\r\n     <g id=\"line2d_1\">\r\n      <defs>\r\n       <path d=\"M 0 0 \r\nL 0 3.5 \r\n\" id=\"m4b58e6296b\" style=\"stroke:#000000;stroke-width:0.8;\"/>\r\n      </defs>\r\n      <g>\r\n       <use style=\"stroke:#000000;stroke-width:0.8;\" x=\"68.546307\" xlink:href=\"#m4b58e6296b\" y=\"253.44\"/>\r\n      </g>\r\n     </g>\r\n     <g id=\"text_1\">\r\n      <!-- 2015-03 -->\r\n      <g transform=\"translate(71.305682 302.222812)rotate(-90)scale(0.1 -0.1)\">\r\n       <defs>\r\n        <path d=\"M 19.1875 8.296875 \r\nL 53.609375 8.296875 \r\nL 53.609375 0 \r\nL 7.328125 0 \r\nL 7.328125 8.296875 \r\nQ 12.9375 14.109375 22.625 23.890625 \r\nQ 32.328125 33.6875 34.8125 36.53125 \r\nQ 39.546875 41.84375 41.421875 45.53125 \r\nQ 43.3125 49.21875 43.3125 52.78125 \r\nQ 43.3125 58.59375 39.234375 62.25 \r\nQ 35.15625 65.921875 28.609375 65.921875 \r\nQ 23.96875 65.921875 18.8125 64.3125 \r\nQ 13.671875 62.703125 7.8125 59.421875 \r\nL 7.8125 69.390625 \r\nQ 13.765625 71.78125 18.9375 73 \r\nQ 24.125 74.21875 28.421875 74.21875 \r\nQ 39.75 74.21875 46.484375 68.546875 \r\nQ 53.21875 62.890625 53.21875 53.421875 \r\nQ 53.21875 48.921875 51.53125 44.890625 \r\nQ 49.859375 40.875 45.40625 35.40625 \r\nQ 44.1875 33.984375 37.640625 27.21875 \r\nQ 31.109375 20.453125 19.1875 8.296875 \r\nz\r\n\" id=\"DejaVuSans-50\"/>\r\n        <path d=\"M 31.78125 66.40625 \r\nQ 24.171875 66.40625 20.328125 58.90625 \r\nQ 16.5 51.421875 16.5 36.375 \r\nQ 16.5 21.390625 20.328125 13.890625 \r\nQ 24.171875 6.390625 31.78125 6.390625 \r\nQ 39.453125 6.390625 43.28125 13.890625 \r\nQ 47.125 21.390625 47.125 36.375 \r\nQ 47.125 51.421875 43.28125 58.90625 \r\nQ 39.453125 66.40625 31.78125 66.40625 \r\nz\r\nM 31.78125 74.21875 \r\nQ 44.046875 74.21875 50.515625 64.515625 \r\nQ 56.984375 54.828125 56.984375 36.375 \r\nQ 56.984375 17.96875 50.515625 8.265625 \r\nQ 44.046875 -1.421875 31.78125 -1.421875 \r\nQ 19.53125 -1.421875 13.0625 8.265625 \r\nQ 6.59375 17.96875 6.59375 36.375 \r\nQ 6.59375 54.828125 13.0625 64.515625 \r\nQ 19.53125 74.21875 31.78125 74.21875 \r\nz\r\n\" id=\"DejaVuSans-48\"/>\r\n        <path d=\"M 12.40625 8.296875 \r\nL 28.515625 8.296875 \r\nL 28.515625 63.921875 \r\nL 10.984375 60.40625 \r\nL 10.984375 69.390625 \r\nL 28.421875 72.90625 \r\nL 38.28125 72.90625 \r\nL 38.28125 8.296875 \r\nL 54.390625 8.296875 \r\nL 54.390625 0 \r\nL 12.40625 0 \r\nz\r\n\" id=\"DejaVuSans-49\"/>\r\n        <path d=\"M 10.796875 72.90625 \r\nL 49.515625 72.90625 \r\nL 49.515625 64.59375 \r\nL 19.828125 64.59375 \r\nL 19.828125 46.734375 \r\nQ 21.96875 47.46875 24.109375 47.828125 \r\nQ 26.265625 48.1875 28.421875 48.1875 \r\nQ 40.625 48.1875 47.75 41.5 \r\nQ 54.890625 34.8125 54.890625 23.390625 \r\nQ 54.890625 11.625 47.5625 5.09375 \r\nQ 40.234375 -1.421875 26.90625 -1.421875 \r\nQ 22.3125 -1.421875 17.546875 -0.640625 \r\nQ 12.796875 0.140625 7.71875 1.703125 \r\nL 7.71875 11.625 \r\nQ 12.109375 9.234375 16.796875 8.0625 \r\nQ 21.484375 6.890625 26.703125 6.890625 \r\nQ 35.15625 6.890625 40.078125 11.328125 \r\nQ 45.015625 15.765625 45.015625 23.390625 \r\nQ 45.015625 31 40.078125 35.4375 \r\nQ 35.15625 39.890625 26.703125 39.890625 \r\nQ 22.75 39.890625 18.8125 39.015625 \r\nQ 14.890625 38.140625 10.796875 36.28125 \r\nz\r\n\" id=\"DejaVuSans-53\"/>\r\n        <path d=\"M 4.890625 31.390625 \r\nL 31.203125 31.390625 \r\nL 31.203125 23.390625 \r\nL 4.890625 23.390625 \r\nz\r\n\" id=\"DejaVuSans-45\"/>\r\n        <path d=\"M 40.578125 39.3125 \r\nQ 47.65625 37.796875 51.625 33 \r\nQ 55.609375 28.21875 55.609375 21.1875 \r\nQ 55.609375 10.40625 48.1875 4.484375 \r\nQ 40.765625 -1.421875 27.09375 -1.421875 \r\nQ 22.515625 -1.421875 17.65625 -0.515625 \r\nQ 12.796875 0.390625 7.625 2.203125 \r\nL 7.625 11.71875 \r\nQ 11.71875 9.328125 16.59375 8.109375 \r\nQ 21.484375 6.890625 26.8125 6.890625 \r\nQ 36.078125 6.890625 40.9375 10.546875 \r\nQ 45.796875 14.203125 45.796875 21.1875 \r\nQ 45.796875 27.640625 41.28125 31.265625 \r\nQ 36.765625 34.90625 28.71875 34.90625 \r\nL 20.21875 34.90625 \r\nL 20.21875 43.015625 \r\nL 29.109375 43.015625 \r\nQ 36.375 43.015625 40.234375 45.921875 \r\nQ 44.09375 48.828125 44.09375 54.296875 \r\nQ 44.09375 59.90625 40.109375 62.90625 \r\nQ 36.140625 65.921875 28.71875 65.921875 \r\nQ 24.65625 65.921875 20.015625 65.03125 \r\nQ 15.375 64.15625 9.8125 62.3125 \r\nL 9.8125 71.09375 \r\nQ 15.4375 72.65625 20.34375 73.4375 \r\nQ 25.25 74.21875 29.59375 74.21875 \r\nQ 40.828125 74.21875 47.359375 69.109375 \r\nQ 53.90625 64.015625 53.90625 55.328125 \r\nQ 53.90625 49.265625 50.4375 45.09375 \r\nQ 46.96875 40.921875 40.578125 39.3125 \r\nz\r\n\" id=\"DejaVuSans-51\"/>\r\n       </defs>\r\n       <use xlink:href=\"#DejaVuSans-50\"/>\r\n       <use x=\"63.623047\" xlink:href=\"#DejaVuSans-48\"/>\r\n       <use x=\"127.246094\" xlink:href=\"#DejaVuSans-49\"/>\r\n       <use x=\"190.869141\" xlink:href=\"#DejaVuSans-53\"/>\r\n       <use x=\"254.492188\" xlink:href=\"#DejaVuSans-45\"/>\r\n       <use x=\"290.576172\" xlink:href=\"#DejaVuSans-48\"/>\r\n       <use x=\"354.199219\" xlink:href=\"#DejaVuSans-51\"/>\r\n      </g>\r\n     </g>\r\n    </g>\r\n    <g id=\"xtick_2\">\r\n     <g id=\"line2d_2\">\r\n      <g>\r\n       <use style=\"stroke:#000000;stroke-width:0.8;\" x=\"77.498178\" xlink:href=\"#m4b58e6296b\" y=\"253.44\"/>\r\n      </g>\r\n     </g>\r\n     <g id=\"text_2\">\r\n      <!-- 2015-04 -->\r\n      <g transform=\"translate(80.257553 302.222812)rotate(-90)scale(0.1 -0.1)\">\r\n       <defs>\r\n        <path d=\"M 37.796875 64.3125 \r\nL 12.890625 25.390625 \r\nL 37.796875 25.390625 \r\nz\r\nM 35.203125 72.90625 \r\nL 47.609375 72.90625 \r\nL 47.609375 25.390625 \r\nL 58.015625 25.390625 \r\nL 58.015625 17.1875 \r\nL 47.609375 17.1875 \r\nL 47.609375 0 \r\nL 37.796875 0 \r\nL 37.796875 17.1875 \r\nL 4.890625 17.1875 \r\nL 4.890625 26.703125 \r\nz\r\n\" id=\"DejaVuSans-52\"/>\r\n       </defs>\r\n       <use xlink:href=\"#DejaVuSans-50\"/>\r\n       <use x=\"63.623047\" xlink:href=\"#DejaVuSans-48\"/>\r\n       <use x=\"127.246094\" xlink:href=\"#DejaVuSans-49\"/>\r\n       <use x=\"190.869141\" xlink:href=\"#DejaVuSans-53\"/>\r\n       <use x=\"254.492188\" xlink:href=\"#DejaVuSans-45\"/>\r\n       <use x=\"290.576172\" xlink:href=\"#DejaVuSans-48\"/>\r\n       <use x=\"354.199219\" xlink:href=\"#DejaVuSans-52\"/>\r\n      </g>\r\n     </g>\r\n    </g>\r\n    <g id=\"xtick_3\">\r\n     <g id=\"line2d_3\">\r\n      <g>\r\n       <use style=\"stroke:#000000;stroke-width:0.8;\" x=\"86.45005\" xlink:href=\"#m4b58e6296b\" y=\"253.44\"/>\r\n      </g>\r\n     </g>\r\n     <g id=\"text_3\">\r\n      <!-- 2015-05 -->\r\n      <g transform=\"translate(89.209425 302.222812)rotate(-90)scale(0.1 -0.1)\">\r\n       <use xlink:href=\"#DejaVuSans-50\"/>\r\n       <use x=\"63.623047\" xlink:href=\"#DejaVuSans-48\"/>\r\n       <use x=\"127.246094\" xlink:href=\"#DejaVuSans-49\"/>\r\n       <use x=\"190.869141\" xlink:href=\"#DejaVuSans-53\"/>\r\n       <use x=\"254.492188\" xlink:href=\"#DejaVuSans-45\"/>\r\n       <use x=\"290.576172\" xlink:href=\"#DejaVuSans-48\"/>\r\n       <use x=\"354.199219\" xlink:href=\"#DejaVuSans-53\"/>\r\n      </g>\r\n     </g>\r\n    </g>\r\n    <g id=\"xtick_4\">\r\n     <g id=\"line2d_4\">\r\n      <g>\r\n       <use style=\"stroke:#000000;stroke-width:0.8;\" x=\"95.401922\" xlink:href=\"#m4b58e6296b\" y=\"253.44\"/>\r\n      </g>\r\n     </g>\r\n     <g id=\"text_4\">\r\n      <!-- 2015-06 -->\r\n      <g transform=\"translate(98.161297 302.222812)rotate(-90)scale(0.1 -0.1)\">\r\n       <defs>\r\n        <path d=\"M 33.015625 40.375 \r\nQ 26.375 40.375 22.484375 35.828125 \r\nQ 18.609375 31.296875 18.609375 23.390625 \r\nQ 18.609375 15.53125 22.484375 10.953125 \r\nQ 26.375 6.390625 33.015625 6.390625 \r\nQ 39.65625 6.390625 43.53125 10.953125 \r\nQ 47.40625 15.53125 47.40625 23.390625 \r\nQ 47.40625 31.296875 43.53125 35.828125 \r\nQ 39.65625 40.375 33.015625 40.375 \r\nz\r\nM 52.59375 71.296875 \r\nL 52.59375 62.3125 \r\nQ 48.875 64.0625 45.09375 64.984375 \r\nQ 41.3125 65.921875 37.59375 65.921875 \r\nQ 27.828125 65.921875 22.671875 59.328125 \r\nQ 17.53125 52.734375 16.796875 39.40625 \r\nQ 19.671875 43.65625 24.015625 45.921875 \r\nQ 28.375 48.1875 33.59375 48.1875 \r\nQ 44.578125 48.1875 50.953125 41.515625 \r\nQ 57.328125 34.859375 57.328125 23.390625 \r\nQ 57.328125 12.15625 50.6875 5.359375 \r\nQ 44.046875 -1.421875 33.015625 -1.421875 \r\nQ 20.359375 -1.421875 13.671875 8.265625 \r\nQ 6.984375 17.96875 6.984375 36.375 \r\nQ 6.984375 53.65625 15.1875 63.9375 \r\nQ 23.390625 74.21875 37.203125 74.21875 \r\nQ 40.921875 74.21875 44.703125 73.484375 \r\nQ 48.484375 72.75 52.59375 71.296875 \r\nz\r\n\" id=\"DejaVuSans-54\"/>\r\n       </defs>\r\n       <use xlink:href=\"#DejaVuSans-50\"/>\r\n       <use x=\"63.623047\" xlink:href=\"#DejaVuSans-48\"/>\r\n       <use x=\"127.246094\" xlink:href=\"#DejaVuSans-49\"/>\r\n       <use x=\"190.869141\" xlink:href=\"#DejaVuSans-53\"/>\r\n       <use x=\"254.492188\" xlink:href=\"#DejaVuSans-45\"/>\r\n       <use x=\"290.576172\" xlink:href=\"#DejaVuSans-48\"/>\r\n       <use x=\"354.199219\" xlink:href=\"#DejaVuSans-54\"/>\r\n      </g>\r\n     </g>\r\n    </g>\r\n    <g id=\"xtick_5\">\r\n     <g id=\"line2d_5\">\r\n      <g>\r\n       <use style=\"stroke:#000000;stroke-width:0.8;\" x=\"104.353793\" xlink:href=\"#m4b58e6296b\" y=\"253.44\"/>\r\n      </g>\r\n     </g>\r\n     <g id=\"text_5\">\r\n      <!-- 2015-07 -->\r\n      <g transform=\"translate(107.113168 302.222812)rotate(-90)scale(0.1 -0.1)\">\r\n       <defs>\r\n        <path d=\"M 8.203125 72.90625 \r\nL 55.078125 72.90625 \r\nL 55.078125 68.703125 \r\nL 28.609375 0 \r\nL 18.3125 0 \r\nL 43.21875 64.59375 \r\nL 8.203125 64.59375 \r\nz\r\n\" id=\"DejaVuSans-55\"/>\r\n       </defs>\r\n       <use xlink:href=\"#DejaVuSans-50\"/>\r\n       <use x=\"63.623047\" xlink:href=\"#DejaVuSans-48\"/>\r\n       <use x=\"127.246094\" xlink:href=\"#DejaVuSans-49\"/>\r\n       <use x=\"190.869141\" xlink:href=\"#DejaVuSans-53\"/>\r\n       <use x=\"254.492188\" xlink:href=\"#DejaVuSans-45\"/>\r\n       <use x=\"290.576172\" xlink:href=\"#DejaVuSans-48\"/>\r\n       <use x=\"354.199219\" xlink:href=\"#DejaVuSans-55\"/>\r\n      </g>\r\n     </g>\r\n    </g>\r\n    <g id=\"xtick_6\">\r\n     <g id=\"line2d_6\">\r\n      <g>\r\n       <use style=\"stroke:#000000;stroke-width:0.8;\" x=\"113.305665\" xlink:href=\"#m4b58e6296b\" y=\"253.44\"/>\r\n      </g>\r\n     </g>\r\n     <g id=\"text_6\">\r\n      <!-- 2015-08 -->\r\n      <g transform=\"translate(116.06504 302.222812)rotate(-90)scale(0.1 -0.1)\">\r\n       <defs>\r\n        <path d=\"M 31.78125 34.625 \r\nQ 24.75 34.625 20.71875 30.859375 \r\nQ 16.703125 27.09375 16.703125 20.515625 \r\nQ 16.703125 13.921875 20.71875 10.15625 \r\nQ 24.75 6.390625 31.78125 6.390625 \r\nQ 38.8125 6.390625 42.859375 10.171875 \r\nQ 46.921875 13.96875 46.921875 20.515625 \r\nQ 46.921875 27.09375 42.890625 30.859375 \r\nQ 38.875 34.625 31.78125 34.625 \r\nz\r\nM 21.921875 38.8125 \r\nQ 15.578125 40.375 12.03125 44.71875 \r\nQ 8.5 49.078125 8.5 55.328125 \r\nQ 8.5 64.0625 14.71875 69.140625 \r\nQ 20.953125 74.21875 31.78125 74.21875 \r\nQ 42.671875 74.21875 48.875 69.140625 \r\nQ 55.078125 64.0625 55.078125 55.328125 \r\nQ 55.078125 49.078125 51.53125 44.71875 \r\nQ 48 40.375 41.703125 38.8125 \r\nQ 48.828125 37.15625 52.796875 32.3125 \r\nQ 56.78125 27.484375 56.78125 20.515625 \r\nQ 56.78125 9.90625 50.3125 4.234375 \r\nQ 43.84375 -1.421875 31.78125 -1.421875 \r\nQ 19.734375 -1.421875 13.25 4.234375 \r\nQ 6.78125 9.90625 6.78125 20.515625 \r\nQ 6.78125 27.484375 10.78125 32.3125 \r\nQ 14.796875 37.15625 21.921875 38.8125 \r\nz\r\nM 18.3125 54.390625 \r\nQ 18.3125 48.734375 21.84375 45.5625 \r\nQ 25.390625 42.390625 31.78125 42.390625 \r\nQ 38.140625 42.390625 41.71875 45.5625 \r\nQ 45.3125 48.734375 45.3125 54.390625 \r\nQ 45.3125 60.0625 41.71875 63.234375 \r\nQ 38.140625 66.40625 31.78125 66.40625 \r\nQ 25.390625 66.40625 21.84375 63.234375 \r\nQ 18.3125 60.0625 18.3125 54.390625 \r\nz\r\n\" id=\"DejaVuSans-56\"/>\r\n       </defs>\r\n       <use xlink:href=\"#DejaVuSans-50\"/>\r\n       <use x=\"63.623047\" xlink:href=\"#DejaVuSans-48\"/>\r\n       <use x=\"127.246094\" xlink:href=\"#DejaVuSans-49\"/>\r\n       <use x=\"190.869141\" xlink:href=\"#DejaVuSans-53\"/>\r\n       <use x=\"254.492188\" xlink:href=\"#DejaVuSans-45\"/>\r\n       <use x=\"290.576172\" xlink:href=\"#DejaVuSans-48\"/>\r\n       <use x=\"354.199219\" xlink:href=\"#DejaVuSans-56\"/>\r\n      </g>\r\n     </g>\r\n    </g>\r\n    <g id=\"xtick_7\">\r\n     <g id=\"line2d_7\">\r\n      <g>\r\n       <use style=\"stroke:#000000;stroke-width:0.8;\" x=\"122.257537\" xlink:href=\"#m4b58e6296b\" y=\"253.44\"/>\r\n      </g>\r\n     </g>\r\n     <g id=\"text_7\">\r\n      <!-- 2015-09 -->\r\n      <g transform=\"translate(125.016912 302.222812)rotate(-90)scale(0.1 -0.1)\">\r\n       <defs>\r\n        <path d=\"M 10.984375 1.515625 \r\nL 10.984375 10.5 \r\nQ 14.703125 8.734375 18.5 7.8125 \r\nQ 22.3125 6.890625 25.984375 6.890625 \r\nQ 35.75 6.890625 40.890625 13.453125 \r\nQ 46.046875 20.015625 46.78125 33.40625 \r\nQ 43.953125 29.203125 39.59375 26.953125 \r\nQ 35.25 24.703125 29.984375 24.703125 \r\nQ 19.046875 24.703125 12.671875 31.3125 \r\nQ 6.296875 37.9375 6.296875 49.421875 \r\nQ 6.296875 60.640625 12.9375 67.421875 \r\nQ 19.578125 74.21875 30.609375 74.21875 \r\nQ 43.265625 74.21875 49.921875 64.515625 \r\nQ 56.59375 54.828125 56.59375 36.375 \r\nQ 56.59375 19.140625 48.40625 8.859375 \r\nQ 40.234375 -1.421875 26.421875 -1.421875 \r\nQ 22.703125 -1.421875 18.890625 -0.6875 \r\nQ 15.09375 0.046875 10.984375 1.515625 \r\nz\r\nM 30.609375 32.421875 \r\nQ 37.25 32.421875 41.125 36.953125 \r\nQ 45.015625 41.5 45.015625 49.421875 \r\nQ 45.015625 57.28125 41.125 61.84375 \r\nQ 37.25 66.40625 30.609375 66.40625 \r\nQ 23.96875 66.40625 20.09375 61.84375 \r\nQ 16.21875 57.28125 16.21875 49.421875 \r\nQ 16.21875 41.5 20.09375 36.953125 \r\nQ 23.96875 32.421875 30.609375 32.421875 \r\nz\r\n\" id=\"DejaVuSans-57\"/>\r\n       </defs>\r\n       <use xlink:href=\"#DejaVuSans-50\"/>\r\n       <use x=\"63.623047\" xlink:href=\"#DejaVuSans-48\"/>\r\n       <use x=\"127.246094\" xlink:href=\"#DejaVuSans-49\"/>\r\n       <use x=\"190.869141\" xlink:href=\"#DejaVuSans-53\"/>\r\n       <use x=\"254.492188\" xlink:href=\"#DejaVuSans-45\"/>\r\n       <use x=\"290.576172\" xlink:href=\"#DejaVuSans-48\"/>\r\n       <use x=\"354.199219\" xlink:href=\"#DejaVuSans-57\"/>\r\n      </g>\r\n     </g>\r\n    </g>\r\n    <g id=\"xtick_8\">\r\n     <g id=\"line2d_8\">\r\n      <g>\r\n       <use style=\"stroke:#000000;stroke-width:0.8;\" x=\"131.209408\" xlink:href=\"#m4b58e6296b\" y=\"253.44\"/>\r\n      </g>\r\n     </g>\r\n     <g id=\"text_8\">\r\n      <!-- 2015-10 -->\r\n      <g transform=\"translate(133.968783 302.222812)rotate(-90)scale(0.1 -0.1)\">\r\n       <use xlink:href=\"#DejaVuSans-50\"/>\r\n       <use x=\"63.623047\" xlink:href=\"#DejaVuSans-48\"/>\r\n       <use x=\"127.246094\" xlink:href=\"#DejaVuSans-49\"/>\r\n       <use x=\"190.869141\" xlink:href=\"#DejaVuSans-53\"/>\r\n       <use x=\"254.492188\" xlink:href=\"#DejaVuSans-45\"/>\r\n       <use x=\"290.576172\" xlink:href=\"#DejaVuSans-49\"/>\r\n       <use x=\"354.199219\" xlink:href=\"#DejaVuSans-48\"/>\r\n      </g>\r\n     </g>\r\n    </g>\r\n    <g id=\"xtick_9\">\r\n     <g id=\"line2d_9\">\r\n      <g>\r\n       <use style=\"stroke:#000000;stroke-width:0.8;\" x=\"140.16128\" xlink:href=\"#m4b58e6296b\" y=\"253.44\"/>\r\n      </g>\r\n     </g>\r\n     <g id=\"text_9\">\r\n      <!-- 2015-11 -->\r\n      <g transform=\"translate(142.920655 302.222812)rotate(-90)scale(0.1 -0.1)\">\r\n       <use xlink:href=\"#DejaVuSans-50\"/>\r\n       <use x=\"63.623047\" xlink:href=\"#DejaVuSans-48\"/>\r\n       <use x=\"127.246094\" xlink:href=\"#DejaVuSans-49\"/>\r\n       <use x=\"190.869141\" xlink:href=\"#DejaVuSans-53\"/>\r\n       <use x=\"254.492188\" xlink:href=\"#DejaVuSans-45\"/>\r\n       <use x=\"290.576172\" xlink:href=\"#DejaVuSans-49\"/>\r\n       <use x=\"354.199219\" xlink:href=\"#DejaVuSans-49\"/>\r\n      </g>\r\n     </g>\r\n    </g>\r\n    <g id=\"xtick_10\">\r\n     <g id=\"line2d_10\">\r\n      <g>\r\n       <use style=\"stroke:#000000;stroke-width:0.8;\" x=\"149.113152\" xlink:href=\"#m4b58e6296b\" y=\"253.44\"/>\r\n      </g>\r\n     </g>\r\n     <g id=\"text_10\">\r\n      <!-- 2015-12 -->\r\n      <g transform=\"translate(151.872527 302.222812)rotate(-90)scale(0.1 -0.1)\">\r\n       <use xlink:href=\"#DejaVuSans-50\"/>\r\n       <use x=\"63.623047\" xlink:href=\"#DejaVuSans-48\"/>\r\n       <use x=\"127.246094\" xlink:href=\"#DejaVuSans-49\"/>\r\n       <use x=\"190.869141\" xlink:href=\"#DejaVuSans-53\"/>\r\n       <use x=\"254.492188\" xlink:href=\"#DejaVuSans-45\"/>\r\n       <use x=\"290.576172\" xlink:href=\"#DejaVuSans-49\"/>\r\n       <use x=\"354.199219\" xlink:href=\"#DejaVuSans-50\"/>\r\n      </g>\r\n     </g>\r\n    </g>\r\n    <g id=\"xtick_11\">\r\n     <g id=\"line2d_11\">\r\n      <g>\r\n       <use style=\"stroke:#000000;stroke-width:0.8;\" x=\"158.065023\" xlink:href=\"#m4b58e6296b\" y=\"253.44\"/>\r\n      </g>\r\n     </g>\r\n     <g id=\"text_11\">\r\n      <!-- 2016-01 -->\r\n      <g transform=\"translate(160.824398 302.222812)rotate(-90)scale(0.1 -0.1)\">\r\n       <use xlink:href=\"#DejaVuSans-50\"/>\r\n       <use x=\"63.623047\" xlink:href=\"#DejaVuSans-48\"/>\r\n       <use x=\"127.246094\" xlink:href=\"#DejaVuSans-49\"/>\r\n       <use x=\"190.869141\" xlink:href=\"#DejaVuSans-54\"/>\r\n       <use x=\"254.492188\" xlink:href=\"#DejaVuSans-45\"/>\r\n       <use x=\"290.576172\" xlink:href=\"#DejaVuSans-48\"/>\r\n       <use x=\"354.199219\" xlink:href=\"#DejaVuSans-49\"/>\r\n      </g>\r\n     </g>\r\n    </g>\r\n    <g id=\"xtick_12\">\r\n     <g id=\"line2d_12\">\r\n      <g>\r\n       <use style=\"stroke:#000000;stroke-width:0.8;\" x=\"167.016895\" xlink:href=\"#m4b58e6296b\" y=\"253.44\"/>\r\n      </g>\r\n     </g>\r\n     <g id=\"text_12\">\r\n      <!-- 2016-02 -->\r\n      <g transform=\"translate(169.77627 302.222812)rotate(-90)scale(0.1 -0.1)\">\r\n       <use xlink:href=\"#DejaVuSans-50\"/>\r\n       <use x=\"63.623047\" xlink:href=\"#DejaVuSans-48\"/>\r\n       <use x=\"127.246094\" xlink:href=\"#DejaVuSans-49\"/>\r\n       <use x=\"190.869141\" xlink:href=\"#DejaVuSans-54\"/>\r\n       <use x=\"254.492188\" xlink:href=\"#DejaVuSans-45\"/>\r\n       <use x=\"290.576172\" xlink:href=\"#DejaVuSans-48\"/>\r\n       <use x=\"354.199219\" xlink:href=\"#DejaVuSans-50\"/>\r\n      </g>\r\n     </g>\r\n    </g>\r\n    <g id=\"xtick_13\">\r\n     <g id=\"line2d_13\">\r\n      <g>\r\n       <use style=\"stroke:#000000;stroke-width:0.8;\" x=\"175.968767\" xlink:href=\"#m4b58e6296b\" y=\"253.44\"/>\r\n      </g>\r\n     </g>\r\n     <g id=\"text_13\">\r\n      <!-- 2016-03 -->\r\n      <g transform=\"translate(178.728142 302.222812)rotate(-90)scale(0.1 -0.1)\">\r\n       <use xlink:href=\"#DejaVuSans-50\"/>\r\n       <use x=\"63.623047\" xlink:href=\"#DejaVuSans-48\"/>\r\n       <use x=\"127.246094\" xlink:href=\"#DejaVuSans-49\"/>\r\n       <use x=\"190.869141\" xlink:href=\"#DejaVuSans-54\"/>\r\n       <use x=\"254.492188\" xlink:href=\"#DejaVuSans-45\"/>\r\n       <use x=\"290.576172\" xlink:href=\"#DejaVuSans-48\"/>\r\n       <use x=\"354.199219\" xlink:href=\"#DejaVuSans-51\"/>\r\n      </g>\r\n     </g>\r\n    </g>\r\n    <g id=\"xtick_14\">\r\n     <g id=\"line2d_14\">\r\n      <g>\r\n       <use style=\"stroke:#000000;stroke-width:0.8;\" x=\"184.920638\" xlink:href=\"#m4b58e6296b\" y=\"253.44\"/>\r\n      </g>\r\n     </g>\r\n     <g id=\"text_14\">\r\n      <!-- 2016-04 -->\r\n      <g transform=\"translate(187.680013 302.222812)rotate(-90)scale(0.1 -0.1)\">\r\n       <use xlink:href=\"#DejaVuSans-50\"/>\r\n       <use x=\"63.623047\" xlink:href=\"#DejaVuSans-48\"/>\r\n       <use x=\"127.246094\" xlink:href=\"#DejaVuSans-49\"/>\r\n       <use x=\"190.869141\" xlink:href=\"#DejaVuSans-54\"/>\r\n       <use x=\"254.492188\" xlink:href=\"#DejaVuSans-45\"/>\r\n       <use x=\"290.576172\" xlink:href=\"#DejaVuSans-48\"/>\r\n       <use x=\"354.199219\" xlink:href=\"#DejaVuSans-52\"/>\r\n      </g>\r\n     </g>\r\n    </g>\r\n    <g id=\"xtick_15\">\r\n     <g id=\"line2d_15\">\r\n      <g>\r\n       <use style=\"stroke:#000000;stroke-width:0.8;\" x=\"193.87251\" xlink:href=\"#m4b58e6296b\" y=\"253.44\"/>\r\n      </g>\r\n     </g>\r\n     <g id=\"text_15\">\r\n      <!-- 2016-05 -->\r\n      <g transform=\"translate(196.631885 302.222812)rotate(-90)scale(0.1 -0.1)\">\r\n       <use xlink:href=\"#DejaVuSans-50\"/>\r\n       <use x=\"63.623047\" xlink:href=\"#DejaVuSans-48\"/>\r\n       <use x=\"127.246094\" xlink:href=\"#DejaVuSans-49\"/>\r\n       <use x=\"190.869141\" xlink:href=\"#DejaVuSans-54\"/>\r\n       <use x=\"254.492188\" xlink:href=\"#DejaVuSans-45\"/>\r\n       <use x=\"290.576172\" xlink:href=\"#DejaVuSans-48\"/>\r\n       <use x=\"354.199219\" xlink:href=\"#DejaVuSans-53\"/>\r\n      </g>\r\n     </g>\r\n    </g>\r\n    <g id=\"xtick_16\">\r\n     <g id=\"line2d_16\">\r\n      <g>\r\n       <use style=\"stroke:#000000;stroke-width:0.8;\" x=\"202.824382\" xlink:href=\"#m4b58e6296b\" y=\"253.44\"/>\r\n      </g>\r\n     </g>\r\n     <g id=\"text_16\">\r\n      <!-- 2016-06 -->\r\n      <g transform=\"translate(205.583757 302.222812)rotate(-90)scale(0.1 -0.1)\">\r\n       <use xlink:href=\"#DejaVuSans-50\"/>\r\n       <use x=\"63.623047\" xlink:href=\"#DejaVuSans-48\"/>\r\n       <use x=\"127.246094\" xlink:href=\"#DejaVuSans-49\"/>\r\n       <use x=\"190.869141\" xlink:href=\"#DejaVuSans-54\"/>\r\n       <use x=\"254.492188\" xlink:href=\"#DejaVuSans-45\"/>\r\n       <use x=\"290.576172\" xlink:href=\"#DejaVuSans-48\"/>\r\n       <use x=\"354.199219\" xlink:href=\"#DejaVuSans-54\"/>\r\n      </g>\r\n     </g>\r\n    </g>\r\n    <g id=\"xtick_17\">\r\n     <g id=\"line2d_17\">\r\n      <g>\r\n       <use style=\"stroke:#000000;stroke-width:0.8;\" x=\"211.776253\" xlink:href=\"#m4b58e6296b\" y=\"253.44\"/>\r\n      </g>\r\n     </g>\r\n     <g id=\"text_17\">\r\n      <!-- 2016-07 -->\r\n      <g transform=\"translate(214.535628 302.222812)rotate(-90)scale(0.1 -0.1)\">\r\n       <use xlink:href=\"#DejaVuSans-50\"/>\r\n       <use x=\"63.623047\" xlink:href=\"#DejaVuSans-48\"/>\r\n       <use x=\"127.246094\" xlink:href=\"#DejaVuSans-49\"/>\r\n       <use x=\"190.869141\" xlink:href=\"#DejaVuSans-54\"/>\r\n       <use x=\"254.492188\" xlink:href=\"#DejaVuSans-45\"/>\r\n       <use x=\"290.576172\" xlink:href=\"#DejaVuSans-48\"/>\r\n       <use x=\"354.199219\" xlink:href=\"#DejaVuSans-55\"/>\r\n      </g>\r\n     </g>\r\n    </g>\r\n    <g id=\"xtick_18\">\r\n     <g id=\"line2d_18\">\r\n      <g>\r\n       <use style=\"stroke:#000000;stroke-width:0.8;\" x=\"220.728125\" xlink:href=\"#m4b58e6296b\" y=\"253.44\"/>\r\n      </g>\r\n     </g>\r\n     <g id=\"text_18\">\r\n      <!-- 2016-08 -->\r\n      <g transform=\"translate(223.4875 302.222812)rotate(-90)scale(0.1 -0.1)\">\r\n       <use xlink:href=\"#DejaVuSans-50\"/>\r\n       <use x=\"63.623047\" xlink:href=\"#DejaVuSans-48\"/>\r\n       <use x=\"127.246094\" xlink:href=\"#DejaVuSans-49\"/>\r\n       <use x=\"190.869141\" xlink:href=\"#DejaVuSans-54\"/>\r\n       <use x=\"254.492188\" xlink:href=\"#DejaVuSans-45\"/>\r\n       <use x=\"290.576172\" xlink:href=\"#DejaVuSans-48\"/>\r\n       <use x=\"354.199219\" xlink:href=\"#DejaVuSans-56\"/>\r\n      </g>\r\n     </g>\r\n    </g>\r\n    <g id=\"xtick_19\">\r\n     <g id=\"line2d_19\">\r\n      <g>\r\n       <use style=\"stroke:#000000;stroke-width:0.8;\" x=\"229.679997\" xlink:href=\"#m4b58e6296b\" y=\"253.44\"/>\r\n      </g>\r\n     </g>\r\n     <g id=\"text_19\">\r\n      <!-- 2016-09 -->\r\n      <g transform=\"translate(232.439372 302.222812)rotate(-90)scale(0.1 -0.1)\">\r\n       <use xlink:href=\"#DejaVuSans-50\"/>\r\n       <use x=\"63.623047\" xlink:href=\"#DejaVuSans-48\"/>\r\n       <use x=\"127.246094\" xlink:href=\"#DejaVuSans-49\"/>\r\n       <use x=\"190.869141\" xlink:href=\"#DejaVuSans-54\"/>\r\n       <use x=\"254.492188\" xlink:href=\"#DejaVuSans-45\"/>\r\n       <use x=\"290.576172\" xlink:href=\"#DejaVuSans-48\"/>\r\n       <use x=\"354.199219\" xlink:href=\"#DejaVuSans-57\"/>\r\n      </g>\r\n     </g>\r\n    </g>\r\n    <g id=\"xtick_20\">\r\n     <g id=\"line2d_20\">\r\n      <g>\r\n       <use style=\"stroke:#000000;stroke-width:0.8;\" x=\"238.631868\" xlink:href=\"#m4b58e6296b\" y=\"253.44\"/>\r\n      </g>\r\n     </g>\r\n     <g id=\"text_20\">\r\n      <!-- 2016-10 -->\r\n      <g transform=\"translate(241.391243 302.222812)rotate(-90)scale(0.1 -0.1)\">\r\n       <use xlink:href=\"#DejaVuSans-50\"/>\r\n       <use x=\"63.623047\" xlink:href=\"#DejaVuSans-48\"/>\r\n       <use x=\"127.246094\" xlink:href=\"#DejaVuSans-49\"/>\r\n       <use x=\"190.869141\" xlink:href=\"#DejaVuSans-54\"/>\r\n       <use x=\"254.492188\" xlink:href=\"#DejaVuSans-45\"/>\r\n       <use x=\"290.576172\" xlink:href=\"#DejaVuSans-49\"/>\r\n       <use x=\"354.199219\" xlink:href=\"#DejaVuSans-48\"/>\r\n      </g>\r\n     </g>\r\n    </g>\r\n    <g id=\"xtick_21\">\r\n     <g id=\"line2d_21\">\r\n      <g>\r\n       <use style=\"stroke:#000000;stroke-width:0.8;\" x=\"247.58374\" xlink:href=\"#m4b58e6296b\" y=\"253.44\"/>\r\n      </g>\r\n     </g>\r\n     <g id=\"text_21\">\r\n      <!-- 2016-11 -->\r\n      <g transform=\"translate(250.343115 302.222812)rotate(-90)scale(0.1 -0.1)\">\r\n       <use xlink:href=\"#DejaVuSans-50\"/>\r\n       <use x=\"63.623047\" xlink:href=\"#DejaVuSans-48\"/>\r\n       <use x=\"127.246094\" xlink:href=\"#DejaVuSans-49\"/>\r\n       <use x=\"190.869141\" xlink:href=\"#DejaVuSans-54\"/>\r\n       <use x=\"254.492188\" xlink:href=\"#DejaVuSans-45\"/>\r\n       <use x=\"290.576172\" xlink:href=\"#DejaVuSans-49\"/>\r\n       <use x=\"354.199219\" xlink:href=\"#DejaVuSans-49\"/>\r\n      </g>\r\n     </g>\r\n    </g>\r\n    <g id=\"xtick_22\">\r\n     <g id=\"line2d_22\">\r\n      <g>\r\n       <use style=\"stroke:#000000;stroke-width:0.8;\" x=\"256.535612\" xlink:href=\"#m4b58e6296b\" y=\"253.44\"/>\r\n      </g>\r\n     </g>\r\n     <g id=\"text_22\">\r\n      <!-- 2016-12 -->\r\n      <g transform=\"translate(259.294987 302.222812)rotate(-90)scale(0.1 -0.1)\">\r\n       <use xlink:href=\"#DejaVuSans-50\"/>\r\n       <use x=\"63.623047\" xlink:href=\"#DejaVuSans-48\"/>\r\n       <use x=\"127.246094\" xlink:href=\"#DejaVuSans-49\"/>\r\n       <use x=\"190.869141\" xlink:href=\"#DejaVuSans-54\"/>\r\n       <use x=\"254.492188\" xlink:href=\"#DejaVuSans-45\"/>\r\n       <use x=\"290.576172\" xlink:href=\"#DejaVuSans-49\"/>\r\n       <use x=\"354.199219\" xlink:href=\"#DejaVuSans-50\"/>\r\n      </g>\r\n     </g>\r\n    </g>\r\n    <g id=\"xtick_23\">\r\n     <g id=\"line2d_23\">\r\n      <g>\r\n       <use style=\"stroke:#000000;stroke-width:0.8;\" x=\"265.487483\" xlink:href=\"#m4b58e6296b\" y=\"253.44\"/>\r\n      </g>\r\n     </g>\r\n     <g id=\"text_23\">\r\n      <!-- 2017-01 -->\r\n      <g transform=\"translate(268.246858 302.222812)rotate(-90)scale(0.1 -0.1)\">\r\n       <use xlink:href=\"#DejaVuSans-50\"/>\r\n       <use x=\"63.623047\" xlink:href=\"#DejaVuSans-48\"/>\r\n       <use x=\"127.246094\" xlink:href=\"#DejaVuSans-49\"/>\r\n       <use x=\"190.869141\" xlink:href=\"#DejaVuSans-55\"/>\r\n       <use x=\"254.492188\" xlink:href=\"#DejaVuSans-45\"/>\r\n       <use x=\"290.576172\" xlink:href=\"#DejaVuSans-48\"/>\r\n       <use x=\"354.199219\" xlink:href=\"#DejaVuSans-49\"/>\r\n      </g>\r\n     </g>\r\n    </g>\r\n    <g id=\"xtick_24\">\r\n     <g id=\"line2d_24\">\r\n      <g>\r\n       <use style=\"stroke:#000000;stroke-width:0.8;\" x=\"274.439355\" xlink:href=\"#m4b58e6296b\" y=\"253.44\"/>\r\n      </g>\r\n     </g>\r\n     <g id=\"text_24\">\r\n      <!-- 2017-02 -->\r\n      <g transform=\"translate(277.19873 302.222812)rotate(-90)scale(0.1 -0.1)\">\r\n       <use xlink:href=\"#DejaVuSans-50\"/>\r\n       <use x=\"63.623047\" xlink:href=\"#DejaVuSans-48\"/>\r\n       <use x=\"127.246094\" xlink:href=\"#DejaVuSans-49\"/>\r\n       <use x=\"190.869141\" xlink:href=\"#DejaVuSans-55\"/>\r\n       <use x=\"254.492188\" xlink:href=\"#DejaVuSans-45\"/>\r\n       <use x=\"290.576172\" xlink:href=\"#DejaVuSans-48\"/>\r\n       <use x=\"354.199219\" xlink:href=\"#DejaVuSans-50\"/>\r\n      </g>\r\n     </g>\r\n    </g>\r\n    <g id=\"xtick_25\">\r\n     <g id=\"line2d_25\">\r\n      <g>\r\n       <use style=\"stroke:#000000;stroke-width:0.8;\" x=\"283.391227\" xlink:href=\"#m4b58e6296b\" y=\"253.44\"/>\r\n      </g>\r\n     </g>\r\n     <g id=\"text_25\">\r\n      <!-- 2017-03 -->\r\n      <g transform=\"translate(286.150602 302.222812)rotate(-90)scale(0.1 -0.1)\">\r\n       <use xlink:href=\"#DejaVuSans-50\"/>\r\n       <use x=\"63.623047\" xlink:href=\"#DejaVuSans-48\"/>\r\n       <use x=\"127.246094\" xlink:href=\"#DejaVuSans-49\"/>\r\n       <use x=\"190.869141\" xlink:href=\"#DejaVuSans-55\"/>\r\n       <use x=\"254.492188\" xlink:href=\"#DejaVuSans-45\"/>\r\n       <use x=\"290.576172\" xlink:href=\"#DejaVuSans-48\"/>\r\n       <use x=\"354.199219\" xlink:href=\"#DejaVuSans-51\"/>\r\n      </g>\r\n     </g>\r\n    </g>\r\n    <g id=\"xtick_26\">\r\n     <g id=\"line2d_26\">\r\n      <g>\r\n       <use style=\"stroke:#000000;stroke-width:0.8;\" x=\"292.343098\" xlink:href=\"#m4b58e6296b\" y=\"253.44\"/>\r\n      </g>\r\n     </g>\r\n     <g id=\"text_26\">\r\n      <!-- 2017-04 -->\r\n      <g transform=\"translate(295.102473 302.222812)rotate(-90)scale(0.1 -0.1)\">\r\n       <use xlink:href=\"#DejaVuSans-50\"/>\r\n       <use x=\"63.623047\" xlink:href=\"#DejaVuSans-48\"/>\r\n       <use x=\"127.246094\" xlink:href=\"#DejaVuSans-49\"/>\r\n       <use x=\"190.869141\" xlink:href=\"#DejaVuSans-55\"/>\r\n       <use x=\"254.492188\" xlink:href=\"#DejaVuSans-45\"/>\r\n       <use x=\"290.576172\" xlink:href=\"#DejaVuSans-48\"/>\r\n       <use x=\"354.199219\" xlink:href=\"#DejaVuSans-52\"/>\r\n      </g>\r\n     </g>\r\n    </g>\r\n    <g id=\"xtick_27\">\r\n     <g id=\"line2d_27\">\r\n      <g>\r\n       <use style=\"stroke:#000000;stroke-width:0.8;\" x=\"301.29497\" xlink:href=\"#m4b58e6296b\" y=\"253.44\"/>\r\n      </g>\r\n     </g>\r\n     <g id=\"text_27\">\r\n      <!-- 2017-05 -->\r\n      <g transform=\"translate(304.054345 302.222812)rotate(-90)scale(0.1 -0.1)\">\r\n       <use xlink:href=\"#DejaVuSans-50\"/>\r\n       <use x=\"63.623047\" xlink:href=\"#DejaVuSans-48\"/>\r\n       <use x=\"127.246094\" xlink:href=\"#DejaVuSans-49\"/>\r\n       <use x=\"190.869141\" xlink:href=\"#DejaVuSans-55\"/>\r\n       <use x=\"254.492188\" xlink:href=\"#DejaVuSans-45\"/>\r\n       <use x=\"290.576172\" xlink:href=\"#DejaVuSans-48\"/>\r\n       <use x=\"354.199219\" xlink:href=\"#DejaVuSans-53\"/>\r\n      </g>\r\n     </g>\r\n    </g>\r\n    <g id=\"xtick_28\">\r\n     <g id=\"line2d_28\">\r\n      <g>\r\n       <use style=\"stroke:#000000;stroke-width:0.8;\" x=\"310.246842\" xlink:href=\"#m4b58e6296b\" y=\"253.44\"/>\r\n      </g>\r\n     </g>\r\n     <g id=\"text_28\">\r\n      <!-- 2017-06 -->\r\n      <g transform=\"translate(313.006217 302.222812)rotate(-90)scale(0.1 -0.1)\">\r\n       <use xlink:href=\"#DejaVuSans-50\"/>\r\n       <use x=\"63.623047\" xlink:href=\"#DejaVuSans-48\"/>\r\n       <use x=\"127.246094\" xlink:href=\"#DejaVuSans-49\"/>\r\n       <use x=\"190.869141\" xlink:href=\"#DejaVuSans-55\"/>\r\n       <use x=\"254.492188\" xlink:href=\"#DejaVuSans-45\"/>\r\n       <use x=\"290.576172\" xlink:href=\"#DejaVuSans-48\"/>\r\n       <use x=\"354.199219\" xlink:href=\"#DejaVuSans-54\"/>\r\n      </g>\r\n     </g>\r\n    </g>\r\n    <g id=\"xtick_29\">\r\n     <g id=\"line2d_29\">\r\n      <g>\r\n       <use style=\"stroke:#000000;stroke-width:0.8;\" x=\"319.198713\" xlink:href=\"#m4b58e6296b\" y=\"253.44\"/>\r\n      </g>\r\n     </g>\r\n     <g id=\"text_29\">\r\n      <!-- 2017-07 -->\r\n      <g transform=\"translate(321.958088 302.222812)rotate(-90)scale(0.1 -0.1)\">\r\n       <use xlink:href=\"#DejaVuSans-50\"/>\r\n       <use x=\"63.623047\" xlink:href=\"#DejaVuSans-48\"/>\r\n       <use x=\"127.246094\" xlink:href=\"#DejaVuSans-49\"/>\r\n       <use x=\"190.869141\" xlink:href=\"#DejaVuSans-55\"/>\r\n       <use x=\"254.492188\" xlink:href=\"#DejaVuSans-45\"/>\r\n       <use x=\"290.576172\" xlink:href=\"#DejaVuSans-48\"/>\r\n       <use x=\"354.199219\" xlink:href=\"#DejaVuSans-55\"/>\r\n      </g>\r\n     </g>\r\n    </g>\r\n    <g id=\"xtick_30\">\r\n     <g id=\"line2d_30\">\r\n      <g>\r\n       <use style=\"stroke:#000000;stroke-width:0.8;\" x=\"328.150585\" xlink:href=\"#m4b58e6296b\" y=\"253.44\"/>\r\n      </g>\r\n     </g>\r\n     <g id=\"text_30\">\r\n      <!-- 2017-08 -->\r\n      <g transform=\"translate(330.90996 302.222812)rotate(-90)scale(0.1 -0.1)\">\r\n       <use xlink:href=\"#DejaVuSans-50\"/>\r\n       <use x=\"63.623047\" xlink:href=\"#DejaVuSans-48\"/>\r\n       <use x=\"127.246094\" xlink:href=\"#DejaVuSans-49\"/>\r\n       <use x=\"190.869141\" xlink:href=\"#DejaVuSans-55\"/>\r\n       <use x=\"254.492188\" xlink:href=\"#DejaVuSans-45\"/>\r\n       <use x=\"290.576172\" xlink:href=\"#DejaVuSans-48\"/>\r\n       <use x=\"354.199219\" xlink:href=\"#DejaVuSans-56\"/>\r\n      </g>\r\n     </g>\r\n    </g>\r\n    <g id=\"xtick_31\">\r\n     <g id=\"line2d_31\">\r\n      <g>\r\n       <use style=\"stroke:#000000;stroke-width:0.8;\" x=\"337.102457\" xlink:href=\"#m4b58e6296b\" y=\"253.44\"/>\r\n      </g>\r\n     </g>\r\n     <g id=\"text_31\">\r\n      <!-- 2017-09 -->\r\n      <g transform=\"translate(339.861832 302.222812)rotate(-90)scale(0.1 -0.1)\">\r\n       <use xlink:href=\"#DejaVuSans-50\"/>\r\n       <use x=\"63.623047\" xlink:href=\"#DejaVuSans-48\"/>\r\n       <use x=\"127.246094\" xlink:href=\"#DejaVuSans-49\"/>\r\n       <use x=\"190.869141\" xlink:href=\"#DejaVuSans-55\"/>\r\n       <use x=\"254.492188\" xlink:href=\"#DejaVuSans-45\"/>\r\n       <use x=\"290.576172\" xlink:href=\"#DejaVuSans-48\"/>\r\n       <use x=\"354.199219\" xlink:href=\"#DejaVuSans-57\"/>\r\n      </g>\r\n     </g>\r\n    </g>\r\n    <g id=\"xtick_32\">\r\n     <g id=\"line2d_32\">\r\n      <g>\r\n       <use style=\"stroke:#000000;stroke-width:0.8;\" x=\"346.054328\" xlink:href=\"#m4b58e6296b\" y=\"253.44\"/>\r\n      </g>\r\n     </g>\r\n     <g id=\"text_32\">\r\n      <!-- 2017-10 -->\r\n      <g transform=\"translate(348.813703 302.222812)rotate(-90)scale(0.1 -0.1)\">\r\n       <use xlink:href=\"#DejaVuSans-50\"/>\r\n       <use x=\"63.623047\" xlink:href=\"#DejaVuSans-48\"/>\r\n       <use x=\"127.246094\" xlink:href=\"#DejaVuSans-49\"/>\r\n       <use x=\"190.869141\" xlink:href=\"#DejaVuSans-55\"/>\r\n       <use x=\"254.492188\" xlink:href=\"#DejaVuSans-45\"/>\r\n       <use x=\"290.576172\" xlink:href=\"#DejaVuSans-49\"/>\r\n       <use x=\"354.199219\" xlink:href=\"#DejaVuSans-48\"/>\r\n      </g>\r\n     </g>\r\n    </g>\r\n    <g id=\"xtick_33\">\r\n     <g id=\"line2d_33\">\r\n      <g>\r\n       <use style=\"stroke:#000000;stroke-width:0.8;\" x=\"355.0062\" xlink:href=\"#m4b58e6296b\" y=\"253.44\"/>\r\n      </g>\r\n     </g>\r\n     <g id=\"text_33\">\r\n      <!-- 2017-11 -->\r\n      <g transform=\"translate(357.765575 302.222812)rotate(-90)scale(0.1 -0.1)\">\r\n       <use xlink:href=\"#DejaVuSans-50\"/>\r\n       <use x=\"63.623047\" xlink:href=\"#DejaVuSans-48\"/>\r\n       <use x=\"127.246094\" xlink:href=\"#DejaVuSans-49\"/>\r\n       <use x=\"190.869141\" xlink:href=\"#DejaVuSans-55\"/>\r\n       <use x=\"254.492188\" xlink:href=\"#DejaVuSans-45\"/>\r\n       <use x=\"290.576172\" xlink:href=\"#DejaVuSans-49\"/>\r\n       <use x=\"354.199219\" xlink:href=\"#DejaVuSans-49\"/>\r\n      </g>\r\n     </g>\r\n    </g>\r\n    <g id=\"xtick_34\">\r\n     <g id=\"line2d_34\">\r\n      <g>\r\n       <use style=\"stroke:#000000;stroke-width:0.8;\" x=\"363.958072\" xlink:href=\"#m4b58e6296b\" y=\"253.44\"/>\r\n      </g>\r\n     </g>\r\n     <g id=\"text_34\">\r\n      <!-- 2017-12 -->\r\n      <g transform=\"translate(366.717447 302.222812)rotate(-90)scale(0.1 -0.1)\">\r\n       <use xlink:href=\"#DejaVuSans-50\"/>\r\n       <use x=\"63.623047\" xlink:href=\"#DejaVuSans-48\"/>\r\n       <use x=\"127.246094\" xlink:href=\"#DejaVuSans-49\"/>\r\n       <use x=\"190.869141\" xlink:href=\"#DejaVuSans-55\"/>\r\n       <use x=\"254.492188\" xlink:href=\"#DejaVuSans-45\"/>\r\n       <use x=\"290.576172\" xlink:href=\"#DejaVuSans-49\"/>\r\n       <use x=\"354.199219\" xlink:href=\"#DejaVuSans-50\"/>\r\n      </g>\r\n     </g>\r\n    </g>\r\n    <g id=\"xtick_35\">\r\n     <g id=\"line2d_35\">\r\n      <g>\r\n       <use style=\"stroke:#000000;stroke-width:0.8;\" x=\"372.909943\" xlink:href=\"#m4b58e6296b\" y=\"253.44\"/>\r\n      </g>\r\n     </g>\r\n     <g id=\"text_35\">\r\n      <!-- 2018-02 -->\r\n      <g transform=\"translate(375.669318 302.222812)rotate(-90)scale(0.1 -0.1)\">\r\n       <use xlink:href=\"#DejaVuSans-50\"/>\r\n       <use x=\"63.623047\" xlink:href=\"#DejaVuSans-48\"/>\r\n       <use x=\"127.246094\" xlink:href=\"#DejaVuSans-49\"/>\r\n       <use x=\"190.869141\" xlink:href=\"#DejaVuSans-56\"/>\r\n       <use x=\"254.492188\" xlink:href=\"#DejaVuSans-45\"/>\r\n       <use x=\"290.576172\" xlink:href=\"#DejaVuSans-48\"/>\r\n       <use x=\"354.199219\" xlink:href=\"#DejaVuSans-50\"/>\r\n      </g>\r\n     </g>\r\n    </g>\r\n    <g id=\"text_36\">\r\n     <!-- Month &amp; Year -->\r\n     <g transform=\"translate(187.392188 313.82125)scale(0.1 -0.1)\">\r\n      <defs>\r\n       <path d=\"M 9.8125 72.90625 \r\nL 24.515625 72.90625 \r\nL 43.109375 23.296875 \r\nL 61.8125 72.90625 \r\nL 76.515625 72.90625 \r\nL 76.515625 0 \r\nL 66.890625 0 \r\nL 66.890625 64.015625 \r\nL 48.09375 14.015625 \r\nL 38.1875 14.015625 \r\nL 19.390625 64.015625 \r\nL 19.390625 0 \r\nL 9.8125 0 \r\nz\r\n\" id=\"DejaVuSans-77\"/>\r\n       <path d=\"M 30.609375 48.390625 \r\nQ 23.390625 48.390625 19.1875 42.75 \r\nQ 14.984375 37.109375 14.984375 27.296875 \r\nQ 14.984375 17.484375 19.15625 11.84375 \r\nQ 23.34375 6.203125 30.609375 6.203125 \r\nQ 37.796875 6.203125 41.984375 11.859375 \r\nQ 46.1875 17.53125 46.1875 27.296875 \r\nQ 46.1875 37.015625 41.984375 42.703125 \r\nQ 37.796875 48.390625 30.609375 48.390625 \r\nz\r\nM 30.609375 56 \r\nQ 42.328125 56 49.015625 48.375 \r\nQ 55.71875 40.765625 55.71875 27.296875 \r\nQ 55.71875 13.875 49.015625 6.21875 \r\nQ 42.328125 -1.421875 30.609375 -1.421875 \r\nQ 18.84375 -1.421875 12.171875 6.21875 \r\nQ 5.515625 13.875 5.515625 27.296875 \r\nQ 5.515625 40.765625 12.171875 48.375 \r\nQ 18.84375 56 30.609375 56 \r\nz\r\n\" id=\"DejaVuSans-111\"/>\r\n       <path d=\"M 54.890625 33.015625 \r\nL 54.890625 0 \r\nL 45.90625 0 \r\nL 45.90625 32.71875 \r\nQ 45.90625 40.484375 42.875 44.328125 \r\nQ 39.84375 48.1875 33.796875 48.1875 \r\nQ 26.515625 48.1875 22.3125 43.546875 \r\nQ 18.109375 38.921875 18.109375 30.90625 \r\nL 18.109375 0 \r\nL 9.078125 0 \r\nL 9.078125 54.6875 \r\nL 18.109375 54.6875 \r\nL 18.109375 46.1875 \r\nQ 21.34375 51.125 25.703125 53.5625 \r\nQ 30.078125 56 35.796875 56 \r\nQ 45.21875 56 50.046875 50.171875 \r\nQ 54.890625 44.34375 54.890625 33.015625 \r\nz\r\n\" id=\"DejaVuSans-110\"/>\r\n       <path d=\"M 18.3125 70.21875 \r\nL 18.3125 54.6875 \r\nL 36.8125 54.6875 \r\nL 36.8125 47.703125 \r\nL 18.3125 47.703125 \r\nL 18.3125 18.015625 \r\nQ 18.3125 11.328125 20.140625 9.421875 \r\nQ 21.96875 7.515625 27.59375 7.515625 \r\nL 36.8125 7.515625 \r\nL 36.8125 0 \r\nL 27.59375 0 \r\nQ 17.1875 0 13.234375 3.875 \r\nQ 9.28125 7.765625 9.28125 18.015625 \r\nL 9.28125 47.703125 \r\nL 2.6875 47.703125 \r\nL 2.6875 54.6875 \r\nL 9.28125 54.6875 \r\nL 9.28125 70.21875 \r\nz\r\n\" id=\"DejaVuSans-116\"/>\r\n       <path d=\"M 54.890625 33.015625 \r\nL 54.890625 0 \r\nL 45.90625 0 \r\nL 45.90625 32.71875 \r\nQ 45.90625 40.484375 42.875 44.328125 \r\nQ 39.84375 48.1875 33.796875 48.1875 \r\nQ 26.515625 48.1875 22.3125 43.546875 \r\nQ 18.109375 38.921875 18.109375 30.90625 \r\nL 18.109375 0 \r\nL 9.078125 0 \r\nL 9.078125 75.984375 \r\nL 18.109375 75.984375 \r\nL 18.109375 46.1875 \r\nQ 21.34375 51.125 25.703125 53.5625 \r\nQ 30.078125 56 35.796875 56 \r\nQ 45.21875 56 50.046875 50.171875 \r\nQ 54.890625 44.34375 54.890625 33.015625 \r\nz\r\n\" id=\"DejaVuSans-104\"/>\r\n       <path id=\"DejaVuSans-32\"/>\r\n       <path d=\"M 24.3125 39.203125 \r\nQ 19.875 35.25 17.796875 31.3125 \r\nQ 15.71875 27.390625 15.71875 23.09375 \r\nQ 15.71875 15.96875 20.890625 11.234375 \r\nQ 26.078125 6.5 33.890625 6.5 \r\nQ 38.53125 6.5 42.578125 8.03125 \r\nQ 46.625 9.578125 50.203125 12.703125 \r\nz\r\nM 31.203125 44.671875 \r\nL 56 19.28125 \r\nQ 58.890625 23.640625 60.5 28.59375 \r\nQ 62.109375 33.546875 62.40625 39.109375 \r\nL 71.484375 39.109375 \r\nQ 70.90625 32.671875 68.359375 26.359375 \r\nQ 65.828125 20.0625 61.28125 13.921875 \r\nL 74.90625 0 \r\nL 62.59375 0 \r\nL 55.609375 7.171875 \r\nQ 50.53125 2.828125 44.96875 0.703125 \r\nQ 39.40625 -1.421875 33.015625 -1.421875 \r\nQ 21.234375 -1.421875 13.765625 5.296875 \r\nQ 6.296875 12.015625 6.296875 22.515625 \r\nQ 6.296875 28.765625 9.5625 34.25 \r\nQ 12.84375 39.75 19.390625 44.578125 \r\nQ 17.046875 47.65625 15.8125 50.703125 \r\nQ 14.59375 53.765625 14.59375 56.6875 \r\nQ 14.59375 64.59375 20.015625 69.40625 \r\nQ 25.4375 74.21875 34.421875 74.21875 \r\nQ 38.484375 74.21875 42.5 73.34375 \r\nQ 46.53125 72.46875 50.6875 70.703125 \r\nL 50.6875 61.8125 \r\nQ 46.4375 64.109375 42.578125 65.296875 \r\nQ 38.71875 66.5 35.40625 66.5 \r\nQ 30.28125 66.5 27.078125 63.78125 \r\nQ 23.875 61.078125 23.875 56.78125 \r\nQ 23.875 54.296875 25.3125 51.78125 \r\nQ 26.765625 49.265625 31.203125 44.671875 \r\nz\r\n\" id=\"DejaVuSans-38\"/>\r\n       <path d=\"M -0.203125 72.90625 \r\nL 10.40625 72.90625 \r\nL 30.609375 42.921875 \r\nL 50.6875 72.90625 \r\nL 61.28125 72.90625 \r\nL 35.5 34.71875 \r\nL 35.5 0 \r\nL 25.59375 0 \r\nL 25.59375 34.71875 \r\nz\r\n\" id=\"DejaVuSans-89\"/>\r\n       <path d=\"M 56.203125 29.59375 \r\nL 56.203125 25.203125 \r\nL 14.890625 25.203125 \r\nQ 15.484375 15.921875 20.484375 11.0625 \r\nQ 25.484375 6.203125 34.421875 6.203125 \r\nQ 39.59375 6.203125 44.453125 7.46875 \r\nQ 49.3125 8.734375 54.109375 11.28125 \r\nL 54.109375 2.78125 \r\nQ 49.265625 0.734375 44.1875 -0.34375 \r\nQ 39.109375 -1.421875 33.890625 -1.421875 \r\nQ 20.796875 -1.421875 13.15625 6.1875 \r\nQ 5.515625 13.8125 5.515625 26.8125 \r\nQ 5.515625 40.234375 12.765625 48.109375 \r\nQ 20.015625 56 32.328125 56 \r\nQ 43.359375 56 49.78125 48.890625 \r\nQ 56.203125 41.796875 56.203125 29.59375 \r\nz\r\nM 47.21875 32.234375 \r\nQ 47.125 39.59375 43.09375 43.984375 \r\nQ 39.0625 48.390625 32.421875 48.390625 \r\nQ 24.90625 48.390625 20.390625 44.140625 \r\nQ 15.875 39.890625 15.1875 32.171875 \r\nz\r\n\" id=\"DejaVuSans-101\"/>\r\n       <path d=\"M 34.28125 27.484375 \r\nQ 23.390625 27.484375 19.1875 25 \r\nQ 14.984375 22.515625 14.984375 16.5 \r\nQ 14.984375 11.71875 18.140625 8.90625 \r\nQ 21.296875 6.109375 26.703125 6.109375 \r\nQ 34.1875 6.109375 38.703125 11.40625 \r\nQ 43.21875 16.703125 43.21875 25.484375 \r\nL 43.21875 27.484375 \r\nz\r\nM 52.203125 31.203125 \r\nL 52.203125 0 \r\nL 43.21875 0 \r\nL 43.21875 8.296875 \r\nQ 40.140625 3.328125 35.546875 0.953125 \r\nQ 30.953125 -1.421875 24.3125 -1.421875 \r\nQ 15.921875 -1.421875 10.953125 3.296875 \r\nQ 6 8.015625 6 15.921875 \r\nQ 6 25.140625 12.171875 29.828125 \r\nQ 18.359375 34.515625 30.609375 34.515625 \r\nL 43.21875 34.515625 \r\nL 43.21875 35.40625 \r\nQ 43.21875 41.609375 39.140625 45 \r\nQ 35.0625 48.390625 27.6875 48.390625 \r\nQ 23 48.390625 18.546875 47.265625 \r\nQ 14.109375 46.140625 10.015625 43.890625 \r\nL 10.015625 52.203125 \r\nQ 14.9375 54.109375 19.578125 55.046875 \r\nQ 24.21875 56 28.609375 56 \r\nQ 40.484375 56 46.34375 49.84375 \r\nQ 52.203125 43.703125 52.203125 31.203125 \r\nz\r\n\" id=\"DejaVuSans-97\"/>\r\n       <path d=\"M 41.109375 46.296875 \r\nQ 39.59375 47.171875 37.8125 47.578125 \r\nQ 36.03125 48 33.890625 48 \r\nQ 26.265625 48 22.1875 43.046875 \r\nQ 18.109375 38.09375 18.109375 28.8125 \r\nL 18.109375 0 \r\nL 9.078125 0 \r\nL 9.078125 54.6875 \r\nL 18.109375 54.6875 \r\nL 18.109375 46.1875 \r\nQ 20.953125 51.171875 25.484375 53.578125 \r\nQ 30.03125 56 36.53125 56 \r\nQ 37.453125 56 38.578125 55.875 \r\nQ 39.703125 55.765625 41.0625 55.515625 \r\nz\r\n\" id=\"DejaVuSans-114\"/>\r\n      </defs>\r\n      <use xlink:href=\"#DejaVuSans-77\"/>\r\n      <use x=\"86.279297\" xlink:href=\"#DejaVuSans-111\"/>\r\n      <use x=\"147.460938\" xlink:href=\"#DejaVuSans-110\"/>\r\n      <use x=\"210.839844\" xlink:href=\"#DejaVuSans-116\"/>\r\n      <use x=\"250.048828\" xlink:href=\"#DejaVuSans-104\"/>\r\n      <use x=\"313.427734\" xlink:href=\"#DejaVuSans-32\"/>\r\n      <use x=\"345.214844\" xlink:href=\"#DejaVuSans-38\"/>\r\n      <use x=\"423.193359\" xlink:href=\"#DejaVuSans-32\"/>\r\n      <use x=\"454.980469\" xlink:href=\"#DejaVuSans-89\"/>\r\n      <use x=\"502.814453\" xlink:href=\"#DejaVuSans-101\"/>\r\n      <use x=\"564.337891\" xlink:href=\"#DejaVuSans-97\"/>\r\n      <use x=\"625.617188\" xlink:href=\"#DejaVuSans-114\"/>\r\n     </g>\r\n    </g>\r\n   </g>\r\n   <g id=\"matplotlib.axis_2\">\r\n    <g id=\"ytick_1\">\r\n     <g id=\"line2d_36\">\r\n      <defs>\r\n       <path d=\"M 0 0 \r\nL -3.5 0 \r\n\" id=\"m9b4366638d\" style=\"stroke:#000000;stroke-width:0.8;\"/>\r\n      </defs>\r\n      <g>\r\n       <use style=\"stroke:#000000;stroke-width:0.8;\" x=\"53.328125\" xlink:href=\"#m9b4366638d\" y=\"243.556364\"/>\r\n      </g>\r\n     </g>\r\n     <g id=\"text_37\">\r\n      <!-- 0 -->\r\n      <g transform=\"translate(39.965625 247.355582)scale(0.1 -0.1)\">\r\n       <use xlink:href=\"#DejaVuSans-48\"/>\r\n      </g>\r\n     </g>\r\n    </g>\r\n    <g id=\"ytick_2\">\r\n     <g id=\"line2d_37\">\r\n      <g>\r\n       <use style=\"stroke:#000000;stroke-width:0.8;\" x=\"53.328125\" xlink:href=\"#m9b4366638d\" y=\"212.249311\"/>\r\n      </g>\r\n     </g>\r\n     <g id=\"text_38\">\r\n      <!-- 500 -->\r\n      <g transform=\"translate(27.240625 216.04853)scale(0.1 -0.1)\">\r\n       <use xlink:href=\"#DejaVuSans-53\"/>\r\n       <use x=\"63.623047\" xlink:href=\"#DejaVuSans-48\"/>\r\n       <use x=\"127.246094\" xlink:href=\"#DejaVuSans-48\"/>\r\n      </g>\r\n     </g>\r\n    </g>\r\n    <g id=\"ytick_3\">\r\n     <g id=\"line2d_38\">\r\n      <g>\r\n       <use style=\"stroke:#000000;stroke-width:0.8;\" x=\"53.328125\" xlink:href=\"#m9b4366638d\" y=\"180.942259\"/>\r\n      </g>\r\n     </g>\r\n     <g id=\"text_39\">\r\n      <!-- 1000 -->\r\n      <g transform=\"translate(20.878125 184.741478)scale(0.1 -0.1)\">\r\n       <use xlink:href=\"#DejaVuSans-49\"/>\r\n       <use x=\"63.623047\" xlink:href=\"#DejaVuSans-48\"/>\r\n       <use x=\"127.246094\" xlink:href=\"#DejaVuSans-48\"/>\r\n       <use x=\"190.869141\" xlink:href=\"#DejaVuSans-48\"/>\r\n      </g>\r\n     </g>\r\n    </g>\r\n    <g id=\"ytick_4\">\r\n     <g id=\"line2d_39\">\r\n      <g>\r\n       <use style=\"stroke:#000000;stroke-width:0.8;\" x=\"53.328125\" xlink:href=\"#m9b4366638d\" y=\"149.635207\"/>\r\n      </g>\r\n     </g>\r\n     <g id=\"text_40\">\r\n      <!-- 1500 -->\r\n      <g transform=\"translate(20.878125 153.434426)scale(0.1 -0.1)\">\r\n       <use xlink:href=\"#DejaVuSans-49\"/>\r\n       <use x=\"63.623047\" xlink:href=\"#DejaVuSans-53\"/>\r\n       <use x=\"127.246094\" xlink:href=\"#DejaVuSans-48\"/>\r\n       <use x=\"190.869141\" xlink:href=\"#DejaVuSans-48\"/>\r\n      </g>\r\n     </g>\r\n    </g>\r\n    <g id=\"ytick_5\">\r\n     <g id=\"line2d_40\">\r\n      <g>\r\n       <use style=\"stroke:#000000;stroke-width:0.8;\" x=\"53.328125\" xlink:href=\"#m9b4366638d\" y=\"118.328155\"/>\r\n      </g>\r\n     </g>\r\n     <g id=\"text_41\">\r\n      <!-- 2000 -->\r\n      <g transform=\"translate(20.878125 122.127374)scale(0.1 -0.1)\">\r\n       <use xlink:href=\"#DejaVuSans-50\"/>\r\n       <use x=\"63.623047\" xlink:href=\"#DejaVuSans-48\"/>\r\n       <use x=\"127.246094\" xlink:href=\"#DejaVuSans-48\"/>\r\n       <use x=\"190.869141\" xlink:href=\"#DejaVuSans-48\"/>\r\n      </g>\r\n     </g>\r\n    </g>\r\n    <g id=\"ytick_6\">\r\n     <g id=\"line2d_41\">\r\n      <g>\r\n       <use style=\"stroke:#000000;stroke-width:0.8;\" x=\"53.328125\" xlink:href=\"#m9b4366638d\" y=\"87.021103\"/>\r\n      </g>\r\n     </g>\r\n     <g id=\"text_42\">\r\n      <!-- 2500 -->\r\n      <g transform=\"translate(20.878125 90.820322)scale(0.1 -0.1)\">\r\n       <use xlink:href=\"#DejaVuSans-50\"/>\r\n       <use x=\"63.623047\" xlink:href=\"#DejaVuSans-53\"/>\r\n       <use x=\"127.246094\" xlink:href=\"#DejaVuSans-48\"/>\r\n       <use x=\"190.869141\" xlink:href=\"#DejaVuSans-48\"/>\r\n      </g>\r\n     </g>\r\n    </g>\r\n    <g id=\"ytick_7\">\r\n     <g id=\"line2d_42\">\r\n      <g>\r\n       <use style=\"stroke:#000000;stroke-width:0.8;\" x=\"53.328125\" xlink:href=\"#m9b4366638d\" y=\"55.714051\"/>\r\n      </g>\r\n     </g>\r\n     <g id=\"text_43\">\r\n      <!-- 3000 -->\r\n      <g transform=\"translate(20.878125 59.513269)scale(0.1 -0.1)\">\r\n       <use xlink:href=\"#DejaVuSans-51\"/>\r\n       <use x=\"63.623047\" xlink:href=\"#DejaVuSans-48\"/>\r\n       <use x=\"127.246094\" xlink:href=\"#DejaVuSans-48\"/>\r\n       <use x=\"190.869141\" xlink:href=\"#DejaVuSans-48\"/>\r\n      </g>\r\n     </g>\r\n    </g>\r\n    <g id=\"text_44\">\r\n     <!-- Amount of fake news generated -->\r\n     <g transform=\"translate(14.798438 224.923906)rotate(-90)scale(0.1 -0.1)\">\r\n      <defs>\r\n       <path d=\"M 34.1875 63.1875 \r\nL 20.796875 26.90625 \r\nL 47.609375 26.90625 \r\nz\r\nM 28.609375 72.90625 \r\nL 39.796875 72.90625 \r\nL 67.578125 0 \r\nL 57.328125 0 \r\nL 50.6875 18.703125 \r\nL 17.828125 18.703125 \r\nL 11.1875 0 \r\nL 0.78125 0 \r\nz\r\n\" id=\"DejaVuSans-65\"/>\r\n       <path d=\"M 52 44.1875 \r\nQ 55.375 50.25 60.0625 53.125 \r\nQ 64.75 56 71.09375 56 \r\nQ 79.640625 56 84.28125 50.015625 \r\nQ 88.921875 44.046875 88.921875 33.015625 \r\nL 88.921875 0 \r\nL 79.890625 0 \r\nL 79.890625 32.71875 \r\nQ 79.890625 40.578125 77.09375 44.375 \r\nQ 74.3125 48.1875 68.609375 48.1875 \r\nQ 61.625 48.1875 57.5625 43.546875 \r\nQ 53.515625 38.921875 53.515625 30.90625 \r\nL 53.515625 0 \r\nL 44.484375 0 \r\nL 44.484375 32.71875 \r\nQ 44.484375 40.625 41.703125 44.40625 \r\nQ 38.921875 48.1875 33.109375 48.1875 \r\nQ 26.21875 48.1875 22.15625 43.53125 \r\nQ 18.109375 38.875 18.109375 30.90625 \r\nL 18.109375 0 \r\nL 9.078125 0 \r\nL 9.078125 54.6875 \r\nL 18.109375 54.6875 \r\nL 18.109375 46.1875 \r\nQ 21.1875 51.21875 25.484375 53.609375 \r\nQ 29.78125 56 35.6875 56 \r\nQ 41.65625 56 45.828125 52.96875 \r\nQ 50 49.953125 52 44.1875 \r\nz\r\n\" id=\"DejaVuSans-109\"/>\r\n       <path d=\"M 8.5 21.578125 \r\nL 8.5 54.6875 \r\nL 17.484375 54.6875 \r\nL 17.484375 21.921875 \r\nQ 17.484375 14.15625 20.5 10.265625 \r\nQ 23.53125 6.390625 29.59375 6.390625 \r\nQ 36.859375 6.390625 41.078125 11.03125 \r\nQ 45.3125 15.671875 45.3125 23.6875 \r\nL 45.3125 54.6875 \r\nL 54.296875 54.6875 \r\nL 54.296875 0 \r\nL 45.3125 0 \r\nL 45.3125 8.40625 \r\nQ 42.046875 3.421875 37.71875 1 \r\nQ 33.40625 -1.421875 27.6875 -1.421875 \r\nQ 18.265625 -1.421875 13.375 4.4375 \r\nQ 8.5 10.296875 8.5 21.578125 \r\nz\r\nM 31.109375 56 \r\nz\r\n\" id=\"DejaVuSans-117\"/>\r\n       <path d=\"M 37.109375 75.984375 \r\nL 37.109375 68.5 \r\nL 28.515625 68.5 \r\nQ 23.6875 68.5 21.796875 66.546875 \r\nQ 19.921875 64.59375 19.921875 59.515625 \r\nL 19.921875 54.6875 \r\nL 34.71875 54.6875 \r\nL 34.71875 47.703125 \r\nL 19.921875 47.703125 \r\nL 19.921875 0 \r\nL 10.890625 0 \r\nL 10.890625 47.703125 \r\nL 2.296875 47.703125 \r\nL 2.296875 54.6875 \r\nL 10.890625 54.6875 \r\nL 10.890625 58.5 \r\nQ 10.890625 67.625 15.140625 71.796875 \r\nQ 19.390625 75.984375 28.609375 75.984375 \r\nz\r\n\" id=\"DejaVuSans-102\"/>\r\n       <path d=\"M 9.078125 75.984375 \r\nL 18.109375 75.984375 \r\nL 18.109375 31.109375 \r\nL 44.921875 54.6875 \r\nL 56.390625 54.6875 \r\nL 27.390625 29.109375 \r\nL 57.625 0 \r\nL 45.90625 0 \r\nL 18.109375 26.703125 \r\nL 18.109375 0 \r\nL 9.078125 0 \r\nz\r\n\" id=\"DejaVuSans-107\"/>\r\n       <path d=\"M 4.203125 54.6875 \r\nL 13.1875 54.6875 \r\nL 24.421875 12.015625 \r\nL 35.59375 54.6875 \r\nL 46.1875 54.6875 \r\nL 57.421875 12.015625 \r\nL 68.609375 54.6875 \r\nL 77.59375 54.6875 \r\nL 63.28125 0 \r\nL 52.6875 0 \r\nL 40.921875 44.828125 \r\nL 29.109375 0 \r\nL 18.5 0 \r\nz\r\n\" id=\"DejaVuSans-119\"/>\r\n       <path d=\"M 44.28125 53.078125 \r\nL 44.28125 44.578125 \r\nQ 40.484375 46.53125 36.375 47.5 \r\nQ 32.28125 48.484375 27.875 48.484375 \r\nQ 21.1875 48.484375 17.84375 46.4375 \r\nQ 14.5 44.390625 14.5 40.28125 \r\nQ 14.5 37.15625 16.890625 35.375 \r\nQ 19.28125 33.59375 26.515625 31.984375 \r\nL 29.59375 31.296875 \r\nQ 39.15625 29.25 43.1875 25.515625 \r\nQ 47.21875 21.78125 47.21875 15.09375 \r\nQ 47.21875 7.46875 41.1875 3.015625 \r\nQ 35.15625 -1.421875 24.609375 -1.421875 \r\nQ 20.21875 -1.421875 15.453125 -0.5625 \r\nQ 10.6875 0.296875 5.421875 2 \r\nL 5.421875 11.28125 \r\nQ 10.40625 8.6875 15.234375 7.390625 \r\nQ 20.0625 6.109375 24.8125 6.109375 \r\nQ 31.15625 6.109375 34.5625 8.28125 \r\nQ 37.984375 10.453125 37.984375 14.40625 \r\nQ 37.984375 18.0625 35.515625 20.015625 \r\nQ 33.0625 21.96875 24.703125 23.78125 \r\nL 21.578125 24.515625 \r\nQ 13.234375 26.265625 9.515625 29.90625 \r\nQ 5.8125 33.546875 5.8125 39.890625 \r\nQ 5.8125 47.609375 11.28125 51.796875 \r\nQ 16.75 56 26.8125 56 \r\nQ 31.78125 56 36.171875 55.265625 \r\nQ 40.578125 54.546875 44.28125 53.078125 \r\nz\r\n\" id=\"DejaVuSans-115\"/>\r\n       <path d=\"M 45.40625 27.984375 \r\nQ 45.40625 37.75 41.375 43.109375 \r\nQ 37.359375 48.484375 30.078125 48.484375 \r\nQ 22.859375 48.484375 18.828125 43.109375 \r\nQ 14.796875 37.75 14.796875 27.984375 \r\nQ 14.796875 18.265625 18.828125 12.890625 \r\nQ 22.859375 7.515625 30.078125 7.515625 \r\nQ 37.359375 7.515625 41.375 12.890625 \r\nQ 45.40625 18.265625 45.40625 27.984375 \r\nz\r\nM 54.390625 6.78125 \r\nQ 54.390625 -7.171875 48.1875 -13.984375 \r\nQ 42 -20.796875 29.203125 -20.796875 \r\nQ 24.46875 -20.796875 20.265625 -20.09375 \r\nQ 16.0625 -19.390625 12.109375 -17.921875 \r\nL 12.109375 -9.1875 \r\nQ 16.0625 -11.328125 19.921875 -12.34375 \r\nQ 23.78125 -13.375 27.78125 -13.375 \r\nQ 36.625 -13.375 41.015625 -8.765625 \r\nQ 45.40625 -4.15625 45.40625 5.171875 \r\nL 45.40625 9.625 \r\nQ 42.625 4.78125 38.28125 2.390625 \r\nQ 33.9375 0 27.875 0 \r\nQ 17.828125 0 11.671875 7.65625 \r\nQ 5.515625 15.328125 5.515625 27.984375 \r\nQ 5.515625 40.671875 11.671875 48.328125 \r\nQ 17.828125 56 27.875 56 \r\nQ 33.9375 56 38.28125 53.609375 \r\nQ 42.625 51.21875 45.40625 46.390625 \r\nL 45.40625 54.6875 \r\nL 54.390625 54.6875 \r\nz\r\n\" id=\"DejaVuSans-103\"/>\r\n       <path d=\"M 45.40625 46.390625 \r\nL 45.40625 75.984375 \r\nL 54.390625 75.984375 \r\nL 54.390625 0 \r\nL 45.40625 0 \r\nL 45.40625 8.203125 \r\nQ 42.578125 3.328125 38.25 0.953125 \r\nQ 33.9375 -1.421875 27.875 -1.421875 \r\nQ 17.96875 -1.421875 11.734375 6.484375 \r\nQ 5.515625 14.40625 5.515625 27.296875 \r\nQ 5.515625 40.1875 11.734375 48.09375 \r\nQ 17.96875 56 27.875 56 \r\nQ 33.9375 56 38.25 53.625 \r\nQ 42.578125 51.265625 45.40625 46.390625 \r\nz\r\nM 14.796875 27.296875 \r\nQ 14.796875 17.390625 18.875 11.75 \r\nQ 22.953125 6.109375 30.078125 6.109375 \r\nQ 37.203125 6.109375 41.296875 11.75 \r\nQ 45.40625 17.390625 45.40625 27.296875 \r\nQ 45.40625 37.203125 41.296875 42.84375 \r\nQ 37.203125 48.484375 30.078125 48.484375 \r\nQ 22.953125 48.484375 18.875 42.84375 \r\nQ 14.796875 37.203125 14.796875 27.296875 \r\nz\r\n\" id=\"DejaVuSans-100\"/>\r\n      </defs>\r\n      <use xlink:href=\"#DejaVuSans-65\"/>\r\n      <use x=\"68.408203\" xlink:href=\"#DejaVuSans-109\"/>\r\n      <use x=\"165.820312\" xlink:href=\"#DejaVuSans-111\"/>\r\n      <use x=\"227.001953\" xlink:href=\"#DejaVuSans-117\"/>\r\n      <use x=\"290.380859\" xlink:href=\"#DejaVuSans-110\"/>\r\n      <use x=\"353.759766\" xlink:href=\"#DejaVuSans-116\"/>\r\n      <use x=\"392.96875\" xlink:href=\"#DejaVuSans-32\"/>\r\n      <use x=\"424.755859\" xlink:href=\"#DejaVuSans-111\"/>\r\n      <use x=\"485.9375\" xlink:href=\"#DejaVuSans-102\"/>\r\n      <use x=\"521.142578\" xlink:href=\"#DejaVuSans-32\"/>\r\n      <use x=\"552.929688\" xlink:href=\"#DejaVuSans-102\"/>\r\n      <use x=\"588.134766\" xlink:href=\"#DejaVuSans-97\"/>\r\n      <use x=\"649.414062\" xlink:href=\"#DejaVuSans-107\"/>\r\n      <use x=\"703.699219\" xlink:href=\"#DejaVuSans-101\"/>\r\n      <use x=\"765.222656\" xlink:href=\"#DejaVuSans-32\"/>\r\n      <use x=\"797.009766\" xlink:href=\"#DejaVuSans-110\"/>\r\n      <use x=\"860.388672\" xlink:href=\"#DejaVuSans-101\"/>\r\n      <use x=\"921.912109\" xlink:href=\"#DejaVuSans-119\"/>\r\n      <use x=\"1003.699219\" xlink:href=\"#DejaVuSans-115\"/>\r\n      <use x=\"1055.798828\" xlink:href=\"#DejaVuSans-32\"/>\r\n      <use x=\"1087.585938\" xlink:href=\"#DejaVuSans-103\"/>\r\n      <use x=\"1151.0625\" xlink:href=\"#DejaVuSans-101\"/>\r\n      <use x=\"1212.585938\" xlink:href=\"#DejaVuSans-110\"/>\r\n      <use x=\"1275.964844\" xlink:href=\"#DejaVuSans-101\"/>\r\n      <use x=\"1337.488281\" xlink:href=\"#DejaVuSans-114\"/>\r\n      <use x=\"1378.601562\" xlink:href=\"#DejaVuSans-97\"/>\r\n      <use x=\"1439.880859\" xlink:href=\"#DejaVuSans-116\"/>\r\n      <use x=\"1479.089844\" xlink:href=\"#DejaVuSans-101\"/>\r\n      <use x=\"1540.613281\" xlink:href=\"#DejaVuSans-100\"/>\r\n     </g>\r\n    </g>\r\n   </g>\r\n   <g id=\"line2d_43\">\r\n    <path clip-path=\"url(#p5619ffbe78)\" d=\"M 68.546307 243.556364 \r\nL 77.498178 243.556364 \r\nL 86.45005 243.556364 \r\nL 95.401922 243.556364 \r\nL 104.353793 243.556364 \r\nL 113.305665 243.556364 \r\nL 122.257537 243.556364 \r\nL 131.209408 243.556364 \r\nL 140.16128 243.556364 \r\nL 149.113152 243.556364 \r\nL 158.065023 228.153294 \r\nL 167.016895 216.757527 \r\nL 175.968767 212.938067 \r\nL 184.920638 219.575162 \r\nL 193.87251 218.886407 \r\nL 202.824382 217.383668 \r\nL 211.776253 222.45541 \r\nL 220.728125 226.963626 \r\nL 229.679997 221.641427 \r\nL 238.631868 222.643253 \r\nL 247.58374 203.796407 \r\nL 256.535612 217.133212 \r\nL 265.487483 196.595785 \r\nL 274.439355 206.676656 \r\nL 283.391227 201.041387 \r\nL 292.343098 210.496117 \r\nL 301.29497 211.998855 \r\nL 310.246842 208.805536 \r\nL 319.198713 209.869976 \r\nL 328.150585 202.794582 \r\nL 337.102457 51.831976 \r\nL 346.054328 45.883636 \r\nL 355.0062 50.642308 \r\nL 363.958072 92.280688 \r\nL 372.909943 243.556364 \r\n\" style=\"fill:none;stroke:#ff0000;stroke-linecap:square;stroke-width:2;\"/>\r\n   </g>\r\n   <g id=\"patch_3\">\r\n    <path d=\"M 53.328125 253.44 \r\nL 53.328125 36 \r\n\" style=\"fill:none;stroke:#000000;stroke-linecap:square;stroke-linejoin:miter;stroke-width:0.8;\"/>\r\n   </g>\r\n   <g id=\"patch_4\">\r\n    <path d=\"M 388.128125 253.44 \r\nL 388.128125 36 \r\n\" style=\"fill:none;stroke:#000000;stroke-linecap:square;stroke-linejoin:miter;stroke-width:0.8;\"/>\r\n   </g>\r\n   <g id=\"patch_5\">\r\n    <path d=\"M 53.328125 253.44 \r\nL 388.128125 253.44 \r\n\" style=\"fill:none;stroke:#000000;stroke-linecap:square;stroke-linejoin:miter;stroke-width:0.8;\"/>\r\n   </g>\r\n   <g id=\"patch_6\">\r\n    <path d=\"M 53.328125 36 \r\nL 388.128125 36 \r\n\" style=\"fill:none;stroke:#000000;stroke-linecap:square;stroke-linejoin:miter;stroke-width:0.8;\"/>\r\n   </g>\r\n  </g>\r\n  <g id=\"text_45\">\r\n   <!-- Fake News trends over years -->\r\n   <g transform=\"translate(128.9525 16.318125)scale(0.12 -0.12)\">\r\n    <defs>\r\n     <path d=\"M 9.8125 72.90625 \r\nL 51.703125 72.90625 \r\nL 51.703125 64.59375 \r\nL 19.671875 64.59375 \r\nL 19.671875 43.109375 \r\nL 48.578125 43.109375 \r\nL 48.578125 34.8125 \r\nL 19.671875 34.8125 \r\nL 19.671875 0 \r\nL 9.8125 0 \r\nz\r\n\" id=\"DejaVuSans-70\"/>\r\n     <path d=\"M 9.8125 72.90625 \r\nL 23.09375 72.90625 \r\nL 55.421875 11.921875 \r\nL 55.421875 72.90625 \r\nL 64.984375 72.90625 \r\nL 64.984375 0 \r\nL 51.703125 0 \r\nL 19.390625 60.984375 \r\nL 19.390625 0 \r\nL 9.8125 0 \r\nz\r\n\" id=\"DejaVuSans-78\"/>\r\n     <path d=\"M 2.984375 54.6875 \r\nL 12.5 54.6875 \r\nL 29.59375 8.796875 \r\nL 46.6875 54.6875 \r\nL 56.203125 54.6875 \r\nL 35.6875 0 \r\nL 23.484375 0 \r\nz\r\n\" id=\"DejaVuSans-118\"/>\r\n     <path d=\"M 32.171875 -5.078125 \r\nQ 28.375 -14.84375 24.75 -17.8125 \r\nQ 21.140625 -20.796875 15.09375 -20.796875 \r\nL 7.90625 -20.796875 \r\nL 7.90625 -13.28125 \r\nL 13.1875 -13.28125 \r\nQ 16.890625 -13.28125 18.9375 -11.515625 \r\nQ 21 -9.765625 23.484375 -3.21875 \r\nL 25.09375 0.875 \r\nL 2.984375 54.6875 \r\nL 12.5 54.6875 \r\nL 29.59375 11.921875 \r\nL 46.6875 54.6875 \r\nL 56.203125 54.6875 \r\nz\r\n\" id=\"DejaVuSans-121\"/>\r\n    </defs>\r\n    <use xlink:href=\"#DejaVuSans-70\"/>\r\n    <use x=\"48.394531\" xlink:href=\"#DejaVuSans-97\"/>\r\n    <use x=\"109.673828\" xlink:href=\"#DejaVuSans-107\"/>\r\n    <use x=\"163.958984\" xlink:href=\"#DejaVuSans-101\"/>\r\n    <use x=\"225.482422\" xlink:href=\"#DejaVuSans-32\"/>\r\n    <use x=\"257.269531\" xlink:href=\"#DejaVuSans-78\"/>\r\n    <use x=\"332.074219\" xlink:href=\"#DejaVuSans-101\"/>\r\n    <use x=\"393.597656\" xlink:href=\"#DejaVuSans-119\"/>\r\n    <use x=\"475.384766\" xlink:href=\"#DejaVuSans-115\"/>\r\n    <use x=\"527.484375\" xlink:href=\"#DejaVuSans-32\"/>\r\n    <use x=\"559.271484\" xlink:href=\"#DejaVuSans-116\"/>\r\n    <use x=\"598.480469\" xlink:href=\"#DejaVuSans-114\"/>\r\n    <use x=\"637.34375\" xlink:href=\"#DejaVuSans-101\"/>\r\n    <use x=\"698.867188\" xlink:href=\"#DejaVuSans-110\"/>\r\n    <use x=\"762.246094\" xlink:href=\"#DejaVuSans-100\"/>\r\n    <use x=\"825.722656\" xlink:href=\"#DejaVuSans-115\"/>\r\n    <use x=\"877.822266\" xlink:href=\"#DejaVuSans-32\"/>\r\n    <use x=\"909.609375\" xlink:href=\"#DejaVuSans-111\"/>\r\n    <use x=\"970.791016\" xlink:href=\"#DejaVuSans-118\"/>\r\n    <use x=\"1029.970703\" xlink:href=\"#DejaVuSans-101\"/>\r\n    <use x=\"1091.494141\" xlink:href=\"#DejaVuSans-114\"/>\r\n    <use x=\"1132.607422\" xlink:href=\"#DejaVuSans-32\"/>\r\n    <use x=\"1164.394531\" xlink:href=\"#DejaVuSans-121\"/>\r\n    <use x=\"1223.574219\" xlink:href=\"#DejaVuSans-101\"/>\r\n    <use x=\"1285.097656\" xlink:href=\"#DejaVuSans-97\"/>\r\n    <use x=\"1346.376953\" xlink:href=\"#DejaVuSans-114\"/>\r\n    <use x=\"1387.490234\" xlink:href=\"#DejaVuSans-115\"/>\r\n   </g>\r\n  </g>\r\n </g>\r\n <defs>\r\n  <clipPath id=\"p5619ffbe78\">\r\n   <rect height=\"217.44\" width=\"334.8\" x=\"53.328125\" y=\"36\"/>\r\n  </clipPath>\r\n </defs>\r\n</svg>\r\n",
      "image/png": "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\n"
     },
     "metadata": {
      "needs_background": "light"
     }
    }
   ],
   "source": [
    "import matplotlib.pyplot as plt\n",
    "\n",
    "plt.suptitle('Fake News trends over years')\n",
    "plt.xticks(rotation = 90)\n",
    "plt.ylabel('Amount of fake news generated')\n",
    "plt.xlabel('Month & Year')\n",
    "plt.plot(sub.index, sub.values, linewidth=2, color='red')"
   ]
  },
  {
   "cell_type": "code",
=======
>>>>>>> 17b1f35758151cd7d63123cbc1771825918976b9
   "execution_count": null,
   "metadata": {},
   "outputs": [],
   "source": [
    "import matplotlib.pyplot as plt\n",
    "\n",
    "plt.suptitle('Fake News trends over years')\n",
    "plt.xticks(rotation = 90)\n",
    "plt.ylabel('Amount of fake news generated')\n",
    "plt.xlabel('Month & Year')\n"
   ]
  }
 ]
}