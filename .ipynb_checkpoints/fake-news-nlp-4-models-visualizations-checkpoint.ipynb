{
 "cells": [
  {
   "cell_type": "markdown",
   "metadata": {
    "papermill": {
     "duration": 0.042018,
     "end_time": "2021-03-13T18:51:00.469769",
     "exception": false,
     "start_time": "2021-03-13T18:51:00.427751",
     "status": "completed"
    },
    "tags": []
   },
   "source": [
    "<h3 align=\"center\"><font size=\"15\"><b>Fake News detection</b></font></h3> \n",
    "\n",
    "\n",
    "**Task type:** Classification\n",
    "\n",
    "**Models used:** LinearSVC, MultinomialNB, XGBoost, PyCaret, CatBoost\n",
    "\n",
    "**Tools used:** NLP preprocessing tools, semi-supervised learning technique, new feature engineering, Word Cloud"
   ]
  },
  {
   "cell_type": "code",
   "execution_count": 1,
   "metadata": {
    "_cell_guid": "b1076dfc-b9ad-4769-8c92-a6c4dae69d19",
    "_uuid": "8f2839f25d086af736a60e9eeb907d3b93b6e0e5",
    "execution": {
     "iopub.execute_input": "2021-03-13T18:51:00.552638Z",
     "iopub.status.busy": "2021-03-13T18:51:00.551838Z",
     "iopub.status.idle": "2021-03-13T18:51:00.568977Z",
     "shell.execute_reply": "2021-03-13T18:51:00.568163Z"
    },
    "papermill": {
     "duration": 0.059923,
     "end_time": "2021-03-13T18:51:00.569191",
     "exception": false,
     "start_time": "2021-03-13T18:51:00.509268",
     "status": "completed"
    },
    "tags": []
   },
   "outputs": [
    {
     "name": "stdout",
     "output_type": "stream",
     "text": [
      "/kaggle/input/fake-and-real-news-dataset/True.csv\n",
      "/kaggle/input/fake-and-real-news-dataset/Fake.csv\n"
     ]
    }
   ],
   "source": [
    "# This Python 3 environment comes with many helpful analytics libraries installed\n",
    "# It is defined by the kaggle/python Docker image: https://github.com/kaggle/docker-python\n",
    "# For example, here's several helpful packages to load\n",
    "\n",
    "import numpy as np # linear algebra\n",
    "import pandas as pd # data processing, CSV file I/O (e.g. pd.read_csv)\n",
    "\n",
    "# Input data files are available in the read-only \"../input/\" directory\n",
    "# For example, running this (by clicking run or pressing Shift+Enter) will list all files under the input directory\n",
    "\n",
    "import os\n",
    "for dirname, _, filenames in os.walk('/kaggle/input'):\n",
    "    for filename in filenames:\n",
    "        print(os.path.join(dirname, filename))\n",
    "\n",
    "# You can write up to 20GB to the current directory (/kaggle/working/) that gets preserved as output when you create a version using \"Save & Run All\" \n",
    "# You can also write temporary files to /kaggle/temp/, but they won't be saved outside of the current session"
   ]
  },
  {
   "cell_type": "markdown",
   "metadata": {
    "papermill": {
     "duration": 0.041385,
     "end_time": "2021-03-13T18:51:00.650530",
     "exception": false,
     "start_time": "2021-03-13T18:51:00.609145",
     "status": "completed"
    },
    "tags": []
   },
   "source": [
    "# 1. Loading data"
   ]
  },
  {
   "cell_type": "code",
   "execution_count": 2,
   "metadata": {
    "execution": {
     "iopub.execute_input": "2021-03-13T18:51:00.736412Z",
     "iopub.status.busy": "2021-03-13T18:51:00.735696Z",
     "iopub.status.idle": "2021-03-13T18:51:02.537693Z",
     "shell.execute_reply": "2021-03-13T18:51:02.537042Z"
    },
    "papermill": {
     "duration": 1.84798,
     "end_time": "2021-03-13T18:51:02.537860",
     "exception": false,
     "start_time": "2021-03-13T18:51:00.689880",
     "status": "completed"
    },
    "tags": []
   },
   "outputs": [
    {
     "data": {
      "text/html": [
       "<div>\n",
       "<style scoped>\n",
       "    .dataframe tbody tr th:only-of-type {\n",
       "        vertical-align: middle;\n",
       "    }\n",
       "\n",
       "    .dataframe tbody tr th {\n",
       "        vertical-align: top;\n",
       "    }\n",
       "\n",
       "    .dataframe thead th {\n",
       "        text-align: right;\n",
       "    }\n",
       "</style>\n",
       "<table border=\"1\" class=\"dataframe\">\n",
       "  <thead>\n",
       "    <tr style=\"text-align: right;\">\n",
       "      <th></th>\n",
       "      <th>title</th>\n",
       "      <th>text</th>\n",
       "      <th>subject</th>\n",
       "      <th>date</th>\n",
       "      <th>flag</th>\n",
       "    </tr>\n",
       "  </thead>\n",
       "  <tbody>\n",
       "    <tr>\n",
       "      <th>0</th>\n",
       "      <td>Donald Trump Sends Out Embarrassing New Year’...</td>\n",
       "      <td>Donald Trump just couldn t wish all Americans ...</td>\n",
       "      <td>News</td>\n",
       "      <td>December 31, 2017</td>\n",
       "      <td>0</td>\n",
       "    </tr>\n",
       "    <tr>\n",
       "      <th>1</th>\n",
       "      <td>Drunk Bragging Trump Staffer Started Russian ...</td>\n",
       "      <td>House Intelligence Committee Chairman Devin Nu...</td>\n",
       "      <td>News</td>\n",
       "      <td>December 31, 2017</td>\n",
       "      <td>0</td>\n",
       "    </tr>\n",
       "    <tr>\n",
       "      <th>2</th>\n",
       "      <td>Sheriff David Clarke Becomes An Internet Joke...</td>\n",
       "      <td>On Friday, it was revealed that former Milwauk...</td>\n",
       "      <td>News</td>\n",
       "      <td>December 30, 2017</td>\n",
       "      <td>0</td>\n",
       "    </tr>\n",
       "    <tr>\n",
       "      <th>3</th>\n",
       "      <td>Trump Is So Obsessed He Even Has Obama’s Name...</td>\n",
       "      <td>On Christmas day, Donald Trump announced that ...</td>\n",
       "      <td>News</td>\n",
       "      <td>December 29, 2017</td>\n",
       "      <td>0</td>\n",
       "    </tr>\n",
       "    <tr>\n",
       "      <th>4</th>\n",
       "      <td>Pope Francis Just Called Out Donald Trump Dur...</td>\n",
       "      <td>Pope Francis used his annual Christmas Day mes...</td>\n",
       "      <td>News</td>\n",
       "      <td>December 25, 2017</td>\n",
       "      <td>0</td>\n",
       "    </tr>\n",
       "    <tr>\n",
       "      <th>...</th>\n",
       "      <td>...</td>\n",
       "      <td>...</td>\n",
       "      <td>...</td>\n",
       "      <td>...</td>\n",
       "      <td>...</td>\n",
       "    </tr>\n",
       "    <tr>\n",
       "      <th>23476</th>\n",
       "      <td>McPain: John McCain Furious That Iran Treated ...</td>\n",
       "      <td>21st Century Wire says As 21WIRE reported earl...</td>\n",
       "      <td>Middle-east</td>\n",
       "      <td>January 16, 2016</td>\n",
       "      <td>0</td>\n",
       "    </tr>\n",
       "    <tr>\n",
       "      <th>23477</th>\n",
       "      <td>JUSTICE? Yahoo Settles E-mail Privacy Class-ac...</td>\n",
       "      <td>21st Century Wire says It s a familiar theme. ...</td>\n",
       "      <td>Middle-east</td>\n",
       "      <td>January 16, 2016</td>\n",
       "      <td>0</td>\n",
       "    </tr>\n",
       "    <tr>\n",
       "      <th>23478</th>\n",
       "      <td>Sunnistan: US and Allied ‘Safe Zone’ Plan to T...</td>\n",
       "      <td>Patrick Henningsen  21st Century WireRemember ...</td>\n",
       "      <td>Middle-east</td>\n",
       "      <td>January 15, 2016</td>\n",
       "      <td>0</td>\n",
       "    </tr>\n",
       "    <tr>\n",
       "      <th>23479</th>\n",
       "      <td>How to Blow $700 Million: Al Jazeera America F...</td>\n",
       "      <td>21st Century Wire says Al Jazeera America will...</td>\n",
       "      <td>Middle-east</td>\n",
       "      <td>January 14, 2016</td>\n",
       "      <td>0</td>\n",
       "    </tr>\n",
       "    <tr>\n",
       "      <th>23480</th>\n",
       "      <td>10 U.S. Navy Sailors Held by Iranian Military ...</td>\n",
       "      <td>21st Century Wire says As 21WIRE predicted in ...</td>\n",
       "      <td>Middle-east</td>\n",
       "      <td>January 12, 2016</td>\n",
       "      <td>0</td>\n",
       "    </tr>\n",
       "  </tbody>\n",
       "</table>\n",
       "<p>23481 rows × 5 columns</p>\n",
       "</div>"
      ],
      "text/plain": [
       "                                                   title  \\\n",
       "0       Donald Trump Sends Out Embarrassing New Year’...   \n",
       "1       Drunk Bragging Trump Staffer Started Russian ...   \n",
       "2       Sheriff David Clarke Becomes An Internet Joke...   \n",
       "3       Trump Is So Obsessed He Even Has Obama’s Name...   \n",
       "4       Pope Francis Just Called Out Donald Trump Dur...   \n",
       "...                                                  ...   \n",
       "23476  McPain: John McCain Furious That Iran Treated ...   \n",
       "23477  JUSTICE? Yahoo Settles E-mail Privacy Class-ac...   \n",
       "23478  Sunnistan: US and Allied ‘Safe Zone’ Plan to T...   \n",
       "23479  How to Blow $700 Million: Al Jazeera America F...   \n",
       "23480  10 U.S. Navy Sailors Held by Iranian Military ...   \n",
       "\n",
       "                                                    text      subject  \\\n",
       "0      Donald Trump just couldn t wish all Americans ...         News   \n",
       "1      House Intelligence Committee Chairman Devin Nu...         News   \n",
       "2      On Friday, it was revealed that former Milwauk...         News   \n",
       "3      On Christmas day, Donald Trump announced that ...         News   \n",
       "4      Pope Francis used his annual Christmas Day mes...         News   \n",
       "...                                                  ...          ...   \n",
       "23476  21st Century Wire says As 21WIRE reported earl...  Middle-east   \n",
       "23477  21st Century Wire says It s a familiar theme. ...  Middle-east   \n",
       "23478  Patrick Henningsen  21st Century WireRemember ...  Middle-east   \n",
       "23479  21st Century Wire says Al Jazeera America will...  Middle-east   \n",
       "23480  21st Century Wire says As 21WIRE predicted in ...  Middle-east   \n",
       "\n",
       "                    date  flag  \n",
       "0      December 31, 2017     0  \n",
       "1      December 31, 2017     0  \n",
       "2      December 30, 2017     0  \n",
       "3      December 29, 2017     0  \n",
       "4      December 25, 2017     0  \n",
       "...                  ...   ...  \n",
       "23476   January 16, 2016     0  \n",
       "23477   January 16, 2016     0  \n",
       "23478   January 15, 2016     0  \n",
       "23479   January 14, 2016     0  \n",
       "23480   January 12, 2016     0  \n",
       "\n",
       "[23481 rows x 5 columns]"
      ]
     },
     "execution_count": 2,
     "metadata": {},
     "output_type": "execute_result"
    }
   ],
   "source": [
    "fake = pd.read_csv('../input/fake-and-real-news-dataset/Fake.csv')\n",
    "fake['flag'] = 0\n",
    "fake"
   ]
  },
  {
   "cell_type": "code",
   "execution_count": 3,
   "metadata": {
    "execution": {
     "iopub.execute_input": "2021-03-13T18:51:02.626593Z",
     "iopub.status.busy": "2021-03-13T18:51:02.625721Z",
     "iopub.status.idle": "2021-03-13T18:51:03.961065Z",
     "shell.execute_reply": "2021-03-13T18:51:03.961575Z"
    },
    "papermill": {
     "duration": 1.382106,
     "end_time": "2021-03-13T18:51:03.961785",
     "exception": false,
     "start_time": "2021-03-13T18:51:02.579679",
     "status": "completed"
    },
    "tags": []
   },
   "outputs": [
    {
     "data": {
      "text/html": [
       "<div>\n",
       "<style scoped>\n",
       "    .dataframe tbody tr th:only-of-type {\n",
       "        vertical-align: middle;\n",
       "    }\n",
       "\n",
       "    .dataframe tbody tr th {\n",
       "        vertical-align: top;\n",
       "    }\n",
       "\n",
       "    .dataframe thead th {\n",
       "        text-align: right;\n",
       "    }\n",
       "</style>\n",
       "<table border=\"1\" class=\"dataframe\">\n",
       "  <thead>\n",
       "    <tr style=\"text-align: right;\">\n",
       "      <th></th>\n",
       "      <th>title</th>\n",
       "      <th>text</th>\n",
       "      <th>subject</th>\n",
       "      <th>date</th>\n",
       "      <th>flag</th>\n",
       "    </tr>\n",
       "  </thead>\n",
       "  <tbody>\n",
       "    <tr>\n",
       "      <th>0</th>\n",
       "      <td>As U.S. budget fight looms, Republicans flip t...</td>\n",
       "      <td>WASHINGTON (Reuters) - The head of a conservat...</td>\n",
       "      <td>politicsNews</td>\n",
       "      <td>December 31, 2017</td>\n",
       "      <td>1</td>\n",
       "    </tr>\n",
       "    <tr>\n",
       "      <th>1</th>\n",
       "      <td>U.S. military to accept transgender recruits o...</td>\n",
       "      <td>WASHINGTON (Reuters) - Transgender people will...</td>\n",
       "      <td>politicsNews</td>\n",
       "      <td>December 29, 2017</td>\n",
       "      <td>1</td>\n",
       "    </tr>\n",
       "    <tr>\n",
       "      <th>2</th>\n",
       "      <td>Senior U.S. Republican senator: 'Let Mr. Muell...</td>\n",
       "      <td>WASHINGTON (Reuters) - The special counsel inv...</td>\n",
       "      <td>politicsNews</td>\n",
       "      <td>December 31, 2017</td>\n",
       "      <td>1</td>\n",
       "    </tr>\n",
       "    <tr>\n",
       "      <th>3</th>\n",
       "      <td>FBI Russia probe helped by Australian diplomat...</td>\n",
       "      <td>WASHINGTON (Reuters) - Trump campaign adviser ...</td>\n",
       "      <td>politicsNews</td>\n",
       "      <td>December 30, 2017</td>\n",
       "      <td>1</td>\n",
       "    </tr>\n",
       "    <tr>\n",
       "      <th>4</th>\n",
       "      <td>Trump wants Postal Service to charge 'much mor...</td>\n",
       "      <td>SEATTLE/WASHINGTON (Reuters) - President Donal...</td>\n",
       "      <td>politicsNews</td>\n",
       "      <td>December 29, 2017</td>\n",
       "      <td>1</td>\n",
       "    </tr>\n",
       "    <tr>\n",
       "      <th>...</th>\n",
       "      <td>...</td>\n",
       "      <td>...</td>\n",
       "      <td>...</td>\n",
       "      <td>...</td>\n",
       "      <td>...</td>\n",
       "    </tr>\n",
       "    <tr>\n",
       "      <th>21412</th>\n",
       "      <td>'Fully committed' NATO backs new U.S. approach...</td>\n",
       "      <td>BRUSSELS (Reuters) - NATO allies on Tuesday we...</td>\n",
       "      <td>worldnews</td>\n",
       "      <td>August 22, 2017</td>\n",
       "      <td>1</td>\n",
       "    </tr>\n",
       "    <tr>\n",
       "      <th>21413</th>\n",
       "      <td>LexisNexis withdrew two products from Chinese ...</td>\n",
       "      <td>LONDON (Reuters) - LexisNexis, a provider of l...</td>\n",
       "      <td>worldnews</td>\n",
       "      <td>August 22, 2017</td>\n",
       "      <td>1</td>\n",
       "    </tr>\n",
       "    <tr>\n",
       "      <th>21414</th>\n",
       "      <td>Minsk cultural hub becomes haven from authorities</td>\n",
       "      <td>MINSK (Reuters) - In the shadow of disused Sov...</td>\n",
       "      <td>worldnews</td>\n",
       "      <td>August 22, 2017</td>\n",
       "      <td>1</td>\n",
       "    </tr>\n",
       "    <tr>\n",
       "      <th>21415</th>\n",
       "      <td>Vatican upbeat on possibility of Pope Francis ...</td>\n",
       "      <td>MOSCOW (Reuters) - Vatican Secretary of State ...</td>\n",
       "      <td>worldnews</td>\n",
       "      <td>August 22, 2017</td>\n",
       "      <td>1</td>\n",
       "    </tr>\n",
       "    <tr>\n",
       "      <th>21416</th>\n",
       "      <td>Indonesia to buy $1.14 billion worth of Russia...</td>\n",
       "      <td>JAKARTA (Reuters) - Indonesia will buy 11 Sukh...</td>\n",
       "      <td>worldnews</td>\n",
       "      <td>August 22, 2017</td>\n",
       "      <td>1</td>\n",
       "    </tr>\n",
       "  </tbody>\n",
       "</table>\n",
       "<p>21417 rows × 5 columns</p>\n",
       "</div>"
      ],
      "text/plain": [
       "                                                   title  \\\n",
       "0      As U.S. budget fight looms, Republicans flip t...   \n",
       "1      U.S. military to accept transgender recruits o...   \n",
       "2      Senior U.S. Republican senator: 'Let Mr. Muell...   \n",
       "3      FBI Russia probe helped by Australian diplomat...   \n",
       "4      Trump wants Postal Service to charge 'much mor...   \n",
       "...                                                  ...   \n",
       "21412  'Fully committed' NATO backs new U.S. approach...   \n",
       "21413  LexisNexis withdrew two products from Chinese ...   \n",
       "21414  Minsk cultural hub becomes haven from authorities   \n",
       "21415  Vatican upbeat on possibility of Pope Francis ...   \n",
       "21416  Indonesia to buy $1.14 billion worth of Russia...   \n",
       "\n",
       "                                                    text       subject  \\\n",
       "0      WASHINGTON (Reuters) - The head of a conservat...  politicsNews   \n",
       "1      WASHINGTON (Reuters) - Transgender people will...  politicsNews   \n",
       "2      WASHINGTON (Reuters) - The special counsel inv...  politicsNews   \n",
       "3      WASHINGTON (Reuters) - Trump campaign adviser ...  politicsNews   \n",
       "4      SEATTLE/WASHINGTON (Reuters) - President Donal...  politicsNews   \n",
       "...                                                  ...           ...   \n",
       "21412  BRUSSELS (Reuters) - NATO allies on Tuesday we...     worldnews   \n",
       "21413  LONDON (Reuters) - LexisNexis, a provider of l...     worldnews   \n",
       "21414  MINSK (Reuters) - In the shadow of disused Sov...     worldnews   \n",
       "21415  MOSCOW (Reuters) - Vatican Secretary of State ...     worldnews   \n",
       "21416  JAKARTA (Reuters) - Indonesia will buy 11 Sukh...     worldnews   \n",
       "\n",
       "                     date  flag  \n",
       "0      December 31, 2017      1  \n",
       "1      December 29, 2017      1  \n",
       "2      December 31, 2017      1  \n",
       "3      December 30, 2017      1  \n",
       "4      December 29, 2017      1  \n",
       "...                   ...   ...  \n",
       "21412    August 22, 2017      1  \n",
       "21413    August 22, 2017      1  \n",
       "21414    August 22, 2017      1  \n",
       "21415    August 22, 2017      1  \n",
       "21416    August 22, 2017      1  \n",
       "\n",
       "[21417 rows x 5 columns]"
      ]
     },
     "execution_count": 3,
     "metadata": {},
     "output_type": "execute_result"
    }
   ],
   "source": [
    "true = pd.read_csv('../input/fake-and-real-news-dataset/True.csv')\n",
    "true['flag'] = 1\n",
    "true"
   ]
  },
  {
   "cell_type": "code",
   "execution_count": 4,
   "metadata": {
    "execution": {
     "iopub.execute_input": "2021-03-13T18:51:04.060496Z",
     "iopub.status.busy": "2021-03-13T18:51:04.059732Z",
     "iopub.status.idle": "2021-03-13T18:51:04.073004Z",
     "shell.execute_reply": "2021-03-13T18:51:04.072042Z"
    },
    "papermill": {
     "duration": 0.070003,
     "end_time": "2021-03-13T18:51:04.073240",
     "exception": false,
     "start_time": "2021-03-13T18:51:04.003237",
     "status": "completed"
    },
    "tags": []
   },
   "outputs": [],
   "source": [
    "df = pd.DataFrame()\n",
    "df = true.append(fake)"
   ]
  },
  {
   "cell_type": "markdown",
   "metadata": {
    "papermill": {
     "duration": 0.048235,
     "end_time": "2021-03-13T18:51:04.173255",
     "exception": false,
     "start_time": "2021-03-13T18:51:04.125020",
     "status": "completed"
    },
    "tags": []
   },
   "source": [
    "# 2. EDA + Data cleaning"
   ]
  },
  {
   "cell_type": "markdown",
   "metadata": {
    "papermill": {
     "duration": 0.04097,
     "end_time": "2021-03-13T18:51:04.260055",
     "exception": false,
     "start_time": "2021-03-13T18:51:04.219085",
     "status": "completed"
    },
    "tags": []
   },
   "source": [
    "**Let's check the datatypes.**"
   ]
  },
  {
   "cell_type": "code",
   "execution_count": 5,
   "metadata": {
    "execution": {
     "iopub.execute_input": "2021-03-13T18:51:04.370905Z",
     "iopub.status.busy": "2021-03-13T18:51:04.369708Z",
     "iopub.status.idle": "2021-03-13T18:51:04.389427Z",
     "shell.execute_reply": "2021-03-13T18:51:04.388245Z"
    },
    "papermill": {
     "duration": 0.088552,
     "end_time": "2021-03-13T18:51:04.389671",
     "exception": false,
     "start_time": "2021-03-13T18:51:04.301119",
     "status": "completed"
    },
    "tags": []
   },
   "outputs": [
    {
     "name": "stdout",
     "output_type": "stream",
     "text": [
      "<class 'pandas.core.frame.DataFrame'>\n",
      "Int64Index: 44898 entries, 0 to 23480\n",
      "Data columns (total 5 columns):\n",
      " #   Column   Non-Null Count  Dtype \n",
      "---  ------   --------------  ----- \n",
      " 0   title    44898 non-null  object\n",
      " 1   text     44898 non-null  object\n",
      " 2   subject  44898 non-null  object\n",
      " 3   date     44898 non-null  object\n",
      " 4   flag     44898 non-null  int64 \n",
      "dtypes: int64(1), object(4)\n",
      "memory usage: 2.1+ MB\n"
     ]
    }
   ],
   "source": [
    "df.info()"
   ]
  },
  {
   "cell_type": "markdown",
   "metadata": {
    "papermill": {
     "duration": 0.041221,
     "end_time": "2021-03-13T18:51:04.474515",
     "exception": false,
     "start_time": "2021-03-13T18:51:04.433294",
     "status": "completed"
    },
    "tags": []
   },
   "source": [
    "**Removing the duplicates and preventing problems with indexing.**"
   ]
  },
  {
   "cell_type": "code",
   "execution_count": 6,
   "metadata": {
    "execution": {
     "iopub.execute_input": "2021-03-13T18:51:04.561326Z",
     "iopub.status.busy": "2021-03-13T18:51:04.560661Z",
     "iopub.status.idle": "2021-03-13T18:51:04.931478Z",
     "shell.execute_reply": "2021-03-13T18:51:04.930848Z"
    },
    "papermill": {
     "duration": 0.415653,
     "end_time": "2021-03-13T18:51:04.931650",
     "exception": false,
     "start_time": "2021-03-13T18:51:04.515997",
     "status": "completed"
    },
    "tags": []
   },
   "outputs": [],
   "source": [
    "df = df.drop_duplicates()\n",
    "df = df.reset_index(drop=True)"
   ]
  },
  {
   "cell_type": "markdown",
   "metadata": {
    "papermill": {
     "duration": 0.042479,
     "end_time": "2021-03-13T18:51:05.020621",
     "exception": false,
     "start_time": "2021-03-13T18:51:04.978142",
     "status": "completed"
    },
    "tags": []
   },
   "source": [
    "**We can see that the date format is not the one we need. I will apply the appropriate date format for future purposes.**"
   ]
  },
  {
   "cell_type": "code",
   "execution_count": 7,
   "metadata": {
    "execution": {
     "iopub.execute_input": "2021-03-13T18:51:05.131742Z",
     "iopub.status.busy": "2021-03-13T18:51:05.125334Z",
     "iopub.status.idle": "2021-03-13T18:51:05.600071Z",
     "shell.execute_reply": "2021-03-13T18:51:05.599478Z"
    },
    "papermill": {
     "duration": 0.537248,
     "end_time": "2021-03-13T18:51:05.600216",
     "exception": false,
     "start_time": "2021-03-13T18:51:05.062968",
     "status": "completed"
    },
    "tags": []
   },
   "outputs": [],
   "source": [
    "# Correcting some data\n",
    "df['date'] = df['date'].replace(['19-Feb-18'],'February 19, 2018')\n",
    "df['date'] = df['date'].replace(['18-Feb-18'],'February 18, 2018')\n",
    "df['date'] = df['date'].replace(['17-Feb-18'],'February 17, 2018')\n",
    "df['date'] = df['date'].replace(['16-Feb-18'],'February 16, 2018')\n",
    "df['date'] = df['date'].replace(['15-Feb-18'],'February 15, 2018')\n",
    "df['date'] = df['date'].replace(['14-Feb-18'],'February 14, 2018')\n",
    "df['date'] = df['date'].replace(['13-Feb-18'],'February 13, 2018')\n",
    "\n",
    "\n",
    "df['date'] = df['date'].str.replace('Dec ', 'December ')\n",
    "df['date'] = df['date'].str.replace('Nov ', 'November ')\n",
    "df['date'] = df['date'].str.replace('Oct ', 'October ')\n",
    "df['date'] = df['date'].str.replace('Sep ', 'September ')\n",
    "df['date'] = df['date'].str.replace('Aug ', 'August ')\n",
    "df['date'] = df['date'].str.replace('Jul ', 'July ')\n",
    "df['date'] = df['date'].str.replace('Jun ', 'June ')\n",
    "df['date'] = df['date'].str.replace('Apr ', 'April ')\n",
    "df['date'] = df['date'].str.replace('Mar ', 'March ')\n",
    "df['date'] = df['date'].str.replace('Feb ', 'February ')\n",
    "df['date'] = df['date'].str.replace('Jan ', 'January ')"
   ]
  },
  {
   "cell_type": "code",
   "execution_count": 8,
   "metadata": {
    "execution": {
     "iopub.execute_input": "2021-03-13T18:51:05.702376Z",
     "iopub.status.busy": "2021-03-13T18:51:05.694868Z",
     "iopub.status.idle": "2021-03-13T18:51:05.733301Z",
     "shell.execute_reply": "2021-03-13T18:51:05.732728Z"
    },
    "papermill": {
     "duration": 0.091131,
     "end_time": "2021-03-13T18:51:05.733466",
     "exception": false,
     "start_time": "2021-03-13T18:51:05.642335",
     "status": "completed"
    },
    "tags": []
   },
   "outputs": [],
   "source": [
    "df['date'] = df['date'].str.replace(' ', '')"
   ]
  },
  {
   "cell_type": "code",
   "execution_count": 9,
   "metadata": {
    "execution": {
     "iopub.execute_input": "2021-03-13T18:51:05.829104Z",
     "iopub.status.busy": "2021-03-13T18:51:05.828295Z",
     "iopub.status.idle": "2021-03-13T18:51:53.942508Z",
     "shell.execute_reply": "2021-03-13T18:51:53.943058Z"
    },
    "papermill": {
     "duration": 48.167016,
     "end_time": "2021-03-13T18:51:53.943270",
     "exception": false,
     "start_time": "2021-03-13T18:51:05.776254",
     "status": "completed"
    },
    "tags": []
   },
   "outputs": [
    {
     "name": "stderr",
     "output_type": "stream",
     "text": [
      "/opt/conda/lib/python3.7/site-packages/pandas/core/indexing.py:1636: SettingWithCopyWarning: \n",
      "A value is trying to be set on a copy of a slice from a DataFrame\n",
      "\n",
      "See the caveats in the documentation: https://pandas.pydata.org/pandas-docs/stable/user_guide/indexing.html#returning-a-view-versus-a-copy\n",
      "  self._setitem_single_block(indexer, value, name)\n"
     ]
    }
   ],
   "source": [
    "for i, val in enumerate(df['date']):\n",
    "    df['date'].iloc[i] = pd.to_datetime(df['date'].iloc[i], format='%B%d,%Y', errors='coerce') # by setting the parameter to \"coerce\", we will set unappropriate values to NaT (null)"
   ]
  },
  {
   "cell_type": "code",
   "execution_count": 10,
   "metadata": {
    "execution": {
     "iopub.execute_input": "2021-03-13T18:51:54.037090Z",
     "iopub.status.busy": "2021-03-13T18:51:54.035766Z",
     "iopub.status.idle": "2021-03-13T18:51:54.105372Z",
     "shell.execute_reply": "2021-03-13T18:51:54.106005Z"
    },
    "papermill": {
     "duration": 0.118705,
     "end_time": "2021-03-13T18:51:54.106228",
     "exception": false,
     "start_time": "2021-03-13T18:51:53.987523",
     "status": "completed"
    },
    "tags": []
   },
   "outputs": [],
   "source": [
    "df['date'] = df['date'].astype('datetime64[ns]')"
   ]
  },
  {
   "cell_type": "code",
   "execution_count": 11,
   "metadata": {
    "execution": {
     "iopub.execute_input": "2021-03-13T18:51:54.217047Z",
     "iopub.status.busy": "2021-03-13T18:51:54.197521Z",
     "iopub.status.idle": "2021-03-13T18:51:54.232954Z",
     "shell.execute_reply": "2021-03-13T18:51:54.232139Z"
    },
    "papermill": {
     "duration": 0.08223,
     "end_time": "2021-03-13T18:51:54.233123",
     "exception": false,
     "start_time": "2021-03-13T18:51:54.150893",
     "status": "completed"
    },
    "tags": []
   },
   "outputs": [
    {
     "name": "stdout",
     "output_type": "stream",
     "text": [
      "<class 'pandas.core.frame.DataFrame'>\n",
      "RangeIndex: 44689 entries, 0 to 44688\n",
      "Data columns (total 5 columns):\n",
      " #   Column   Non-Null Count  Dtype         \n",
      "---  ------   --------------  -----         \n",
      " 0   title    44689 non-null  object        \n",
      " 1   text     44689 non-null  object        \n",
      " 2   subject  44689 non-null  object        \n",
      " 3   date     44679 non-null  datetime64[ns]\n",
      " 4   flag     44689 non-null  int64         \n",
      "dtypes: datetime64[ns](1), int64(1), object(3)\n",
      "memory usage: 1.7+ MB\n"
     ]
    }
   ],
   "source": [
    "df.info()"
   ]
  },
  {
   "cell_type": "code",
   "execution_count": 12,
   "metadata": {
    "execution": {
     "iopub.execute_input": "2021-03-13T18:51:54.347163Z",
     "iopub.status.busy": "2021-03-13T18:51:54.346388Z",
     "iopub.status.idle": "2021-03-13T18:51:54.726194Z",
     "shell.execute_reply": "2021-03-13T18:51:54.726824Z"
    },
    "papermill": {
     "duration": 0.44546,
     "end_time": "2021-03-13T18:51:54.727021",
     "exception": false,
     "start_time": "2021-03-13T18:51:54.281561",
     "status": "completed"
    },
    "tags": []
   },
   "outputs": [],
   "source": [
    "import datetime as dt\n",
    "df['year'] = pd.to_datetime(df['date']).dt.to_period('Y')\n",
    "df['month'] = pd.to_datetime(df['date']).dt.to_period('M')\n",
    "\n",
    "df['month'] = df['month'].astype(str)"
   ]
  },
  {
   "cell_type": "markdown",
   "metadata": {
    "papermill": {
     "duration": 0.055112,
     "end_time": "2021-03-13T18:51:54.836055",
     "exception": false,
     "start_time": "2021-03-13T18:51:54.780943",
     "status": "completed"
    },
    "tags": []
   },
   "source": [
    "## Non-text feature plotting (date, subject)"
   ]
  },
  {
   "cell_type": "markdown",
   "metadata": {
    "papermill": {
     "duration": 0.046822,
     "end_time": "2021-03-13T18:51:54.933533",
     "exception": false,
     "start_time": "2021-03-13T18:51:54.886711",
     "status": "completed"
    },
    "tags": []
   },
   "source": [
    "**Here we will try to elicit insights from non-text features to get to know if they will help us boost the Text Classifier.**"
   ]
  },
  {
   "cell_type": "code",
   "execution_count": 13,
   "metadata": {
    "execution": {
     "iopub.execute_input": "2021-03-13T18:51:55.046772Z",
     "iopub.status.busy": "2021-03-13T18:51:55.045349Z",
     "iopub.status.idle": "2021-03-13T18:51:55.103988Z",
     "shell.execute_reply": "2021-03-13T18:51:55.103387Z"
    },
    "papermill": {
     "duration": 0.11895,
     "end_time": "2021-03-13T18:51:55.104146",
     "exception": false,
     "start_time": "2021-03-13T18:51:54.985196",
     "status": "completed"
    },
    "tags": []
   },
   "outputs": [],
   "source": [
    "sub = df[['month', 'flag']]\n",
    "sub = sub.dropna()\n",
    "sub = sub.groupby(['month'])['flag'].sum()"
   ]
  },
  {
   "cell_type": "code",
   "execution_count": 14,
   "metadata": {
    "execution": {
     "iopub.execute_input": "2021-03-13T18:51:55.197334Z",
     "iopub.status.busy": "2021-03-13T18:51:55.196285Z",
     "iopub.status.idle": "2021-03-13T18:51:55.203596Z",
     "shell.execute_reply": "2021-03-13T18:51:55.202956Z"
    },
    "papermill": {
     "duration": 0.054908,
     "end_time": "2021-03-13T18:51:55.203751",
     "exception": false,
     "start_time": "2021-03-13T18:51:55.148843",
     "status": "completed"
    },
    "tags": []
   },
   "outputs": [],
   "source": [
    "sub = sub.drop('NaT')"
   ]
  },
  {
   "cell_type": "code",
   "execution_count": 15,
   "metadata": {
    "execution": {
     "iopub.execute_input": "2021-03-13T18:51:55.297728Z",
     "iopub.status.busy": "2021-03-13T18:51:55.296730Z",
     "iopub.status.idle": "2021-03-13T18:51:55.647378Z",
     "shell.execute_reply": "2021-03-13T18:51:55.647999Z"
    },
    "papermill": {
     "duration": 0.398555,
     "end_time": "2021-03-13T18:51:55.648177",
     "exception": false,
     "start_time": "2021-03-13T18:51:55.249622",
     "status": "completed"
    },
    "tags": []
   },
   "outputs": [
    {
     "data": {
      "text/plain": [
       "[<matplotlib.lines.Line2D at 0x7f6592b607d0>]"
      ]
     },
     "execution_count": 15,
     "metadata": {},
     "output_type": "execute_result"
    },
    {
     "data": {
      "image/png": "[encoded data removed]",
      "text/plain": [
       "<Figure size 432x288 with 1 Axes>"
      ]
     },
     "metadata": {
      "needs_background": "light"
     },
     "output_type": "display_data"
    }
   ],
   "source": [
    "import matplotlib.pyplot as plt\n",
    "\n",
    "plt.suptitle('Dynamics of fake news')\n",
    "plt.xticks(rotation=90)\n",
    "plt.ylabel('Number of fake news')\n",
    "plt.xlabel('Month-Year')\n",
    "plt.plot(sub.index, sub.values, linewidth=2, color='green')"
   ]
  },
  {
   "cell_type": "markdown",
   "metadata": {
    "papermill": {
     "duration": 0.045781,
     "end_time": "2021-03-13T18:51:55.740545",
     "exception": false,
     "start_time": "2021-03-13T18:51:55.694764",
     "status": "completed"
    },
    "tags": []
   },
   "source": [
    "**What a spike in the dynamics of fake news in late 2017!**"
   ]
  },
  {
   "cell_type": "code",
   "execution_count": 16,
   "metadata": {
    "execution": {
     "iopub.execute_input": "2021-03-13T18:51:55.839721Z",
     "iopub.status.busy": "2021-03-13T18:51:55.838947Z",
     "iopub.status.idle": "2021-03-13T18:51:55.860132Z",
     "shell.execute_reply": "2021-03-13T18:51:55.859545Z"
    },
    "papermill": {
     "duration": 0.073724,
     "end_time": "2021-03-13T18:51:55.860294",
     "exception": false,
     "start_time": "2021-03-13T18:51:55.786570",
     "status": "completed"
    },
    "tags": []
   },
   "outputs": [],
   "source": [
    "sub2 = df[['subject', 'flag']]\n",
    "sub2 = sub2.dropna()\n",
    "sub2 = sub2.groupby(['subject'])['flag'].sum()"
   ]
  },
  {
   "cell_type": "code",
   "execution_count": 17,
   "metadata": {
    "execution": {
     "iopub.execute_input": "2021-03-13T18:51:55.991650Z",
     "iopub.status.busy": "2021-03-13T18:51:55.990177Z",
     "iopub.status.idle": "2021-03-13T18:51:56.140016Z",
     "shell.execute_reply": "2021-03-13T18:51:56.139210Z"
    },
    "papermill": {
     "duration": 0.234086,
     "end_time": "2021-03-13T18:51:56.140184",
     "exception": false,
     "start_time": "2021-03-13T18:51:55.906098",
     "status": "completed"
    },
    "tags": []
   },
   "outputs": [
    {
     "data": {
      "text/plain": [
       "<BarContainer object of 8 artists>"
      ]
     },
     "execution_count": 17,
     "metadata": {},
     "output_type": "execute_result"
    },
    {
     "data": {
      "image/png": "[encoded data removed]",
      "text/plain": [
       "<Figure size 432x288 with 1 Axes>"
      ]
     },
     "metadata": {
      "needs_background": "light"
     },
     "output_type": "display_data"
    }
   ],
   "source": [
    "plt.suptitle('Fake news among different categories')\n",
    "plt.xticks(rotation=90)\n",
    "plt.ylabel('Number of fake news')\n",
    "plt.xlabel('Category')\n",
    "\n",
    "plt.bar(sub2.index, height=sub2.values, color='green')\n",
    "#ax1.plot(x, y)\n",
    "#ax2.plot(x, -y)"
   ]
  },
  {
   "cell_type": "markdown",
   "metadata": {
    "papermill": {
     "duration": 0.046994,
     "end_time": "2021-03-13T18:51:56.238072",
     "exception": false,
     "start_time": "2021-03-13T18:51:56.191078",
     "status": "completed"
    },
    "tags": []
   },
   "source": [
    "**As we have discovered, such features as**\n",
    "* subject\n",
    "* date\n",
    "\n",
    "**might be also crucial for the algorithm to decide whether the piece of news is fake or real. We will try to include them in the model.**"
   ]
  },
  {
   "cell_type": "markdown",
   "metadata": {
    "papermill": {
     "duration": 0.047914,
     "end_time": "2021-03-13T18:51:56.334751",
     "exception": false,
     "start_time": "2021-03-13T18:51:56.286837",
     "status": "completed"
    },
    "tags": []
   },
   "source": [
    "# 3. Text preparation"
   ]
  },
  {
   "cell_type": "code",
   "execution_count": 18,
   "metadata": {
    "execution": {
     "iopub.execute_input": "2021-03-13T18:51:56.434600Z",
     "iopub.status.busy": "2021-03-13T18:51:56.433889Z",
     "iopub.status.idle": "2021-03-13T18:51:56.437596Z",
     "shell.execute_reply": "2021-03-13T18:51:56.436828Z"
    },
    "papermill": {
     "duration": 0.055751,
     "end_time": "2021-03-13T18:51:56.437766",
     "exception": false,
     "start_time": "2021-03-13T18:51:56.382015",
     "status": "completed"
    },
    "tags": []
   },
   "outputs": [],
   "source": [
    "nlp = df"
   ]
  },
  {
   "cell_type": "markdown",
   "metadata": {
    "papermill": {
     "duration": 0.046367,
     "end_time": "2021-03-13T18:51:56.533742",
     "exception": false,
     "start_time": "2021-03-13T18:51:56.487375",
     "status": "completed"
    },
    "tags": []
   },
   "source": [
    "**I will add the 'subject' feature to the title field as it might have an influence on the outcome of classification.**"
   ]
  },
  {
   "cell_type": "code",
   "execution_count": 19,
   "metadata": {
    "execution": {
     "iopub.execute_input": "2021-03-13T18:51:56.632923Z",
     "iopub.status.busy": "2021-03-13T18:51:56.632235Z",
     "iopub.status.idle": "2021-03-13T18:51:56.636085Z",
     "shell.execute_reply": "2021-03-13T18:51:56.635485Z"
    },
    "papermill": {
     "duration": 0.05575,
     "end_time": "2021-03-13T18:51:56.636240",
     "exception": false,
     "start_time": "2021-03-13T18:51:56.580490",
     "status": "completed"
    },
    "tags": []
   },
   "outputs": [],
   "source": [
    "#nlp['title'] = nlp['title'] + ' ' + nlp['subject']"
   ]
  },
  {
   "cell_type": "markdown",
   "metadata": {
    "papermill": {
     "duration": 0.04701,
     "end_time": "2021-03-13T18:51:56.730454",
     "exception": false,
     "start_time": "2021-03-13T18:51:56.683444",
     "status": "completed"
    },
    "tags": []
   },
   "source": [
    "## 3.1 Word Cloud visualization"
   ]
  },
  {
   "cell_type": "markdown",
   "metadata": {
    "papermill": {
     "duration": 0.046194,
     "end_time": "2021-03-13T18:51:56.823618",
     "exception": false,
     "start_time": "2021-03-13T18:51:56.777424",
     "status": "completed"
    },
    "tags": []
   },
   "source": [
    "**Here I am going to take one example and try visualize tfidf as a wordcloud.**"
   ]
  },
  {
   "cell_type": "code",
   "execution_count": 20,
   "metadata": {
    "execution": {
     "iopub.execute_input": "2021-03-13T18:51:56.924362Z",
     "iopub.status.busy": "2021-03-13T18:51:56.923475Z",
     "iopub.status.idle": "2021-03-13T18:51:58.508488Z",
     "shell.execute_reply": "2021-03-13T18:51:58.507679Z"
    },
    "papermill": {
     "duration": 1.637915,
     "end_time": "2021-03-13T18:51:58.508643",
     "exception": false,
     "start_time": "2021-03-13T18:51:56.870728",
     "status": "completed"
    },
    "tags": []
   },
   "outputs": [],
   "source": [
    "from sklearn.feature_extraction.text import TfidfVectorizer\n",
    "\n",
    "corpus = nlp[nlp['flag'] == 1]['title'].iloc[0:500] # We will take a slice of fake news, to see what vocabulary there looks like\n",
    "tfidf1 = TfidfVectorizer()\n",
    "vecs = tfidf1.fit_transform(corpus)\n",
    "\n",
    "feature_names = tfidf1.get_feature_names()\n",
    "dense = vecs.todense()\n",
    "list_words = dense.tolist()\n",
    "df_words = pd.DataFrame(list_words, columns=feature_names)"
   ]
  },
  {
   "cell_type": "code",
   "execution_count": 21,
   "metadata": {
    "execution": {
     "iopub.execute_input": "2021-03-13T18:51:58.609481Z",
     "iopub.status.busy": "2021-03-13T18:51:58.608818Z",
     "iopub.status.idle": "2021-03-13T18:51:58.870223Z",
     "shell.execute_reply": "2021-03-13T18:51:58.869367Z"
    },
    "papermill": {
     "duration": 0.314959,
     "end_time": "2021-03-13T18:51:58.870375",
     "exception": false,
     "start_time": "2021-03-13T18:51:58.555416",
     "status": "completed"
    },
    "tags": []
   },
   "outputs": [],
   "source": [
    "from wordcloud import WordCloud, STOPWORDS, ImageColorGenerator\n",
    "df_words.T.sum(axis=1)\n",
    "Cloud = WordCloud(background_color=\"white\", max_words=100).generate_from_frequencies(df_words.T.sum(axis=1))"
   ]
  },
  {
   "cell_type": "code",
   "execution_count": 22,
   "metadata": {
    "execution": {
     "iopub.execute_input": "2021-03-13T18:51:58.991487Z",
     "iopub.status.busy": "2021-03-13T18:51:58.989026Z",
     "iopub.status.idle": "2021-03-13T18:51:59.286830Z",
     "shell.execute_reply": "2021-03-13T18:51:59.287387Z"
    },
    "papermill": {
     "duration": 0.369787,
     "end_time": "2021-03-13T18:51:59.287642",
     "exception": false,
     "start_time": "2021-03-13T18:51:58.917855",
     "status": "completed"
    },
    "tags": []
   },
   "outputs": [
    {
     "data": {
      "text/plain": [
       "<matplotlib.image.AxesImage at 0x7f65651467d0>"
      ]
     },
     "execution_count": 22,
     "metadata": {},
     "output_type": "execute_result"
    },
    {
     "data": {
      "image/png": "[encoded data removed]",
      "text/plain": [
       "<Figure size 864x360 with 1 Axes>"
      ]
     },
     "metadata": {
      "needs_background": "light"
     },
     "output_type": "display_data"
    }
   ],
   "source": [
    "import matplotlib.pyplot as plt\n",
    "plt.figure(figsize=(12,5))\n",
    "plt.imshow(Cloud, interpolation='bilinear')"
   ]
  },
  {
   "cell_type": "markdown",
   "metadata": {
    "papermill": {
     "duration": 0.053742,
     "end_time": "2021-03-13T18:51:59.394647",
     "exception": false,
     "start_time": "2021-03-13T18:51:59.340905",
     "status": "completed"
    },
    "tags": []
   },
   "source": [
    "**Indeed, looks definitely like fake news :)**\n",
    "\n",
    "**And we can also see out 'subject' feature in the foreground as it has been added manually in every title. Therefore, out vectorizer considers it as an important & frequent word.**"
   ]
  },
  {
   "cell_type": "markdown",
   "metadata": {
    "papermill": {
     "duration": 0.051861,
     "end_time": "2021-03-13T18:51:59.499002",
     "exception": false,
     "start_time": "2021-03-13T18:51:59.447141",
     "status": "completed"
    },
    "tags": []
   },
   "source": [
    "## 3.2 Tfidf-vectorizing"
   ]
  },
  {
   "cell_type": "markdown",
   "metadata": {
    "papermill": {
     "duration": 0.052008,
     "end_time": "2021-03-13T18:51:59.603973",
     "exception": false,
     "start_time": "2021-03-13T18:51:59.551965",
     "status": "completed"
    },
    "tags": []
   },
   "source": [
    "**First, I will tokenize words to pass it on to the SnowballStemmer method, which will take out lemmas from words.**"
   ]
  },
  {
   "cell_type": "code",
   "execution_count": 23,
   "metadata": {
    "execution": {
     "iopub.execute_input": "2021-03-13T18:51:59.717092Z",
     "iopub.status.busy": "2021-03-13T18:51:59.716424Z",
     "iopub.status.idle": "2021-03-13T18:52:11.451879Z",
     "shell.execute_reply": "2021-03-13T18:52:11.451291Z"
    },
    "papermill": {
     "duration": 11.794298,
     "end_time": "2021-03-13T18:52:11.452039",
     "exception": false,
     "start_time": "2021-03-13T18:51:59.657741",
     "status": "completed"
    },
    "tags": []
   },
   "outputs": [
    {
     "name": "stdout",
     "output_type": "stream",
     "text": [
      "[nltk_data] Downloading package punkt to /usr/share/nltk_data...\n",
      "[nltk_data]   Package punkt is already up-to-date!\n"
     ]
    }
   ],
   "source": [
    "import nltk\n",
    "nltk.download('punkt')\n",
    "from nltk import word_tokenize\n",
    "\n",
    "nlp['title'] = nlp['title'].apply(lambda x: word_tokenize(str(x)))"
   ]
  },
  {
   "cell_type": "markdown",
   "metadata": {
    "papermill": {
     "duration": 0.052832,
     "end_time": "2021-03-13T18:52:11.558007",
     "exception": false,
     "start_time": "2021-03-13T18:52:11.505175",
     "status": "completed"
    },
    "tags": []
   },
   "source": [
    "**An important step in every NLP-task is to get the roots of words in order not to distract the model by 'different' words.**"
   ]
  },
  {
   "cell_type": "code",
   "execution_count": 24,
   "metadata": {
    "execution": {
     "iopub.execute_input": "2021-03-13T18:52:11.691711Z",
     "iopub.status.busy": "2021-03-13T18:52:11.686150Z",
     "iopub.status.idle": "2021-03-13T18:52:20.568710Z",
     "shell.execute_reply": "2021-03-13T18:52:20.567952Z"
    },
    "papermill": {
     "duration": 8.957603,
     "end_time": "2021-03-13T18:52:20.568868",
     "exception": false,
     "start_time": "2021-03-13T18:52:11.611265",
     "status": "completed"
    },
    "tags": []
   },
   "outputs": [],
   "source": [
    "from nltk.stem import SnowballStemmer\n",
    "\n",
    "snowball = SnowballStemmer(language='english')\n",
    "nlp['title'] = nlp['title'].apply(lambda x: [snowball.stem(y) for y in x])"
   ]
  },
  {
   "cell_type": "code",
   "execution_count": 25,
   "metadata": {
    "execution": {
     "iopub.execute_input": "2021-03-13T18:52:20.692990Z",
     "iopub.status.busy": "2021-03-13T18:52:20.687784Z",
     "iopub.status.idle": "2021-03-13T18:52:20.747370Z",
     "shell.execute_reply": "2021-03-13T18:52:20.746775Z"
    },
    "papermill": {
     "duration": 0.125234,
     "end_time": "2021-03-13T18:52:20.747537",
     "exception": false,
     "start_time": "2021-03-13T18:52:20.622303",
     "status": "completed"
    },
    "tags": []
   },
   "outputs": [],
   "source": [
    "nlp['title'] = nlp['title'].apply(lambda x: ' '.join(x))"
   ]
  },
  {
   "cell_type": "markdown",
   "metadata": {
    "papermill": {
     "duration": 0.053058,
     "end_time": "2021-03-13T18:52:20.854348",
     "exception": false,
     "start_time": "2021-03-13T18:52:20.801290",
     "status": "completed"
    },
    "tags": []
   },
   "source": [
    "**Take the standard english bag of stopwords from nltk.**"
   ]
  },
  {
   "cell_type": "code",
   "execution_count": 26,
   "metadata": {
    "execution": {
     "iopub.execute_input": "2021-03-13T18:52:20.968485Z",
     "iopub.status.busy": "2021-03-13T18:52:20.967723Z",
     "iopub.status.idle": "2021-03-13T18:52:20.994690Z",
     "shell.execute_reply": "2021-03-13T18:52:20.993336Z"
    },
    "papermill": {
     "duration": 0.08684,
     "end_time": "2021-03-13T18:52:20.994867",
     "exception": false,
     "start_time": "2021-03-13T18:52:20.908027",
     "status": "completed"
    },
    "tags": []
   },
   "outputs": [
    {
     "name": "stdout",
     "output_type": "stream",
     "text": [
      "[nltk_data] Downloading package words to /usr/share/nltk_data...\n",
      "[nltk_data]   Package words is already up-to-date!\n",
      "[nltk_data] Downloading package stopwords to /usr/share/nltk_data...\n",
      "[nltk_data]   Package stopwords is already up-to-date!\n"
     ]
    }
   ],
   "source": [
    "from nltk.corpus import stopwords \n",
    "\n",
    "nltk.download('words')\n",
    "nltk.download('stopwords')\n",
    "stopwords = stopwords.words('english')"
   ]
  },
  {
   "cell_type": "markdown",
   "metadata": {
    "papermill": {
     "duration": 0.068655,
     "end_time": "2021-03-13T18:52:21.116978",
     "exception": false,
     "start_time": "2021-03-13T18:52:21.048323",
     "status": "completed"
    },
    "tags": []
   },
   "source": [
    "**And finally TfidfVectorizing. You can also take CountVectorizer, but I prefer Tfidf as it has masses of advantages.**"
   ]
  },
  {
   "cell_type": "code",
   "execution_count": 27,
   "metadata": {
    "execution": {
     "iopub.execute_input": "2021-03-13T18:52:21.272875Z",
     "iopub.status.busy": "2021-03-13T18:52:21.262553Z",
     "iopub.status.idle": "2021-03-13T18:52:22.300059Z",
     "shell.execute_reply": "2021-03-13T18:52:22.299133Z"
    },
    "papermill": {
     "duration": 1.111914,
     "end_time": "2021-03-13T18:52:22.300216",
     "exception": false,
     "start_time": "2021-03-13T18:52:21.188302",
     "status": "completed"
    },
    "tags": []
   },
   "outputs": [],
   "source": [
    "from sklearn.feature_extraction.text import TfidfVectorizer\n",
    "\n",
    "tfidf = TfidfVectorizer()\n",
    "X_text = tfidf.fit_transform(nlp['title'])"
   ]
  },
  {
   "cell_type": "code",
   "execution_count": 28,
   "metadata": {
    "execution": {
     "iopub.execute_input": "2021-03-13T18:52:22.416429Z",
     "iopub.status.busy": "2021-03-13T18:52:22.415365Z",
     "iopub.status.idle": "2021-03-13T18:52:22.425664Z",
     "shell.execute_reply": "2021-03-13T18:52:22.425084Z"
    },
    "papermill": {
     "duration": 0.071669,
     "end_time": "2021-03-13T18:52:22.425822",
     "exception": false,
     "start_time": "2021-03-13T18:52:22.354153",
     "status": "completed"
    },
    "tags": []
   },
   "outputs": [],
   "source": [
    "from sklearn.model_selection import train_test_split\n",
    "X_train, X_test, y_train, y_test = train_test_split(X_text, nlp['flag'], test_size=0.33, random_state=1)"
   ]
  },
  {
   "cell_type": "markdown",
   "metadata": {
    "papermill": {
     "duration": 0.054114,
     "end_time": "2021-03-13T18:52:22.533776",
     "exception": false,
     "start_time": "2021-03-13T18:52:22.479662",
     "status": "completed"
    },
    "tags": []
   },
   "source": [
    "# 4. Model building"
   ]
  },
  {
   "cell_type": "markdown",
   "metadata": {
    "papermill": {
     "duration": 0.053547,
     "end_time": "2021-03-13T18:52:22.641173",
     "exception": false,
     "start_time": "2021-03-13T18:52:22.587626",
     "status": "completed"
    },
    "tags": []
   },
   "source": [
    "**I will use several approaches to solve the classification task, such as:**\n",
    "\n",
    "1) Traditional (which are known as efficient for text classification):\n",
    "\n",
    "    1.1) SVM\n",
    "    1.2) Naive Bayes\n",
    "    1.3) XGBoost\n",
    "    \n",
    "2) Not-very-traditional (Experimental): PyCaret NLP toolkit (I will apply unsupervised model to generate features which I will in turn pass on to the supervised model)"
   ]
  },
  {
   "cell_type": "markdown",
   "metadata": {
    "papermill": {
     "duration": 0.05365,
     "end_time": "2021-03-13T18:52:22.748676",
     "exception": false,
     "start_time": "2021-03-13T18:52:22.695026",
     "status": "completed"
    },
    "tags": []
   },
   "source": [
    "## 4.1 Linear SVC"
   ]
  },
  {
   "cell_type": "code",
   "execution_count": 29,
   "metadata": {
    "execution": {
     "iopub.execute_input": "2021-03-13T18:52:22.863358Z",
     "iopub.status.busy": "2021-03-13T18:52:22.862634Z",
     "iopub.status.idle": "2021-03-13T18:52:22.865821Z",
     "shell.execute_reply": "2021-03-13T18:52:22.865132Z"
    },
    "papermill": {
     "duration": 0.06326,
     "end_time": "2021-03-13T18:52:22.865975",
     "exception": false,
     "start_time": "2021-03-13T18:52:22.802715",
     "status": "completed"
    },
    "tags": []
   },
   "outputs": [],
   "source": [
    "scores = {}"
   ]
  },
  {
   "cell_type": "code",
   "execution_count": 30,
   "metadata": {
    "execution": {
     "iopub.execute_input": "2021-03-13T18:52:22.987681Z",
     "iopub.status.busy": "2021-03-13T18:52:22.986919Z",
     "iopub.status.idle": "2021-03-13T18:52:23.485600Z",
     "shell.execute_reply": "2021-03-13T18:52:23.485065Z"
    },
    "papermill": {
     "duration": 0.565037,
     "end_time": "2021-03-13T18:52:23.485749",
     "exception": false,
     "start_time": "2021-03-13T18:52:22.920712",
     "status": "completed"
    },
    "tags": []
   },
   "outputs": [
    {
     "name": "stdout",
     "output_type": "stream",
     "text": [
      "[0.91105592 0.93031686 0.92696026]\n",
      "0.958706265256306\n"
     ]
    }
   ],
   "source": [
    "from sklearn.svm import LinearSVC\n",
    "from sklearn.model_selection import cross_val_score\n",
    "from sklearn.metrics import accuracy_score\n",
    "\n",
    "clf = LinearSVC(max_iter=100, C=1.0)\n",
    "clf.fit(X_train, y_train)\n",
    "\n",
    "y_pred_SVM = clf.predict(X_test)\n",
    "print(cross_val_score(clf, X_text, nlp['flag'], cv=3))\n",
    "print(accuracy_score(y_pred_SVM, y_test))\n",
    "\n",
    "scores['LinearSVC'] = accuracy_score(y_pred_SVM, y_test)\n"
   ]
  },
  {
   "cell_type": "markdown",
   "metadata": {
    "papermill": {
     "duration": 0.054628,
     "end_time": "2021-03-13T18:52:23.595072",
     "exception": false,
     "start_time": "2021-03-13T18:52:23.540444",
     "status": "completed"
    },
    "tags": []
   },
   "source": [
    "**This looks suspiciously good, but lets try another algorithm.**"
   ]
  },
  {
   "cell_type": "markdown",
   "metadata": {
    "papermill": {
     "duration": 0.054494,
     "end_time": "2021-03-13T18:52:23.704005",
     "exception": false,
     "start_time": "2021-03-13T18:52:23.649511",
     "status": "completed"
    },
    "tags": []
   },
   "source": [
    "## 4.2 Naive Bayes"
   ]
  },
  {
   "cell_type": "code",
   "execution_count": 31,
   "metadata": {
    "execution": {
     "iopub.execute_input": "2021-03-13T18:52:23.821787Z",
     "iopub.status.busy": "2021-03-13T18:52:23.821045Z",
     "iopub.status.idle": "2021-03-13T18:52:23.894587Z",
     "shell.execute_reply": "2021-03-13T18:52:23.895130Z"
    },
    "papermill": {
     "duration": 0.134995,
     "end_time": "2021-03-13T18:52:23.895305",
     "exception": false,
     "start_time": "2021-03-13T18:52:23.760310",
     "status": "completed"
    },
    "tags": []
   },
   "outputs": [
    {
     "name": "stdout",
     "output_type": "stream",
     "text": [
      "[0.88957508 0.89406552 0.92883996]\n",
      "0.939924057499322\n"
     ]
    }
   ],
   "source": [
    "from sklearn.naive_bayes import MultinomialNB\n",
    "\n",
    "clf2 = MultinomialNB()\n",
    "clf2.fit(X_train, y_train)\n",
    "\n",
    "y_pred_MNB = clf2.predict(X_test)\n",
    "print(cross_val_score(clf2, X_text, nlp['flag'], cv=3))\n",
    "print(accuracy_score(y_pred_MNB, y_test))\n",
    "\n",
    "scores['MultinomialNB'] = accuracy_score(y_pred_MNB, y_test)"
   ]
  },
  {
   "cell_type": "markdown",
   "metadata": {
    "papermill": {
     "duration": 0.055073,
     "end_time": "2021-03-13T18:52:24.006134",
     "exception": false,
     "start_time": "2021-03-13T18:52:23.951061",
     "status": "completed"
    },
    "tags": []
   },
   "source": [
    "**Okay, this model performs a little worse, but still very good.**"
   ]
  },
  {
   "cell_type": "markdown",
   "metadata": {
    "papermill": {
     "duration": 0.055265,
     "end_time": "2021-03-13T18:52:24.116826",
     "exception": false,
     "start_time": "2021-03-13T18:52:24.061561",
     "status": "completed"
    },
    "tags": []
   },
   "source": [
    "## 4.3 XGBoost"
   ]
  },
  {
   "cell_type": "code",
   "execution_count": 32,
   "metadata": {
    "execution": {
     "iopub.execute_input": "2021-03-13T18:52:24.235858Z",
     "iopub.status.busy": "2021-03-13T18:52:24.235067Z",
     "iopub.status.idle": "2021-03-13T18:52:57.499241Z",
     "shell.execute_reply": "2021-03-13T18:52:57.500003Z"
    },
    "papermill": {
     "duration": 33.327466,
     "end_time": "2021-03-13T18:52:57.500238",
     "exception": false,
     "start_time": "2021-03-13T18:52:24.172772",
     "status": "completed"
    },
    "tags": []
   },
   "outputs": [
    {
     "name": "stdout",
     "output_type": "stream",
     "text": [
      "[0.88615157 0.92353652 0.90695489]\n",
      "0.9374830485489558\n"
     ]
    }
   ],
   "source": [
    "from xgboost import XGBClassifier\n",
    "\n",
    "clf3 = XGBClassifier(eval_metric='rmse', use_label_encoder=False)\n",
    "clf3.fit(X_train, y_train)\n",
    "\n",
    "y_pred_XGB = clf3.predict(X_test)\n",
    "print(cross_val_score(clf3, X_text, nlp['flag'], cv=3))\n",
    "print(accuracy_score(y_pred_XGB, y_test))\n",
    "\n",
    "scores['XGB'] = accuracy_score(y_pred_XGB, y_test)"
   ]
  },
  {
   "cell_type": "markdown",
   "metadata": {
    "papermill": {
     "duration": 0.055262,
     "end_time": "2021-03-13T18:52:57.611318",
     "exception": false,
     "start_time": "2021-03-13T18:52:57.556056",
     "status": "completed"
    },
    "tags": []
   },
   "source": [
    "## 4.4 PyCaret + CatBoost"
   ]
  },
  {
   "cell_type": "markdown",
   "metadata": {
    "papermill": {
     "duration": 0.055361,
     "end_time": "2021-03-13T18:52:57.722559",
     "exception": false,
     "start_time": "2021-03-13T18:52:57.667198",
     "status": "completed"
    },
    "tags": []
   },
   "source": [
    "**PyCaret’s Natural Language Processing module is an unsupervised machine learning module that can be used for analyzing text data by creating topic models that can find hidden semantic structures  within documents. PyCaret’s NLP module comes with a wide range of text pre-processing techniques. It has over 5 ready-to-use algorithms and several plots to analyze the performance of trained models and text corpus.**\n",
    "\n",
    "*Read more:* https://pycaret.org/nlp/"
   ]
  },
  {
   "cell_type": "code",
   "execution_count": 33,
   "metadata": {
    "execution": {
     "iopub.execute_input": "2021-03-13T18:52:57.839298Z",
     "iopub.status.busy": "2021-03-13T18:52:57.838656Z",
     "iopub.status.idle": "2021-03-13T18:53:31.608498Z",
     "shell.execute_reply": "2021-03-13T18:53:31.607230Z"
    },
    "papermill": {
     "duration": 33.830419,
     "end_time": "2021-03-13T18:53:31.608683",
     "exception": false,
     "start_time": "2021-03-13T18:52:57.778264",
     "status": "completed"
    },
    "tags": []
   },
   "outputs": [
    {
     "name": "stdout",
     "output_type": "stream",
     "text": [
      "Collecting pycaret\r\n",
      "  Downloading pycaret-2.3.0-py3-none-any.whl (261 kB)\r\n",
      "\u001b[K     |████████████████████████████████| 261 kB 419 kB/s \r\n",
      "\u001b[?25hRequirement already satisfied: scikit-plot in /opt/conda/lib/python3.7/site-packages (from pycaret) (0.3.7)\r\n",
      "Requirement already satisfied: wordcloud in /opt/conda/lib/python3.7/site-packages (from pycaret) (1.8.1)\r\n",
      "Requirement already satisfied: cufflinks>=0.17.0 in /opt/conda/lib/python3.7/site-packages (from pycaret) (0.17.3)\r\n",
      "Requirement already satisfied: umap-learn in /opt/conda/lib/python3.7/site-packages (from pycaret) (0.5.1)\r\n",
      "Requirement already satisfied: ipywidgets in /opt/conda/lib/python3.7/site-packages (from pycaret) (7.6.2)\r\n",
      "Requirement already satisfied: seaborn in /opt/conda/lib/python3.7/site-packages (from pycaret) (0.11.1)\r\n",
      "Requirement already satisfied: textblob in /opt/conda/lib/python3.7/site-packages (from pycaret) (0.15.3)\r\n",
      "Requirement already satisfied: gensim in /opt/conda/lib/python3.7/site-packages (from pycaret) (3.8.3)\r\n",
      "Requirement already satisfied: scipy<=1.5.4 in /opt/conda/lib/python3.7/site-packages (from pycaret) (1.5.4)\r\n",
      "Collecting mlflow\r\n",
      "  Downloading mlflow-1.14.1-py3-none-any.whl (14.2 MB)\r\n",
      "\u001b[K     |████████████████████████████████| 14.2 MB 6.1 MB/s \r\n",
      "\u001b[?25hRequirement already satisfied: pyLDAvis in /opt/conda/lib/python3.7/site-packages (from pycaret) (3.2.1)\r\n",
      "Requirement already satisfied: pandas-profiling>=2.8.0 in /opt/conda/lib/python3.7/site-packages (from pycaret) (2.8.0)\r\n",
      "Requirement already satisfied: plotly>=4.4.1 in /opt/conda/lib/python3.7/site-packages (from pycaret) (4.14.3)\r\n",
      "Requirement already satisfied: spacy<2.4.0 in /opt/conda/lib/python3.7/site-packages (from pycaret) (2.3.5)\r\n",
      "Requirement already satisfied: mlxtend in /opt/conda/lib/python3.7/site-packages (from pycaret) (0.18.0)\r\n",
      "Requirement already satisfied: lightgbm>=2.3.1 in /opt/conda/lib/python3.7/site-packages (from pycaret) (3.1.1)\r\n",
      "Requirement already satisfied: numpy==1.19.5 in /opt/conda/lib/python3.7/site-packages (from pycaret) (1.19.5)\r\n",
      "Requirement already satisfied: nltk in /opt/conda/lib/python3.7/site-packages (from pycaret) (3.2.4)\r\n",
      "Requirement already satisfied: kmodes>=0.10.1 in /opt/conda/lib/python3.7/site-packages (from pycaret) (0.11.0)\r\n",
      "Requirement already satisfied: pandas in /opt/conda/lib/python3.7/site-packages (from pycaret) (1.2.0)\r\n",
      "Requirement already satisfied: Boruta in /opt/conda/lib/python3.7/site-packages (from pycaret) (0.3)\r\n",
      "Collecting pyod\r\n",
      "  Downloading pyod-0.8.7.tar.gz (101 kB)\r\n",
      "\u001b[K     |████████████████████████████████| 101 kB 3.0 MB/s \r\n",
      "\u001b[?25hRequirement already satisfied: imbalanced-learn>=0.7.0 in /opt/conda/lib/python3.7/site-packages (from pycaret) (0.8.0)\r\n",
      "Requirement already satisfied: joblib in /opt/conda/lib/python3.7/site-packages (from pycaret) (1.0.0)\r\n",
      "Requirement already satisfied: matplotlib in /opt/conda/lib/python3.7/site-packages (from pycaret) (3.3.3)\r\n",
      "Requirement already satisfied: yellowbrick>=1.0.1 in /opt/conda/lib/python3.7/site-packages (from pycaret) (1.3.post1)\r\n",
      "Requirement already satisfied: IPython in /opt/conda/lib/python3.7/site-packages (from pycaret) (7.19.0)\r\n",
      "Collecting scikit-learn==0.23.2\r\n",
      "  Downloading scikit_learn-0.23.2-cp37-cp37m-manylinux1_x86_64.whl (6.8 MB)\r\n",
      "\u001b[K     |████████████████████████████████| 6.8 MB 9.7 MB/s \r\n",
      "\u001b[?25hRequirement already satisfied: threadpoolctl>=2.0.0 in /opt/conda/lib/python3.7/site-packages (from scikit-learn==0.23.2->pycaret) (2.1.0)\r\n",
      "Requirement already satisfied: setuptools>=34.4.1 in /opt/conda/lib/python3.7/site-packages (from cufflinks>=0.17.0->pycaret) (49.6.0.post20201009)\r\n",
      "Requirement already satisfied: colorlover>=0.2.1 in /opt/conda/lib/python3.7/site-packages (from cufflinks>=0.17.0->pycaret) (0.3.0)\r\n",
      "Requirement already satisfied: six>=1.9.0 in /opt/conda/lib/python3.7/site-packages (from cufflinks>=0.17.0->pycaret) (1.15.0)\r\n",
      "Collecting imbalanced-learn>=0.7.0\r\n",
      "  Downloading imbalanced_learn-0.7.0-py3-none-any.whl (167 kB)\r\n",
      "\u001b[K     |████████████████████████████████| 167 kB 13.0 MB/s \r\n",
      "\u001b[?25hRequirement already satisfied: prompt-toolkit!=3.0.0,!=3.0.1,<3.1.0,>=2.0.0 in /opt/conda/lib/python3.7/site-packages (from IPython->pycaret) (3.0.8)\r\n",
      "Requirement already satisfied: backcall in /opt/conda/lib/python3.7/site-packages (from IPython->pycaret) (0.2.0)\r\n",
      "Requirement already satisfied: pygments in /opt/conda/lib/python3.7/site-packages (from IPython->pycaret) (2.7.3)\r\n",
      "Requirement already satisfied: pexpect>4.3 in /opt/conda/lib/python3.7/site-packages (from IPython->pycaret) (4.8.0)\r\n",
      "Requirement already satisfied: decorator in /opt/conda/lib/python3.7/site-packages (from IPython->pycaret) (4.4.2)\r\n",
      "Requirement already satisfied: pickleshare in /opt/conda/lib/python3.7/site-packages (from IPython->pycaret) (0.7.5)\r\n",
      "Requirement already satisfied: traitlets>=4.2 in /opt/conda/lib/python3.7/site-packages (from IPython->pycaret) (5.0.5)\r\n",
      "Requirement already satisfied: jedi>=0.10 in /opt/conda/lib/python3.7/site-packages (from IPython->pycaret) (0.17.2)\r\n",
      "Requirement already satisfied: ipykernel>=4.5.1 in /opt/conda/lib/python3.7/site-packages (from ipywidgets->pycaret) (5.1.1)\r\n",
      "Requirement already satisfied: jupyterlab-widgets>=1.0.0 in /opt/conda/lib/python3.7/site-packages (from ipywidgets->pycaret) (1.0.0)\r\n",
      "Requirement already satisfied: widgetsnbextension~=3.5.0 in /opt/conda/lib/python3.7/site-packages (from ipywidgets->pycaret) (3.5.1)\r\n",
      "Requirement already satisfied: nbformat>=4.2.0 in /opt/conda/lib/python3.7/site-packages (from ipywidgets->pycaret) (5.0.8)\r\n",
      "Requirement already satisfied: tornado>=4.2 in /opt/conda/lib/python3.7/site-packages (from ipykernel>=4.5.1->ipywidgets->pycaret) (5.0.2)\r\n",
      "Requirement already satisfied: jupyter-client in /opt/conda/lib/python3.7/site-packages (from ipykernel>=4.5.1->ipywidgets->pycaret) (6.1.7)\r\n",
      "Requirement already satisfied: parso<0.8.0,>=0.7.0 in /opt/conda/lib/python3.7/site-packages (from jedi>=0.10->IPython->pycaret) (0.7.1)\r\n",
      "Requirement already satisfied: wheel in /opt/conda/lib/python3.7/site-packages (from lightgbm>=2.3.1->pycaret) (0.36.2)\r\n",
      "Requirement already satisfied: ipython-genutils in /opt/conda/lib/python3.7/site-packages (from nbformat>=4.2.0->ipywidgets->pycaret) (0.2.0)\r\n",
      "Requirement already satisfied: jsonschema!=2.5.0,>=2.4 in /opt/conda/lib/python3.7/site-packages (from nbformat>=4.2.0->ipywidgets->pycaret) (3.2.0)\r\n",
      "Requirement already satisfied: jupyter-core in /opt/conda/lib/python3.7/site-packages (from nbformat>=4.2.0->ipywidgets->pycaret) (4.7.0)\r\n",
      "Requirement already satisfied: attrs>=17.4.0 in /opt/conda/lib/python3.7/site-packages (from jsonschema!=2.5.0,>=2.4->nbformat>=4.2.0->ipywidgets->pycaret) (20.3.0)\r\n",
      "Requirement already satisfied: pyrsistent>=0.14.0 in /opt/conda/lib/python3.7/site-packages (from jsonschema!=2.5.0,>=2.4->nbformat>=4.2.0->ipywidgets->pycaret) (0.17.3)\r\n",
      "Requirement already satisfied: importlib-metadata in /opt/conda/lib/python3.7/site-packages (from jsonschema!=2.5.0,>=2.4->nbformat>=4.2.0->ipywidgets->pycaret) (3.3.0)\r\n",
      "Requirement already satisfied: python-dateutil>=2.7.3 in /opt/conda/lib/python3.7/site-packages (from pandas->pycaret) (2.8.1)\r\n",
      "Requirement already satisfied: pytz>=2017.3 in /opt/conda/lib/python3.7/site-packages (from pandas->pycaret) (2020.5)\r\n",
      "Requirement already satisfied: requests>=2.23.0 in /opt/conda/lib/python3.7/site-packages (from pandas-profiling>=2.8.0->pycaret) (2.25.1)\r\n",
      "Requirement already satisfied: htmlmin>=0.1.12 in /opt/conda/lib/python3.7/site-packages (from pandas-profiling>=2.8.0->pycaret) (0.1.12)\r\n",
      "Requirement already satisfied: missingno>=0.4.2 in /opt/conda/lib/python3.7/site-packages (from pandas-profiling>=2.8.0->pycaret) (0.4.2)\r\n",
      "Requirement already satisfied: tangled-up-in-unicode>=0.0.6 in /opt/conda/lib/python3.7/site-packages (from pandas-profiling>=2.8.0->pycaret) (0.0.6)\r\n",
      "Requirement already satisfied: jinja2>=2.11.1 in /opt/conda/lib/python3.7/site-packages (from pandas-profiling>=2.8.0->pycaret) (2.11.2)\r\n",
      "Requirement already satisfied: confuse>=1.0.0 in /opt/conda/lib/python3.7/site-packages (from pandas-profiling>=2.8.0->pycaret) (1.4.0)\r\n",
      "Requirement already satisfied: visions[type_image_path]==0.4.4 in /opt/conda/lib/python3.7/site-packages (from pandas-profiling>=2.8.0->pycaret) (0.4.4)\r\n",
      "Requirement already satisfied: astropy>=4.0 in /opt/conda/lib/python3.7/site-packages (from pandas-profiling>=2.8.0->pycaret) (4.2)\r\n",
      "Requirement already satisfied: tqdm>=4.43.0 in /opt/conda/lib/python3.7/site-packages (from pandas-profiling>=2.8.0->pycaret) (4.55.1)\r\n",
      "Requirement already satisfied: phik>=0.9.10 in /opt/conda/lib/python3.7/site-packages (from pandas-profiling>=2.8.0->pycaret) (0.10.0)\r\n",
      "Requirement already satisfied: networkx>=2.4 in /opt/conda/lib/python3.7/site-packages (from visions[type_image_path]==0.4.4->pandas-profiling>=2.8.0->pycaret) (2.5)\r\n",
      "Requirement already satisfied: imagehash in /opt/conda/lib/python3.7/site-packages (from visions[type_image_path]==0.4.4->pandas-profiling>=2.8.0->pycaret) (4.2.0)\r\n",
      "Requirement already satisfied: Pillow in /opt/conda/lib/python3.7/site-packages (from visions[type_image_path]==0.4.4->pandas-profiling>=2.8.0->pycaret) (7.2.0)\r\n",
      "Requirement already satisfied: pyerfa in /opt/conda/lib/python3.7/site-packages (from astropy>=4.0->pandas-profiling>=2.8.0->pycaret) (1.7.1.1)\r\n",
      "Requirement already satisfied: pyyaml in /opt/conda/lib/python3.7/site-packages (from confuse>=1.0.0->pandas-profiling>=2.8.0->pycaret) (5.3.1)\r\n",
      "Requirement already satisfied: MarkupSafe>=0.23 in /opt/conda/lib/python3.7/site-packages (from jinja2>=2.11.1->pandas-profiling>=2.8.0->pycaret) (1.1.1)\r\n",
      "Requirement already satisfied: pyparsing!=2.0.4,!=2.1.2,!=2.1.6,>=2.0.3 in /opt/conda/lib/python3.7/site-packages (from matplotlib->pycaret) (2.4.7)\r\n",
      "Requirement already satisfied: cycler>=0.10 in /opt/conda/lib/python3.7/site-packages (from matplotlib->pycaret) (0.10.0)\r\n",
      "Requirement already satisfied: kiwisolver>=1.0.1 in /opt/conda/lib/python3.7/site-packages (from matplotlib->pycaret) (1.3.1)\r\n",
      "Requirement already satisfied: ptyprocess>=0.5 in /opt/conda/lib/python3.7/site-packages (from pexpect>4.3->IPython->pycaret) (0.7.0)\r\n",
      "Requirement already satisfied: numba>=0.38.1 in /opt/conda/lib/python3.7/site-packages (from phik>=0.9.10->pandas-profiling>=2.8.0->pycaret) (0.52.0)\r\n",
      "Requirement already satisfied: llvmlite<0.36,>=0.35.0 in /opt/conda/lib/python3.7/site-packages (from numba>=0.38.1->phik>=0.9.10->pandas-profiling>=2.8.0->pycaret) (0.35.0)\r\n",
      "Requirement already satisfied: retrying>=1.3.3 in /opt/conda/lib/python3.7/site-packages (from plotly>=4.4.1->pycaret) (1.3.3)\r\n",
      "Requirement already satisfied: wcwidth in /opt/conda/lib/python3.7/site-packages (from prompt-toolkit!=3.0.0,!=3.0.1,<3.1.0,>=2.0.0->IPython->pycaret) (0.2.5)\r\n",
      "Requirement already satisfied: certifi>=2017.4.17 in /opt/conda/lib/python3.7/site-packages (from requests>=2.23.0->pandas-profiling>=2.8.0->pycaret) (2020.12.5)\r\n",
      "Requirement already satisfied: urllib3<1.27,>=1.21.1 in /opt/conda/lib/python3.7/site-packages (from requests>=2.23.0->pandas-profiling>=2.8.0->pycaret) (1.26.2)\r\n",
      "Requirement already satisfied: chardet<5,>=3.0.2 in /opt/conda/lib/python3.7/site-packages (from requests>=2.23.0->pandas-profiling>=2.8.0->pycaret) (3.0.4)\r\n",
      "Requirement already satisfied: idna<3,>=2.5 in /opt/conda/lib/python3.7/site-packages (from requests>=2.23.0->pandas-profiling>=2.8.0->pycaret) (2.10)\r\n",
      "Requirement already satisfied: plac<1.2.0,>=0.9.6 in /opt/conda/lib/python3.7/site-packages (from spacy<2.4.0->pycaret) (1.1.3)\r\n",
      "Requirement already satisfied: preshed<3.1.0,>=3.0.2 in /opt/conda/lib/python3.7/site-packages (from spacy<2.4.0->pycaret) (3.0.5)\r\n",
      "Requirement already satisfied: catalogue<1.1.0,>=0.0.7 in /opt/conda/lib/python3.7/site-packages (from spacy<2.4.0->pycaret) (1.0.0)\r\n",
      "Requirement already satisfied: thinc<7.5.0,>=7.4.1 in /opt/conda/lib/python3.7/site-packages (from spacy<2.4.0->pycaret) (7.4.5)\r\n",
      "Requirement already satisfied: srsly<1.1.0,>=1.0.2 in /opt/conda/lib/python3.7/site-packages (from spacy<2.4.0->pycaret) (1.0.5)\r\n",
      "Requirement already satisfied: murmurhash<1.1.0,>=0.28.0 in /opt/conda/lib/python3.7/site-packages (from spacy<2.4.0->pycaret) (1.0.5)\r\n",
      "Requirement already satisfied: cymem<2.1.0,>=2.0.2 in /opt/conda/lib/python3.7/site-packages (from spacy<2.4.0->pycaret) (2.0.5)\r\n",
      "Requirement already satisfied: wasabi<1.1.0,>=0.4.0 in /opt/conda/lib/python3.7/site-packages (from spacy<2.4.0->pycaret) (0.8.2)\r\n",
      "Requirement already satisfied: blis<0.8.0,>=0.4.0 in /opt/conda/lib/python3.7/site-packages (from spacy<2.4.0->pycaret) (0.7.4)\r\n",
      "Requirement already satisfied: typing-extensions>=3.6.4 in /opt/conda/lib/python3.7/site-packages (from importlib-metadata->jsonschema!=2.5.0,>=2.4->nbformat>=4.2.0->ipywidgets->pycaret) (3.7.4.3)\r\n",
      "Requirement already satisfied: zipp>=0.5 in /opt/conda/lib/python3.7/site-packages (from importlib-metadata->jsonschema!=2.5.0,>=2.4->nbformat>=4.2.0->ipywidgets->pycaret) (3.4.0)\r\n",
      "Requirement already satisfied: notebook>=4.4.1 in /opt/conda/lib/python3.7/site-packages (from widgetsnbextension~=3.5.0->ipywidgets->pycaret) (5.5.0)\r\n",
      "Requirement already satisfied: pyzmq>=17 in /opt/conda/lib/python3.7/site-packages (from notebook>=4.4.1->widgetsnbextension~=3.5.0->ipywidgets->pycaret) (20.0.0)\r\n",
      "Requirement already satisfied: terminado>=0.8.1 in /opt/conda/lib/python3.7/site-packages (from notebook>=4.4.1->widgetsnbextension~=3.5.0->ipywidgets->pycaret) (0.9.2)\r\n",
      "Requirement already satisfied: nbconvert in /opt/conda/lib/python3.7/site-packages (from notebook>=4.4.1->widgetsnbextension~=3.5.0->ipywidgets->pycaret) (6.0.7)\r\n",
      "Requirement already satisfied: Send2Trash in /opt/conda/lib/python3.7/site-packages (from notebook>=4.4.1->widgetsnbextension~=3.5.0->ipywidgets->pycaret) (1.5.0)\r\n",
      "Requirement already satisfied: smart-open>=1.8.1 in /opt/conda/lib/python3.7/site-packages (from gensim->pycaret) (3.0.0)\r\n",
      "Requirement already satisfied: PyWavelets in /opt/conda/lib/python3.7/site-packages (from imagehash->visions[type_image_path]==0.4.4->pandas-profiling>=2.8.0->pycaret) (1.1.1)\r\n",
      "Requirement already satisfied: cloudpickle in /opt/conda/lib/python3.7/site-packages (from mlflow->pycaret) (1.6.0)\r\n",
      "Collecting prometheus-flask-exporter\r\n",
      "  Downloading prometheus_flask_exporter-0.18.1.tar.gz (21 kB)\r\n",
      "Requirement already satisfied: entrypoints in /opt/conda/lib/python3.7/site-packages (from mlflow->pycaret) (0.3)\r\n",
      "Collecting querystring-parser\r\n",
      "  Downloading querystring_parser-1.2.4-py2.py3-none-any.whl (7.9 kB)\r\n",
      "Requirement already satisfied: click>=7.0 in /opt/conda/lib/python3.7/site-packages (from mlflow->pycaret) (7.1.2)\r\n",
      "Requirement already satisfied: protobuf>=3.6.0 in /opt/conda/lib/python3.7/site-packages (from mlflow->pycaret) (3.14.0)\r\n",
      "Requirement already satisfied: docker>=4.0.0 in /opt/conda/lib/python3.7/site-packages (from mlflow->pycaret) (4.4.1)\r\n",
      "Requirement already satisfied: sqlparse>=0.3.1 in /opt/conda/lib/python3.7/site-packages (from mlflow->pycaret) (0.4.1)\r\n",
      "Collecting databricks-cli>=0.8.7\r\n",
      "  Downloading databricks-cli-0.14.2.tar.gz (54 kB)\r\n",
      "\u001b[K     |████████████████████████████████| 54 kB 1.4 MB/s \r\n",
      "\u001b[?25hCollecting gunicorn\r\n",
      "  Downloading gunicorn-20.0.4-py2.py3-none-any.whl (77 kB)\r\n",
      "\u001b[K     |████████████████████████████████| 77 kB 3.2 MB/s \r\n",
      "\u001b[?25hRequirement already satisfied: sqlalchemy in /opt/conda/lib/python3.7/site-packages (from mlflow->pycaret) (1.3.22)\r\n",
      "Collecting alembic<=1.4.1\r\n",
      "  Downloading alembic-1.4.1.tar.gz (1.1 MB)\r\n",
      "\u001b[K     |████████████████████████████████| 1.1 MB 13.1 MB/s \r\n",
      "\u001b[?25hRequirement already satisfied: Flask in /opt/conda/lib/python3.7/site-packages (from mlflow->pycaret) (1.1.2)\r\n",
      "Requirement already satisfied: gitpython>=2.1.0 in /opt/conda/lib/python3.7/site-packages (from mlflow->pycaret) (3.1.12)\r\n",
      "Requirement already satisfied: Mako in /opt/conda/lib/python3.7/site-packages (from alembic<=1.4.1->mlflow->pycaret) (1.1.4)\r\n",
      "Requirement already satisfied: python-editor>=0.3 in /opt/conda/lib/python3.7/site-packages (from alembic<=1.4.1->mlflow->pycaret) (1.0.4)\r\n",
      "Requirement already satisfied: tabulate>=0.7.7 in /opt/conda/lib/python3.7/site-packages (from databricks-cli>=0.8.7->mlflow->pycaret) (0.8.8)\r\n",
      "Requirement already satisfied: websocket-client>=0.32.0 in /opt/conda/lib/python3.7/site-packages (from docker>=4.0.0->mlflow->pycaret) (0.57.0)\r\n",
      "Requirement already satisfied: gitdb<5,>=4.0.1 in /opt/conda/lib/python3.7/site-packages (from gitpython>=2.1.0->mlflow->pycaret) (4.0.5)\r\n",
      "Requirement already satisfied: smmap<4,>=3.0.1 in /opt/conda/lib/python3.7/site-packages (from gitdb<5,>=4.0.1->gitpython>=2.1.0->mlflow->pycaret) (3.0.4)\r\n",
      "Requirement already satisfied: Werkzeug>=0.15 in /opt/conda/lib/python3.7/site-packages (from Flask->mlflow->pycaret) (1.0.1)\r\n",
      "Requirement already satisfied: itsdangerous>=0.24 in /opt/conda/lib/python3.7/site-packages (from Flask->mlflow->pycaret) (1.1.0)\r\n",
      "Requirement already satisfied: pandocfilters>=1.4.1 in /opt/conda/lib/python3.7/site-packages (from nbconvert->notebook>=4.4.1->widgetsnbextension~=3.5.0->ipywidgets->pycaret) (1.4.2)\r\n",
      "Requirement already satisfied: testpath in /opt/conda/lib/python3.7/site-packages (from nbconvert->notebook>=4.4.1->widgetsnbextension~=3.5.0->ipywidgets->pycaret) (0.4.4)\r\n",
      "Requirement already satisfied: nbclient<0.6.0,>=0.5.0 in /opt/conda/lib/python3.7/site-packages (from nbconvert->notebook>=4.4.1->widgetsnbextension~=3.5.0->ipywidgets->pycaret) (0.5.1)\r\n",
      "Requirement already satisfied: bleach in /opt/conda/lib/python3.7/site-packages (from nbconvert->notebook>=4.4.1->widgetsnbextension~=3.5.0->ipywidgets->pycaret) (3.2.1)\r\n",
      "Requirement already satisfied: jupyterlab-pygments in /opt/conda/lib/python3.7/site-packages (from nbconvert->notebook>=4.4.1->widgetsnbextension~=3.5.0->ipywidgets->pycaret) (0.1.2)\r\n",
      "Requirement already satisfied: defusedxml in /opt/conda/lib/python3.7/site-packages (from nbconvert->notebook>=4.4.1->widgetsnbextension~=3.5.0->ipywidgets->pycaret) (0.6.0)\r\n",
      "Requirement already satisfied: mistune<2,>=0.8.1 in /opt/conda/lib/python3.7/site-packages (from nbconvert->notebook>=4.4.1->widgetsnbextension~=3.5.0->ipywidgets->pycaret) (0.8.4)\r\n",
      "Requirement already satisfied: nest-asyncio in /opt/conda/lib/python3.7/site-packages (from nbclient<0.6.0,>=0.5.0->nbconvert->notebook>=4.4.1->widgetsnbextension~=3.5.0->ipywidgets->pycaret) (1.4.3)\r\n",
      "Requirement already satisfied: async-generator in /opt/conda/lib/python3.7/site-packages (from nbclient<0.6.0,>=0.5.0->nbconvert->notebook>=4.4.1->widgetsnbextension~=3.5.0->ipywidgets->pycaret) (1.10)\r\n",
      "Requirement already satisfied: webencodings in /opt/conda/lib/python3.7/site-packages (from bleach->nbconvert->notebook>=4.4.1->widgetsnbextension~=3.5.0->ipywidgets->pycaret) (0.5.1)\r\n",
      "Requirement already satisfied: packaging in /opt/conda/lib/python3.7/site-packages (from bleach->nbconvert->notebook>=4.4.1->widgetsnbextension~=3.5.0->ipywidgets->pycaret) (20.8)\r\n",
      "Requirement already satisfied: prometheus_client in /opt/conda/lib/python3.7/site-packages (from prometheus-flask-exporter->mlflow->pycaret) (0.9.0)\r\n",
      "Requirement already satisfied: future in /opt/conda/lib/python3.7/site-packages (from pyLDAvis->pycaret) (0.18.2)\r\n",
      "Requirement already satisfied: funcy in /opt/conda/lib/python3.7/site-packages (from pyLDAvis->pycaret) (1.15)\r\n",
      "Requirement already satisfied: numexpr in /opt/conda/lib/python3.7/site-packages (from pyLDAvis->pycaret) (2.7.2)\r\n",
      "Requirement already satisfied: statsmodels in /opt/conda/lib/python3.7/site-packages (from pyod->pycaret) (0.12.1)\r\n",
      "Requirement already satisfied: patsy>=0.5 in /opt/conda/lib/python3.7/site-packages (from statsmodels->pyod->pycaret) (0.5.1)\r\n",
      "Requirement already satisfied: pynndescent>=0.5 in /opt/conda/lib/python3.7/site-packages (from umap-learn->pycaret) (0.5.2)\r\n",
      "Building wheels for collected packages: alembic, databricks-cli, prometheus-flask-exporter, pyod\r\n",
      "  Building wheel for alembic (setup.py) ... \u001b[?25l-\b \b\\\b \b|\b \bdone\r\n",
      "\u001b[?25h  Created wheel for alembic: filename=alembic-1.4.1-py2.py3-none-any.whl size=158155 sha256=2cc7321de2c957bfa6582823d00f7525b58c70e20340ccca50d4bea476830a08\r\n",
      "  Stored in directory: /root/.cache/pip/wheels/be/5d/0a/9e13f53f4f5dfb67cd8d245bb7cdffe12f135846f491a283e3\r\n",
      "  Building wheel for databricks-cli (setup.py) ... \u001b[?25l-\b \b\\\b \b|\b \bdone\r\n",
      "\u001b[?25h  Created wheel for databricks-cli: filename=databricks_cli-0.14.2-py3-none-any.whl size=100732 sha256=ebd8856af513daf0cf952330fe23c9633a77cb6d377624c8659338705c722fb6\r\n",
      "  Stored in directory: /root/.cache/pip/wheels/54/8a/cd/8861fff0bea4a752ffe7561eb74e130c9ae38cdb7e43eb7b66\r\n",
      "  Building wheel for prometheus-flask-exporter (setup.py) ... \u001b[?25l-\b \b\\\b \bdone\r\n",
      "\u001b[?25h  Created wheel for prometheus-flask-exporter: filename=prometheus_flask_exporter-0.18.1-py3-none-any.whl size=17158 sha256=54d4ae662a66250e151db03dca57d7a49fd96e57537f1a373681b17f7a074868\r\n",
      "  Stored in directory: /root/.cache/pip/wheels/c4/b6/b5/e76659f3b2a3a226565e27f0a7eb7a3ac93c3f4d68acfbe617\r\n",
      "  Building wheel for pyod (setup.py) ... \u001b[?25l-\b \b\\\b \bdone\r\n",
      "\u001b[?25h  Created wheel for pyod: filename=pyod-0.8.7-py3-none-any.whl size=115977 sha256=01b54f50b4336d0bf79d5fa5c1cec1a15892b23299fbebd66dc66c4add300948\r\n",
      "  Stored in directory: /root/.cache/pip/wheels/b2/ef/b6/3375e239feb7768b5fc35846a0cc22e04312b7c813de07c4dc\r\n",
      "Successfully built alembic databricks-cli prometheus-flask-exporter pyod\r\n",
      "Installing collected packages: scikit-learn, querystring-parser, prometheus-flask-exporter, gunicorn, databricks-cli, alembic, pyod, mlflow, imbalanced-learn, pycaret\r\n",
      "  Attempting uninstall: scikit-learn\r\n",
      "    Found existing installation: scikit-learn 0.24.1\r\n",
      "    Uninstalling scikit-learn-0.24.1:\r\n",
      "      Successfully uninstalled scikit-learn-0.24.1\r\n",
      "  Attempting uninstall: alembic\r\n",
      "    Found existing installation: alembic 1.5.4\r\n",
      "    Uninstalling alembic-1.5.4:\r\n",
      "      Successfully uninstalled alembic-1.5.4\r\n",
      "  Attempting uninstall: imbalanced-learn\r\n",
      "    Found existing installation: imbalanced-learn 0.8.0\r\n",
      "    Uninstalling imbalanced-learn-0.8.0:\r\n",
      "      Successfully uninstalled imbalanced-learn-0.8.0\r\n",
      "Successfully installed alembic-1.4.1 databricks-cli-0.14.2 gunicorn-20.0.4 imbalanced-learn-0.7.0 mlflow-1.14.1 prometheus-flask-exporter-0.18.1 pycaret-2.3.0 pyod-0.8.7 querystring-parser-1.2.4 scikit-learn-0.23.2\r\n"
     ]
    }
   ],
   "source": [
    "!pip install pycaret"
   ]
  },
  {
   "cell_type": "markdown",
   "metadata": {
    "papermill": {
     "duration": 0.113544,
     "end_time": "2021-03-13T18:53:31.836544",
     "exception": false,
     "start_time": "2021-03-13T18:53:31.723000",
     "status": "completed"
    },
    "tags": []
   },
   "source": [
    "**Setting up the model which will implement all traditional NLP-preprocessing operation (tokenizing, lemmatizing etc.**\n",
    "\n",
    "**The PyCaret is almost fully automatic!**"
   ]
  },
  {
   "cell_type": "code",
   "execution_count": 34,
   "metadata": {
    "execution": {
     "iopub.execute_input": "2021-03-13T18:53:32.076688Z",
     "iopub.status.busy": "2021-03-13T18:53:32.075924Z",
     "iopub.status.idle": "2021-03-13T18:55:58.630879Z",
     "shell.execute_reply": "2021-03-13T18:55:58.631511Z"
    },
    "papermill": {
     "duration": 146.679273,
     "end_time": "2021-03-13T18:55:58.631728",
     "exception": false,
     "start_time": "2021-03-13T18:53:31.952455",
     "status": "completed"
    },
    "tags": []
   },
   "outputs": [
    {
     "data": {
      "text/html": [
       "<style  type=\"text/css\" >\n",
       "</style><table id=\"T_c83c8_\" ><thead>    <tr>        <th class=\"col_heading level0 col0\" >Description</th>        <th class=\"col_heading level0 col1\" >Value</th>    </tr></thead><tbody>\n",
       "                <tr>\n",
       "                                <td id=\"T_c83c8_row0_col0\" class=\"data row0 col0\" >session_id</td>\n",
       "                        <td id=\"T_c83c8_row0_col1\" class=\"data row0 col1\" >1</td>\n",
       "            </tr>\n",
       "            <tr>\n",
       "                                <td id=\"T_c83c8_row1_col0\" class=\"data row1 col0\" >Documents</td>\n",
       "                        <td id=\"T_c83c8_row1_col1\" class=\"data row1 col1\" >44689</td>\n",
       "            </tr>\n",
       "            <tr>\n",
       "                                <td id=\"T_c83c8_row2_col0\" class=\"data row2 col0\" >Vocab Size</td>\n",
       "                        <td id=\"T_c83c8_row2_col1\" class=\"data row2 col1\" >7568</td>\n",
       "            </tr>\n",
       "            <tr>\n",
       "                                <td id=\"T_c83c8_row3_col0\" class=\"data row3 col0\" >Custom Stopwords</td>\n",
       "                        <td id=\"T_c83c8_row3_col1\" class=\"data row3 col1\" >False</td>\n",
       "            </tr>\n",
       "    </tbody></table>"
      ],
      "text/plain": [
       "<pandas.io.formats.style.Styler at 0x7f653593d190>"
      ]
     },
     "metadata": {},
     "output_type": "display_data"
    }
   ],
   "source": [
    "from pycaret.nlp import *\n",
    "\n",
    "caret_nlp = setup(data=nlp, target='title', session_id=1)"
   ]
  },
  {
   "cell_type": "markdown",
   "metadata": {
    "papermill": {
     "duration": 0.113295,
     "end_time": "2021-03-13T18:55:58.858601",
     "exception": false,
     "start_time": "2021-03-13T18:55:58.745306",
     "status": "completed"
    },
    "tags": []
   },
   "source": [
    "**LDA stands for Latent Dirichlet Allocation and is widely used in unsupervised learning tasks.**\n",
    "\n",
    "*Read more:* https://en.wikipedia.org/wiki/Latent_Dirichlet_allocation"
   ]
  },
  {
   "cell_type": "code",
   "execution_count": 35,
   "metadata": {
    "execution": {
     "iopub.execute_input": "2021-03-13T18:55:59.105082Z",
     "iopub.status.busy": "2021-03-13T18:55:59.104093Z",
     "iopub.status.idle": "2021-03-13T18:57:28.267126Z",
     "shell.execute_reply": "2021-03-13T18:57:28.265907Z"
    },
    "papermill": {
     "duration": 89.295094,
     "end_time": "2021-03-13T18:57:28.267282",
     "exception": false,
     "start_time": "2021-03-13T18:55:58.972188",
     "status": "completed"
    },
    "tags": []
   },
   "outputs": [],
   "source": [
    "lda = create_model('lda')"
   ]
  },
  {
   "cell_type": "code",
   "execution_count": 36,
   "metadata": {
    "execution": {
     "iopub.execute_input": "2021-03-13T18:57:28.502291Z",
     "iopub.status.busy": "2021-03-13T18:57:28.501566Z",
     "iopub.status.idle": "2021-03-13T18:58:05.482220Z",
     "shell.execute_reply": "2021-03-13T18:58:05.353495Z"
    },
    "papermill": {
     "duration": 37.098349,
     "end_time": "2021-03-13T18:58:05.482404",
     "exception": false,
     "start_time": "2021-03-13T18:57:28.384055",
     "status": "completed"
    },
    "tags": []
   },
   "outputs": [],
   "source": [
    "lda_data = assign_model(lda)"
   ]
  },
  {
   "cell_type": "markdown",
   "metadata": {
    "papermill": {
     "duration": 0.114049,
     "end_time": "2021-03-13T18:58:05.709991",
     "exception": false,
     "start_time": "2021-03-13T18:58:05.595942",
     "status": "completed"
    },
    "tags": []
   },
   "source": [
    "**Here's the outcome dataset:**"
   ]
  },
  {
   "cell_type": "code",
   "execution_count": 37,
   "metadata": {
    "execution": {
     "iopub.execute_input": "2021-03-13T18:58:05.974135Z",
     "iopub.status.busy": "2021-03-13T18:58:05.973434Z",
     "iopub.status.idle": "2021-03-13T18:58:05.978755Z",
     "shell.execute_reply": "2021-03-13T18:58:05.977981Z"
    },
    "papermill": {
     "duration": 0.155207,
     "end_time": "2021-03-13T18:58:05.979041",
     "exception": false,
     "start_time": "2021-03-13T18:58:05.823834",
     "status": "completed"
    },
    "tags": []
   },
   "outputs": [
    {
     "data": {
      "text/html": [
       "<div>\n",
       "<style scoped>\n",
       "    .dataframe tbody tr th:only-of-type {\n",
       "        vertical-align: middle;\n",
       "    }\n",
       "\n",
       "    .dataframe tbody tr th {\n",
       "        vertical-align: top;\n",
       "    }\n",
       "\n",
       "    .dataframe thead th {\n",
       "        text-align: right;\n",
       "    }\n",
       "</style>\n",
       "<table border=\"1\" class=\"dataframe\">\n",
       "  <thead>\n",
       "    <tr style=\"text-align: right;\">\n",
       "      <th></th>\n",
       "      <th>title</th>\n",
       "      <th>text</th>\n",
       "      <th>subject</th>\n",
       "      <th>date</th>\n",
       "      <th>flag</th>\n",
       "      <th>year</th>\n",
       "      <th>month</th>\n",
       "      <th>Topic_0</th>\n",
       "      <th>Topic_1</th>\n",
       "      <th>Topic_2</th>\n",
       "      <th>Topic_3</th>\n",
       "      <th>Dominant_Topic</th>\n",
       "      <th>Perc_Dominant_Topic</th>\n",
       "    </tr>\n",
       "  </thead>\n",
       "  <tbody>\n",
       "    <tr>\n",
       "      <th>0</th>\n",
       "      <td>budget fight loom flip fiscal script</td>\n",
       "      <td>WASHINGTON (Reuters) - The head of a conservat...</td>\n",
       "      <td>politicsNews</td>\n",
       "      <td>2017-12-31</td>\n",
       "      <td>1</td>\n",
       "      <td>2017</td>\n",
       "      <td>2017-12</td>\n",
       "      <td>0.190063</td>\n",
       "      <td>0.271491</td>\n",
       "      <td>0.203485</td>\n",
       "      <td>0.334961</td>\n",
       "      <td>Topic 3</td>\n",
       "      <td>0.33</td>\n",
       "    </tr>\n",
       "    <tr>\n",
       "      <th>1</th>\n",
       "      <td>transgend</td>\n",
       "      <td>WASHINGTON (Reuters) - Transgender people will...</td>\n",
       "      <td>politicsNews</td>\n",
       "      <td>2017-12-29</td>\n",
       "      <td>1</td>\n",
       "      <td>2017</td>\n",
       "      <td>2017-12</td>\n",
       "      <td>0.197559</td>\n",
       "      <td>0.273950</td>\n",
       "      <td>0.204855</td>\n",
       "      <td>0.323636</td>\n",
       "      <td>Topic 3</td>\n",
       "      <td>0.32</td>\n",
       "    </tr>\n",
       "    <tr>\n",
       "      <th>2</th>\n",
       "      <td>senior let job</td>\n",
       "      <td>WASHINGTON (Reuters) - The special counsel inv...</td>\n",
       "      <td>politicsNews</td>\n",
       "      <td>2017-12-31</td>\n",
       "      <td>1</td>\n",
       "      <td>2017</td>\n",
       "      <td>2017-12</td>\n",
       "      <td>0.187440</td>\n",
       "      <td>0.291736</td>\n",
       "      <td>0.201883</td>\n",
       "      <td>0.318941</td>\n",
       "      <td>Topic 3</td>\n",
       "      <td>0.32</td>\n",
       "    </tr>\n",
       "    <tr>\n",
       "      <th>3</th>\n",
       "      <td>diplomat</td>\n",
       "      <td>WASHINGTON (Reuters) - Trump campaign adviser ...</td>\n",
       "      <td>politicsNews</td>\n",
       "      <td>2017-12-30</td>\n",
       "      <td>1</td>\n",
       "      <td>2017</td>\n",
       "      <td>2017-12</td>\n",
       "      <td>0.190208</td>\n",
       "      <td>0.273961</td>\n",
       "      <td>0.204864</td>\n",
       "      <td>0.330968</td>\n",
       "      <td>Topic 3</td>\n",
       "      <td>0.33</td>\n",
       "    </tr>\n",
       "    <tr>\n",
       "      <th>4</th>\n",
       "      <td>trump want postal charg much shipment</td>\n",
       "      <td>SEATTLE/WASHINGTON (Reuters) - President Donal...</td>\n",
       "      <td>politicsNews</td>\n",
       "      <td>2017-12-29</td>\n",
       "      <td>1</td>\n",
       "      <td>2017</td>\n",
       "      <td>2017-12</td>\n",
       "      <td>0.185147</td>\n",
       "      <td>0.286900</td>\n",
       "      <td>0.199272</td>\n",
       "      <td>0.328681</td>\n",
       "      <td>Topic 3</td>\n",
       "      <td>0.33</td>\n",
       "    </tr>\n",
       "    <tr>\n",
       "      <th>...</th>\n",
       "      <td>...</td>\n",
       "      <td>...</td>\n",
       "      <td>...</td>\n",
       "      <td>...</td>\n",
       "      <td>...</td>\n",
       "      <td>...</td>\n",
       "      <td>...</td>\n",
       "      <td>...</td>\n",
       "      <td>...</td>\n",
       "      <td>...</td>\n",
       "      <td>...</td>\n",
       "      <td>...</td>\n",
       "      <td>...</td>\n",
       "    </tr>\n",
       "    <tr>\n",
       "      <th>44684</th>\n",
       "      <td>furious treat sailor well</td>\n",
       "      <td>21st Century Wire says As 21WIRE reported earl...</td>\n",
       "      <td>Middle-east</td>\n",
       "      <td>2016-01-16</td>\n",
       "      <td>0</td>\n",
       "      <td>2016</td>\n",
       "      <td>2016-01</td>\n",
       "      <td>0.187538</td>\n",
       "      <td>0.292114</td>\n",
       "      <td>0.201669</td>\n",
       "      <td>0.318679</td>\n",
       "      <td>Topic 3</td>\n",
       "      <td>0.32</td>\n",
       "    </tr>\n",
       "    <tr>\n",
       "      <th>44685</th>\n",
       "      <td>settl lawyer user</td>\n",
       "      <td>21st Century Wire says It s a familiar theme. ...</td>\n",
       "      <td>Middle-east</td>\n",
       "      <td>2016-01-16</td>\n",
       "      <td>0</td>\n",
       "      <td>2016</td>\n",
       "      <td>2016-01</td>\n",
       "      <td>0.187469</td>\n",
       "      <td>0.291635</td>\n",
       "      <td>0.201911</td>\n",
       "      <td>0.318984</td>\n",
       "      <td>Topic 3</td>\n",
       "      <td>0.32</td>\n",
       "    </tr>\n",
       "    <tr>\n",
       "      <th>44686</th>\n",
       "      <td>plan take territori</td>\n",
       "      <td>Patrick Henningsen  21st Century WireRemember ...</td>\n",
       "      <td>Middle-east</td>\n",
       "      <td>2016-01-15</td>\n",
       "      <td>0</td>\n",
       "      <td>2016</td>\n",
       "      <td>2016-01</td>\n",
       "      <td>0.196395</td>\n",
       "      <td>0.271734</td>\n",
       "      <td>0.203346</td>\n",
       "      <td>0.328525</td>\n",
       "      <td>Topic 3</td>\n",
       "      <td>0.33</td>\n",
       "    </tr>\n",
       "    <tr>\n",
       "      <th>44687</th>\n",
       "      <td>final call quit</td>\n",
       "      <td>21st Century Wire says Al Jazeera America will...</td>\n",
       "      <td>Middle-east</td>\n",
       "      <td>2016-01-14</td>\n",
       "      <td>0</td>\n",
       "      <td>2016</td>\n",
       "      <td>2016-01</td>\n",
       "      <td>0.194696</td>\n",
       "      <td>0.269975</td>\n",
       "      <td>0.209132</td>\n",
       "      <td>0.326198</td>\n",
       "      <td>Topic 3</td>\n",
       "      <td>0.33</td>\n",
       "    </tr>\n",
       "    <tr>\n",
       "      <th>44688</th>\n",
       "      <td>hold iranian</td>\n",
       "      <td>21st Century Wire says As 21WIRE predicted in ...</td>\n",
       "      <td>Middle-east</td>\n",
       "      <td>2016-01-12</td>\n",
       "      <td>0</td>\n",
       "      <td>2016</td>\n",
       "      <td>2016-01</td>\n",
       "      <td>0.196119</td>\n",
       "      <td>0.279245</td>\n",
       "      <td>0.203361</td>\n",
       "      <td>0.321275</td>\n",
       "      <td>Topic 3</td>\n",
       "      <td>0.32</td>\n",
       "    </tr>\n",
       "  </tbody>\n",
       "</table>\n",
       "<p>44689 rows × 13 columns</p>\n",
       "</div>"
      ],
      "text/plain": [
       "                                       title  \\\n",
       "0       budget fight loom flip fiscal script   \n",
       "1                                  transgend   \n",
       "2                             senior let job   \n",
       "3                                   diplomat   \n",
       "4      trump want postal charg much shipment   \n",
       "...                                      ...   \n",
       "44684              furious treat sailor well   \n",
       "44685                      settl lawyer user   \n",
       "44686                    plan take territori   \n",
       "44687                        final call quit   \n",
       "44688                           hold iranian   \n",
       "\n",
       "                                                    text       subject  \\\n",
       "0      WASHINGTON (Reuters) - The head of a conservat...  politicsNews   \n",
       "1      WASHINGTON (Reuters) - Transgender people will...  politicsNews   \n",
       "2      WASHINGTON (Reuters) - The special counsel inv...  politicsNews   \n",
       "3      WASHINGTON (Reuters) - Trump campaign adviser ...  politicsNews   \n",
       "4      SEATTLE/WASHINGTON (Reuters) - President Donal...  politicsNews   \n",
       "...                                                  ...           ...   \n",
       "44684  21st Century Wire says As 21WIRE reported earl...   Middle-east   \n",
       "44685  21st Century Wire says It s a familiar theme. ...   Middle-east   \n",
       "44686  Patrick Henningsen  21st Century WireRemember ...   Middle-east   \n",
       "44687  21st Century Wire says Al Jazeera America will...   Middle-east   \n",
       "44688  21st Century Wire says As 21WIRE predicted in ...   Middle-east   \n",
       "\n",
       "            date  flag  year    month   Topic_0   Topic_1   Topic_2   Topic_3  \\\n",
       "0     2017-12-31     1  2017  2017-12  0.190063  0.271491  0.203485  0.334961   \n",
       "1     2017-12-29     1  2017  2017-12  0.197559  0.273950  0.204855  0.323636   \n",
       "2     2017-12-31     1  2017  2017-12  0.187440  0.291736  0.201883  0.318941   \n",
       "3     2017-12-30     1  2017  2017-12  0.190208  0.273961  0.204864  0.330968   \n",
       "4     2017-12-29     1  2017  2017-12  0.185147  0.286900  0.199272  0.328681   \n",
       "...          ...   ...   ...      ...       ...       ...       ...       ...   \n",
       "44684 2016-01-16     0  2016  2016-01  0.187538  0.292114  0.201669  0.318679   \n",
       "44685 2016-01-16     0  2016  2016-01  0.187469  0.291635  0.201911  0.318984   \n",
       "44686 2016-01-15     0  2016  2016-01  0.196395  0.271734  0.203346  0.328525   \n",
       "44687 2016-01-14     0  2016  2016-01  0.194696  0.269975  0.209132  0.326198   \n",
       "44688 2016-01-12     0  2016  2016-01  0.196119  0.279245  0.203361  0.321275   \n",
       "\n",
       "      Dominant_Topic  Perc_Dominant_Topic  \n",
       "0            Topic 3                 0.33  \n",
       "1            Topic 3                 0.32  \n",
       "2            Topic 3                 0.32  \n",
       "3            Topic 3                 0.33  \n",
       "4            Topic 3                 0.33  \n",
       "...              ...                  ...  \n",
       "44684        Topic 3                 0.32  \n",
       "44685        Topic 3                 0.32  \n",
       "44686        Topic 3                 0.33  \n",
       "44687        Topic 3                 0.33  \n",
       "44688        Topic 3                 0.32  \n",
       "\n",
       "[44689 rows x 13 columns]"
      ]
     },
     "execution_count": 37,
     "metadata": {},
     "output_type": "execute_result"
    }
   ],
   "source": [
    "lda_data"
   ]
  },
  {
   "cell_type": "markdown",
   "metadata": {
    "papermill": {
     "duration": 0.117151,
     "end_time": "2021-03-13T18:58:06.212896",
     "exception": false,
     "start_time": "2021-03-13T18:58:06.095745",
     "status": "completed"
    },
    "tags": []
   },
   "source": [
    "**We'll utilize the 'Topic' features generated by PyCaret.**"
   ]
  },
  {
   "cell_type": "code",
   "execution_count": 38,
   "metadata": {
    "execution": {
     "iopub.execute_input": "2021-03-13T18:58:06.449480Z",
     "iopub.status.busy": "2021-03-13T18:58:06.448761Z",
     "iopub.status.idle": "2021-03-13T18:58:06.624267Z",
     "shell.execute_reply": "2021-03-13T18:58:06.623622Z"
    },
    "papermill": {
     "duration": 0.296327,
     "end_time": "2021-03-13T18:58:06.624459",
     "exception": false,
     "start_time": "2021-03-13T18:58:06.328132",
     "status": "completed"
    },
    "tags": []
   },
   "outputs": [],
   "source": [
    "from catboost import CatBoostClassifier"
   ]
  },
  {
   "cell_type": "code",
   "execution_count": 39,
   "metadata": {
    "execution": {
     "iopub.execute_input": "2021-03-13T18:58:06.868937Z",
     "iopub.status.busy": "2021-03-13T18:58:06.867775Z",
     "iopub.status.idle": "2021-03-13T18:58:06.885879Z",
     "shell.execute_reply": "2021-03-13T18:58:06.885281Z"
    },
    "papermill": {
     "duration": 0.144066,
     "end_time": "2021-03-13T18:58:06.886031",
     "exception": false,
     "start_time": "2021-03-13T18:58:06.741965",
     "status": "completed"
    },
    "tags": []
   },
   "outputs": [],
   "source": [
    "input_cat = lda_data.drop(['text','date','Perc_Dominant_Topic','flag','year'], axis=1)\n",
    "input_cat['month'] = input_cat['month'].astype(str)\n",
    "target_cat = lda_data['flag']"
   ]
  },
  {
   "cell_type": "code",
   "execution_count": 40,
   "metadata": {
    "execution": {
     "iopub.execute_input": "2021-03-13T18:58:07.124822Z",
     "iopub.status.busy": "2021-03-13T18:58:07.124092Z",
     "iopub.status.idle": "2021-03-13T18:58:07.138708Z",
     "shell.execute_reply": "2021-03-13T18:58:07.139250Z"
    },
    "papermill": {
     "duration": 0.13637,
     "end_time": "2021-03-13T18:58:07.139603",
     "exception": false,
     "start_time": "2021-03-13T18:58:07.003233",
     "status": "completed"
    },
    "tags": []
   },
   "outputs": [],
   "source": [
    "from sklearn.model_selection import train_test_split\n",
    "X_train_cat, X_test_cat, y_train_cat, y_test_cat = train_test_split(input_cat, target_cat, test_size=0.33, random_state=1)"
   ]
  },
  {
   "cell_type": "code",
   "execution_count": 41,
   "metadata": {
    "execution": {
     "iopub.execute_input": "2021-03-13T18:58:07.373714Z",
     "iopub.status.busy": "2021-03-13T18:58:07.372927Z",
     "iopub.status.idle": "2021-03-13T18:58:07.378980Z",
     "shell.execute_reply": "2021-03-13T18:58:07.379633Z"
    },
    "papermill": {
     "duration": 0.125258,
     "end_time": "2021-03-13T18:58:07.379822",
     "exception": false,
     "start_time": "2021-03-13T18:58:07.254564",
     "status": "completed"
    },
    "tags": []
   },
   "outputs": [],
   "source": [
    "clf4 = CatBoostClassifier(iterations=1000, \n",
    "                          cat_features=['title','subject','Dominant_Topic','month']\n",
    "                         )"
   ]
  },
  {
   "cell_type": "code",
   "execution_count": 42,
   "metadata": {
    "execution": {
     "iopub.execute_input": "2021-03-13T18:58:07.614666Z",
     "iopub.status.busy": "2021-03-13T18:58:07.613962Z",
     "iopub.status.idle": "2021-03-13T18:58:24.693492Z",
     "shell.execute_reply": "2021-03-13T18:58:24.692761Z"
    },
    "papermill": {
     "duration": 17.198433,
     "end_time": "2021-03-13T18:58:24.693645",
     "exception": false,
     "start_time": "2021-03-13T18:58:07.495212",
     "status": "completed"
    },
    "tags": []
   },
   "outputs": [
    {
     "name": "stdout",
     "output_type": "stream",
     "text": [
      "Learning rate set to 0.043985\n",
      "0:\tlearn: 0.5145341\ttotal: 80.7ms\tremaining: 1m 20s\n",
      "1:\tlearn: 0.3851221\ttotal: 108ms\tremaining: 53.8s\n",
      "2:\tlearn: 0.2865127\ttotal: 146ms\tremaining: 48.4s\n",
      "3:\tlearn: 0.2123637\ttotal: 179ms\tremaining: 44.7s\n",
      "4:\tlearn: 0.1531220\ttotal: 199ms\tremaining: 39.5s\n",
      "5:\tlearn: 0.1122692\ttotal: 223ms\tremaining: 36.9s\n",
      "6:\tlearn: 0.0840460\ttotal: 252ms\tremaining: 35.8s\n",
      "7:\tlearn: 0.0647696\ttotal: 283ms\tremaining: 35.1s\n",
      "8:\tlearn: 0.0502976\ttotal: 317ms\tremaining: 34.9s\n",
      "9:\tlearn: 0.0397706\ttotal: 362ms\tremaining: 35.8s\n",
      "10:\tlearn: 0.0311634\ttotal: 388ms\tremaining: 34.9s\n",
      "11:\tlearn: 0.0242480\ttotal: 414ms\tremaining: 34.1s\n",
      "12:\tlearn: 0.0189828\ttotal: 434ms\tremaining: 32.9s\n",
      "13:\tlearn: 0.0150631\ttotal: 462ms\tremaining: 32.5s\n",
      "14:\tlearn: 0.0121618\ttotal: 486ms\tremaining: 31.9s\n",
      "15:\tlearn: 0.0097319\ttotal: 507ms\tremaining: 31.2s\n",
      "16:\tlearn: 0.0078641\ttotal: 530ms\tremaining: 30.7s\n",
      "17:\tlearn: 0.0065187\ttotal: 549ms\tremaining: 29.9s\n",
      "18:\tlearn: 0.0053943\ttotal: 570ms\tremaining: 29.4s\n",
      "19:\tlearn: 0.0045027\ttotal: 592ms\tremaining: 29s\n",
      "20:\tlearn: 0.0037708\ttotal: 609ms\tremaining: 28.4s\n",
      "21:\tlearn: 0.0032655\ttotal: 630ms\tremaining: 28s\n",
      "22:\tlearn: 0.0027977\ttotal: 651ms\tremaining: 27.7s\n",
      "23:\tlearn: 0.0023977\ttotal: 673ms\tremaining: 27.4s\n",
      "24:\tlearn: 0.0020752\ttotal: 691ms\tremaining: 27s\n",
      "25:\tlearn: 0.0017890\ttotal: 708ms\tremaining: 26.5s\n",
      "26:\tlearn: 0.0015641\ttotal: 725ms\tremaining: 26.1s\n",
      "27:\tlearn: 0.0013903\ttotal: 744ms\tremaining: 25.8s\n",
      "28:\tlearn: 0.0012290\ttotal: 764ms\tremaining: 25.6s\n",
      "29:\tlearn: 0.0011056\ttotal: 786ms\tremaining: 25.4s\n",
      "30:\tlearn: 0.0009950\ttotal: 804ms\tremaining: 25.1s\n",
      "31:\tlearn: 0.0009029\ttotal: 821ms\tremaining: 24.8s\n",
      "32:\tlearn: 0.0008133\ttotal: 844ms\tremaining: 24.7s\n",
      "33:\tlearn: 0.0007523\ttotal: 861ms\tremaining: 24.4s\n",
      "34:\tlearn: 0.0006801\ttotal: 877ms\tremaining: 24.2s\n",
      "35:\tlearn: 0.0006323\ttotal: 894ms\tremaining: 23.9s\n",
      "36:\tlearn: 0.0005810\ttotal: 909ms\tremaining: 23.7s\n",
      "37:\tlearn: 0.0005368\ttotal: 925ms\tremaining: 23.4s\n",
      "38:\tlearn: 0.0005118\ttotal: 942ms\tremaining: 23.2s\n",
      "39:\tlearn: 0.0004745\ttotal: 961ms\tremaining: 23.1s\n",
      "40:\tlearn: 0.0004406\ttotal: 977ms\tremaining: 22.9s\n",
      "41:\tlearn: 0.0004097\ttotal: 1000ms\tremaining: 22.8s\n",
      "42:\tlearn: 0.0003892\ttotal: 1.03s\tremaining: 22.9s\n",
      "43:\tlearn: 0.0003648\ttotal: 1.05s\tremaining: 22.9s\n",
      "44:\tlearn: 0.0003366\ttotal: 1.07s\tremaining: 22.7s\n",
      "45:\tlearn: 0.0003158\ttotal: 1.1s\tremaining: 22.7s\n",
      "46:\tlearn: 0.0003086\ttotal: 1.12s\tremaining: 22.7s\n",
      "47:\tlearn: 0.0002960\ttotal: 1.14s\tremaining: 22.6s\n",
      "48:\tlearn: 0.0002827\ttotal: 1.16s\tremaining: 22.4s\n",
      "49:\tlearn: 0.0002694\ttotal: 1.17s\tremaining: 22.3s\n",
      "50:\tlearn: 0.0002602\ttotal: 1.19s\tremaining: 22.2s\n",
      "51:\tlearn: 0.0002512\ttotal: 1.21s\tremaining: 22.1s\n",
      "52:\tlearn: 0.0002424\ttotal: 1.23s\tremaining: 22s\n",
      "53:\tlearn: 0.0002394\ttotal: 1.25s\tremaining: 21.9s\n",
      "54:\tlearn: 0.0002319\ttotal: 1.27s\tremaining: 21.8s\n",
      "55:\tlearn: 0.0002232\ttotal: 1.29s\tremaining: 21.8s\n",
      "56:\tlearn: 0.0002176\ttotal: 1.31s\tremaining: 21.7s\n",
      "57:\tlearn: 0.0002070\ttotal: 1.33s\tremaining: 21.6s\n",
      "58:\tlearn: 0.0001998\ttotal: 1.35s\tremaining: 21.5s\n",
      "59:\tlearn: 0.0001943\ttotal: 1.37s\tremaining: 21.4s\n",
      "60:\tlearn: 0.0001890\ttotal: 1.39s\tremaining: 21.3s\n",
      "61:\tlearn: 0.0001844\ttotal: 1.4s\tremaining: 21.3s\n",
      "62:\tlearn: 0.0001810\ttotal: 1.42s\tremaining: 21.1s\n",
      "63:\tlearn: 0.0001763\ttotal: 1.43s\tremaining: 21s\n",
      "64:\tlearn: 0.0001719\ttotal: 1.45s\tremaining: 20.9s\n",
      "65:\tlearn: 0.0001677\ttotal: 1.47s\tremaining: 20.9s\n",
      "66:\tlearn: 0.0001648\ttotal: 1.49s\tremaining: 20.8s\n",
      "67:\tlearn: 0.0001648\ttotal: 1.51s\tremaining: 20.7s\n",
      "68:\tlearn: 0.0001619\ttotal: 1.53s\tremaining: 20.6s\n",
      "69:\tlearn: 0.0001594\ttotal: 1.55s\tremaining: 20.6s\n",
      "70:\tlearn: 0.0001571\ttotal: 1.57s\tremaining: 20.5s\n",
      "71:\tlearn: 0.0001571\ttotal: 1.58s\tremaining: 20.4s\n",
      "72:\tlearn: 0.0001546\ttotal: 1.6s\tremaining: 20.4s\n",
      "73:\tlearn: 0.0001546\ttotal: 1.62s\tremaining: 20.3s\n",
      "74:\tlearn: 0.0001546\ttotal: 1.64s\tremaining: 20.2s\n",
      "75:\tlearn: 0.0001546\ttotal: 1.66s\tremaining: 20.1s\n",
      "76:\tlearn: 0.0001521\ttotal: 1.68s\tremaining: 20.2s\n",
      "77:\tlearn: 0.0001521\ttotal: 1.7s\tremaining: 20.1s\n",
      "78:\tlearn: 0.0001503\ttotal: 1.72s\tremaining: 20s\n",
      "79:\tlearn: 0.0001490\ttotal: 1.74s\tremaining: 20s\n",
      "80:\tlearn: 0.0001490\ttotal: 1.76s\tremaining: 20s\n",
      "81:\tlearn: 0.0001466\ttotal: 1.78s\tremaining: 20s\n",
      "82:\tlearn: 0.0001400\ttotal: 1.81s\tremaining: 20s\n",
      "83:\tlearn: 0.0001400\ttotal: 1.83s\tremaining: 19.9s\n",
      "84:\tlearn: 0.0001390\ttotal: 1.85s\tremaining: 19.9s\n",
      "85:\tlearn: 0.0001390\ttotal: 1.87s\tremaining: 19.8s\n",
      "86:\tlearn: 0.0001377\ttotal: 1.88s\tremaining: 19.8s\n",
      "87:\tlearn: 0.0001364\ttotal: 1.91s\tremaining: 19.8s\n",
      "88:\tlearn: 0.0001353\ttotal: 1.93s\tremaining: 19.7s\n",
      "89:\tlearn: 0.0001342\ttotal: 1.94s\tremaining: 19.6s\n",
      "90:\tlearn: 0.0001328\ttotal: 1.96s\tremaining: 19.5s\n",
      "91:\tlearn: 0.0001318\ttotal: 1.97s\tremaining: 19.5s\n",
      "92:\tlearn: 0.0001318\ttotal: 1.99s\tremaining: 19.4s\n",
      "93:\tlearn: 0.0001318\ttotal: 2.01s\tremaining: 19.4s\n",
      "94:\tlearn: 0.0001309\ttotal: 2.03s\tremaining: 19.3s\n",
      "95:\tlearn: 0.0001309\ttotal: 2.05s\tremaining: 19.3s\n",
      "96:\tlearn: 0.0001299\ttotal: 2.07s\tremaining: 19.3s\n",
      "97:\tlearn: 0.0001299\ttotal: 2.08s\tremaining: 19.2s\n",
      "98:\tlearn: 0.0001290\ttotal: 2.1s\tremaining: 19.1s\n",
      "99:\tlearn: 0.0001279\ttotal: 2.12s\tremaining: 19.1s\n",
      "100:\tlearn: 0.0001267\ttotal: 2.13s\tremaining: 19s\n",
      "101:\tlearn: 0.0001257\ttotal: 2.15s\tremaining: 18.9s\n",
      "102:\tlearn: 0.0001257\ttotal: 2.16s\tremaining: 18.8s\n",
      "103:\tlearn: 0.0001257\ttotal: 2.19s\tremaining: 18.8s\n",
      "104:\tlearn: 0.0001257\ttotal: 2.2s\tremaining: 18.8s\n",
      "105:\tlearn: 0.0001257\ttotal: 2.22s\tremaining: 18.8s\n",
      "106:\tlearn: 0.0001257\ttotal: 2.24s\tremaining: 18.7s\n",
      "107:\tlearn: 0.0001257\ttotal: 2.25s\tremaining: 18.6s\n",
      "108:\tlearn: 0.0001257\ttotal: 2.27s\tremaining: 18.6s\n",
      "109:\tlearn: 0.0001257\ttotal: 2.29s\tremaining: 18.5s\n",
      "110:\tlearn: 0.0001249\ttotal: 2.31s\tremaining: 18.5s\n",
      "111:\tlearn: 0.0001239\ttotal: 2.32s\tremaining: 18.4s\n",
      "112:\tlearn: 0.0001239\ttotal: 2.34s\tremaining: 18.4s\n",
      "113:\tlearn: 0.0001239\ttotal: 2.36s\tremaining: 18.3s\n",
      "114:\tlearn: 0.0001239\ttotal: 2.37s\tremaining: 18.3s\n",
      "115:\tlearn: 0.0001239\ttotal: 2.39s\tremaining: 18.2s\n",
      "116:\tlearn: 0.0001239\ttotal: 2.41s\tremaining: 18.2s\n",
      "117:\tlearn: 0.0001239\ttotal: 2.42s\tremaining: 18.1s\n",
      "118:\tlearn: 0.0001239\ttotal: 2.44s\tremaining: 18.1s\n",
      "119:\tlearn: 0.0001239\ttotal: 2.46s\tremaining: 18s\n",
      "120:\tlearn: 0.0001228\ttotal: 2.48s\tremaining: 18s\n",
      "121:\tlearn: 0.0001217\ttotal: 2.5s\tremaining: 18s\n",
      "122:\tlearn: 0.0001217\ttotal: 2.51s\tremaining: 17.9s\n",
      "123:\tlearn: 0.0001217\ttotal: 2.53s\tremaining: 17.9s\n",
      "124:\tlearn: 0.0001217\ttotal: 2.55s\tremaining: 17.8s\n",
      "125:\tlearn: 0.0001217\ttotal: 2.57s\tremaining: 17.8s\n",
      "126:\tlearn: 0.0001217\ttotal: 2.58s\tremaining: 17.8s\n",
      "127:\tlearn: 0.0001217\ttotal: 2.6s\tremaining: 17.7s\n",
      "128:\tlearn: 0.0001217\ttotal: 2.62s\tremaining: 17.7s\n",
      "129:\tlearn: 0.0001217\ttotal: 2.64s\tremaining: 17.7s\n",
      "130:\tlearn: 0.0001217\ttotal: 2.65s\tremaining: 17.6s\n",
      "131:\tlearn: 0.0001205\ttotal: 2.67s\tremaining: 17.6s\n",
      "132:\tlearn: 0.0001205\ttotal: 2.69s\tremaining: 17.5s\n",
      "133:\tlearn: 0.0001205\ttotal: 2.71s\tremaining: 17.5s\n",
      "134:\tlearn: 0.0001205\ttotal: 2.73s\tremaining: 17.5s\n",
      "135:\tlearn: 0.0001205\ttotal: 2.75s\tremaining: 17.4s\n",
      "136:\tlearn: 0.0001205\ttotal: 2.76s\tremaining: 17.4s\n",
      "137:\tlearn: 0.0001205\ttotal: 2.78s\tremaining: 17.3s\n",
      "138:\tlearn: 0.0001205\ttotal: 2.8s\tremaining: 17.3s\n",
      "139:\tlearn: 0.0001205\ttotal: 2.82s\tremaining: 17.3s\n",
      "140:\tlearn: 0.0001205\ttotal: 2.83s\tremaining: 17.3s\n",
      "141:\tlearn: 0.0001205\ttotal: 2.85s\tremaining: 17.2s\n",
      "142:\tlearn: 0.0001205\ttotal: 2.86s\tremaining: 17.2s\n",
      "143:\tlearn: 0.0001205\ttotal: 2.88s\tremaining: 17.1s\n",
      "144:\tlearn: 0.0001205\ttotal: 2.9s\tremaining: 17.1s\n",
      "145:\tlearn: 0.0001195\ttotal: 2.92s\tremaining: 17.1s\n",
      "146:\tlearn: 0.0001195\ttotal: 2.94s\tremaining: 17s\n",
      "147:\tlearn: 0.0001195\ttotal: 2.95s\tremaining: 17s\n",
      "148:\tlearn: 0.0001195\ttotal: 2.97s\tremaining: 16.9s\n",
      "149:\tlearn: 0.0001195\ttotal: 2.98s\tremaining: 16.9s\n",
      "150:\tlearn: 0.0001195\ttotal: 3s\tremaining: 16.8s\n",
      "151:\tlearn: 0.0001195\ttotal: 3.01s\tremaining: 16.8s\n",
      "152:\tlearn: 0.0001195\ttotal: 3.03s\tremaining: 16.8s\n",
      "153:\tlearn: 0.0001195\ttotal: 3.05s\tremaining: 16.8s\n",
      "154:\tlearn: 0.0001195\ttotal: 3.06s\tremaining: 16.7s\n",
      "155:\tlearn: 0.0001195\ttotal: 3.08s\tremaining: 16.7s\n",
      "156:\tlearn: 0.0001195\ttotal: 3.1s\tremaining: 16.6s\n",
      "157:\tlearn: 0.0001195\ttotal: 3.11s\tremaining: 16.6s\n",
      "158:\tlearn: 0.0001195\ttotal: 3.13s\tremaining: 16.6s\n",
      "159:\tlearn: 0.0001195\ttotal: 3.15s\tremaining: 16.5s\n",
      "160:\tlearn: 0.0001195\ttotal: 3.17s\tremaining: 16.5s\n",
      "161:\tlearn: 0.0001195\ttotal: 3.18s\tremaining: 16.5s\n",
      "162:\tlearn: 0.0001184\ttotal: 3.2s\tremaining: 16.4s\n",
      "163:\tlearn: 0.0001184\ttotal: 3.21s\tremaining: 16.4s\n",
      "164:\tlearn: 0.0001184\ttotal: 3.23s\tremaining: 16.4s\n",
      "165:\tlearn: 0.0001184\ttotal: 3.25s\tremaining: 16.3s\n",
      "166:\tlearn: 0.0001184\ttotal: 3.27s\tremaining: 16.3s\n",
      "167:\tlearn: 0.0001184\ttotal: 3.29s\tremaining: 16.3s\n",
      "168:\tlearn: 0.0001184\ttotal: 3.31s\tremaining: 16.3s\n",
      "169:\tlearn: 0.0001173\ttotal: 3.32s\tremaining: 16.2s\n",
      "170:\tlearn: 0.0001173\ttotal: 3.34s\tremaining: 16.2s\n",
      "171:\tlearn: 0.0001163\ttotal: 3.36s\tremaining: 16.2s\n",
      "172:\tlearn: 0.0001163\ttotal: 3.38s\tremaining: 16.1s\n",
      "173:\tlearn: 0.0001163\ttotal: 3.4s\tremaining: 16.1s\n",
      "174:\tlearn: 0.0001163\ttotal: 3.41s\tremaining: 16.1s\n",
      "175:\tlearn: 0.0001163\ttotal: 3.43s\tremaining: 16.1s\n",
      "176:\tlearn: 0.0001163\ttotal: 3.45s\tremaining: 16.1s\n",
      "177:\tlearn: 0.0001163\ttotal: 3.47s\tremaining: 16s\n",
      "178:\tlearn: 0.0001163\ttotal: 3.49s\tremaining: 16s\n",
      "179:\tlearn: 0.0001163\ttotal: 3.5s\tremaining: 16s\n",
      "180:\tlearn: 0.0001163\ttotal: 3.52s\tremaining: 15.9s\n",
      "181:\tlearn: 0.0001163\ttotal: 3.54s\tremaining: 15.9s\n",
      "182:\tlearn: 0.0001163\ttotal: 3.56s\tremaining: 15.9s\n",
      "183:\tlearn: 0.0001163\ttotal: 3.57s\tremaining: 15.8s\n",
      "184:\tlearn: 0.0001163\ttotal: 3.59s\tremaining: 15.8s\n",
      "185:\tlearn: 0.0001163\ttotal: 3.61s\tremaining: 15.8s\n",
      "186:\tlearn: 0.0001163\ttotal: 3.63s\tremaining: 15.8s\n",
      "187:\tlearn: 0.0001163\ttotal: 3.64s\tremaining: 15.7s\n",
      "188:\tlearn: 0.0001163\ttotal: 3.65s\tremaining: 15.7s\n",
      "189:\tlearn: 0.0001163\ttotal: 3.67s\tremaining: 15.6s\n",
      "190:\tlearn: 0.0001163\ttotal: 3.69s\tremaining: 15.6s\n",
      "191:\tlearn: 0.0001163\ttotal: 3.7s\tremaining: 15.6s\n",
      "192:\tlearn: 0.0001163\ttotal: 3.72s\tremaining: 15.6s\n",
      "193:\tlearn: 0.0001163\ttotal: 3.74s\tremaining: 15.5s\n",
      "194:\tlearn: 0.0001163\ttotal: 3.75s\tremaining: 15.5s\n",
      "195:\tlearn: 0.0001163\ttotal: 3.77s\tremaining: 15.5s\n",
      "196:\tlearn: 0.0001163\ttotal: 3.78s\tremaining: 15.4s\n",
      "197:\tlearn: 0.0001163\ttotal: 3.81s\tremaining: 15.4s\n",
      "198:\tlearn: 0.0001163\ttotal: 3.82s\tremaining: 15.4s\n",
      "199:\tlearn: 0.0001163\ttotal: 3.84s\tremaining: 15.3s\n",
      "200:\tlearn: 0.0001163\ttotal: 3.85s\tremaining: 15.3s\n",
      "201:\tlearn: 0.0001154\ttotal: 3.87s\tremaining: 15.3s\n",
      "202:\tlearn: 0.0001154\ttotal: 3.88s\tremaining: 15.2s\n",
      "203:\tlearn: 0.0001154\ttotal: 3.9s\tremaining: 15.2s\n",
      "204:\tlearn: 0.0001154\ttotal: 3.92s\tremaining: 15.2s\n",
      "205:\tlearn: 0.0001154\ttotal: 3.94s\tremaining: 15.2s\n",
      "206:\tlearn: 0.0001154\ttotal: 3.96s\tremaining: 15.2s\n",
      "207:\tlearn: 0.0001154\ttotal: 3.97s\tremaining: 15.1s\n",
      "208:\tlearn: 0.0001154\ttotal: 3.99s\tremaining: 15.1s\n",
      "209:\tlearn: 0.0001154\ttotal: 4s\tremaining: 15.1s\n",
      "210:\tlearn: 0.0001154\ttotal: 4.02s\tremaining: 15s\n",
      "211:\tlearn: 0.0001154\ttotal: 4.04s\tremaining: 15s\n",
      "212:\tlearn: 0.0001154\ttotal: 4.05s\tremaining: 15s\n",
      "213:\tlearn: 0.0001154\ttotal: 4.07s\tremaining: 14.9s\n",
      "214:\tlearn: 0.0001154\ttotal: 4.08s\tremaining: 14.9s\n",
      "215:\tlearn: 0.0001154\ttotal: 4.1s\tremaining: 14.9s\n",
      "216:\tlearn: 0.0001154\ttotal: 4.12s\tremaining: 14.8s\n",
      "217:\tlearn: 0.0001154\ttotal: 4.13s\tremaining: 14.8s\n",
      "218:\tlearn: 0.0001154\ttotal: 4.15s\tremaining: 14.8s\n",
      "219:\tlearn: 0.0001154\ttotal: 4.17s\tremaining: 14.8s\n",
      "220:\tlearn: 0.0001154\ttotal: 4.18s\tremaining: 14.7s\n",
      "221:\tlearn: 0.0001154\ttotal: 4.2s\tremaining: 14.7s\n",
      "222:\tlearn: 0.0001154\ttotal: 4.21s\tremaining: 14.7s\n",
      "223:\tlearn: 0.0001154\ttotal: 4.25s\tremaining: 14.7s\n",
      "224:\tlearn: 0.0001154\ttotal: 4.26s\tremaining: 14.7s\n",
      "225:\tlearn: 0.0001154\ttotal: 4.28s\tremaining: 14.7s\n",
      "226:\tlearn: 0.0001154\ttotal: 4.29s\tremaining: 14.6s\n",
      "227:\tlearn: 0.0001154\ttotal: 4.31s\tremaining: 14.6s\n",
      "228:\tlearn: 0.0001143\ttotal: 4.33s\tremaining: 14.6s\n",
      "229:\tlearn: 0.0001143\ttotal: 4.34s\tremaining: 14.5s\n",
      "230:\tlearn: 0.0001143\ttotal: 4.36s\tremaining: 14.5s\n",
      "231:\tlearn: 0.0001143\ttotal: 4.38s\tremaining: 14.5s\n",
      "232:\tlearn: 0.0001143\ttotal: 4.39s\tremaining: 14.5s\n",
      "233:\tlearn: 0.0001143\ttotal: 4.41s\tremaining: 14.4s\n",
      "234:\tlearn: 0.0001134\ttotal: 4.43s\tremaining: 14.4s\n",
      "235:\tlearn: 0.0001125\ttotal: 4.45s\tremaining: 14.4s\n",
      "236:\tlearn: 0.0001125\ttotal: 4.46s\tremaining: 14.4s\n",
      "237:\tlearn: 0.0001125\ttotal: 4.48s\tremaining: 14.3s\n",
      "238:\tlearn: 0.0001125\ttotal: 4.49s\tremaining: 14.3s\n",
      "239:\tlearn: 0.0001125\ttotal: 4.51s\tremaining: 14.3s\n",
      "240:\tlearn: 0.0001125\ttotal: 4.52s\tremaining: 14.2s\n",
      "241:\tlearn: 0.0001125\ttotal: 4.54s\tremaining: 14.2s\n",
      "242:\tlearn: 0.0001125\ttotal: 4.55s\tremaining: 14.2s\n",
      "243:\tlearn: 0.0001125\ttotal: 4.57s\tremaining: 14.2s\n",
      "244:\tlearn: 0.0001125\ttotal: 4.59s\tremaining: 14.1s\n",
      "245:\tlearn: 0.0001125\ttotal: 4.6s\tremaining: 14.1s\n",
      "246:\tlearn: 0.0001125\ttotal: 4.62s\tremaining: 14.1s\n",
      "247:\tlearn: 0.0001125\ttotal: 4.63s\tremaining: 14.1s\n",
      "248:\tlearn: 0.0001125\ttotal: 4.65s\tremaining: 14s\n",
      "249:\tlearn: 0.0001125\ttotal: 4.67s\tremaining: 14s\n",
      "250:\tlearn: 0.0001125\ttotal: 4.68s\tremaining: 14s\n",
      "251:\tlearn: 0.0001125\ttotal: 4.7s\tremaining: 13.9s\n",
      "252:\tlearn: 0.0001125\ttotal: 4.71s\tremaining: 13.9s\n",
      "253:\tlearn: 0.0001125\ttotal: 4.73s\tremaining: 13.9s\n",
      "254:\tlearn: 0.0001125\ttotal: 4.74s\tremaining: 13.9s\n",
      "255:\tlearn: 0.0001125\ttotal: 4.76s\tremaining: 13.8s\n",
      "256:\tlearn: 0.0001125\ttotal: 4.77s\tremaining: 13.8s\n",
      "257:\tlearn: 0.0001125\ttotal: 4.79s\tremaining: 13.8s\n",
      "258:\tlearn: 0.0001103\ttotal: 4.8s\tremaining: 13.7s\n",
      "259:\tlearn: 0.0001103\ttotal: 4.82s\tremaining: 13.7s\n",
      "260:\tlearn: 0.0001103\ttotal: 4.84s\tremaining: 13.7s\n",
      "261:\tlearn: 0.0001103\ttotal: 4.85s\tremaining: 13.7s\n",
      "262:\tlearn: 0.0001103\ttotal: 4.87s\tremaining: 13.6s\n",
      "263:\tlearn: 0.0001103\ttotal: 4.89s\tremaining: 13.6s\n",
      "264:\tlearn: 0.0001103\ttotal: 4.91s\tremaining: 13.6s\n",
      "265:\tlearn: 0.0001103\ttotal: 4.92s\tremaining: 13.6s\n",
      "266:\tlearn: 0.0001103\ttotal: 4.94s\tremaining: 13.6s\n",
      "267:\tlearn: 0.0001103\ttotal: 4.95s\tremaining: 13.5s\n",
      "268:\tlearn: 0.0001103\ttotal: 4.97s\tremaining: 13.5s\n",
      "269:\tlearn: 0.0001103\ttotal: 4.99s\tremaining: 13.5s\n",
      "270:\tlearn: 0.0001103\ttotal: 5s\tremaining: 13.5s\n",
      "271:\tlearn: 0.0001103\ttotal: 5.02s\tremaining: 13.4s\n",
      "272:\tlearn: 0.0001103\ttotal: 5.03s\tremaining: 13.4s\n",
      "273:\tlearn: 0.0001103\ttotal: 5.05s\tremaining: 13.4s\n",
      "274:\tlearn: 0.0001103\ttotal: 5.07s\tremaining: 13.4s\n",
      "275:\tlearn: 0.0001103\ttotal: 5.09s\tremaining: 13.4s\n",
      "276:\tlearn: 0.0001103\ttotal: 5.11s\tremaining: 13.3s\n",
      "277:\tlearn: 0.0001103\ttotal: 5.12s\tremaining: 13.3s\n",
      "278:\tlearn: 0.0001103\ttotal: 5.13s\tremaining: 13.3s\n",
      "279:\tlearn: 0.0001103\ttotal: 5.15s\tremaining: 13.2s\n",
      "280:\tlearn: 0.0001103\ttotal: 5.16s\tremaining: 13.2s\n",
      "281:\tlearn: 0.0001103\ttotal: 5.18s\tremaining: 13.2s\n",
      "282:\tlearn: 0.0001103\ttotal: 5.2s\tremaining: 13.2s\n",
      "283:\tlearn: 0.0001103\ttotal: 5.22s\tremaining: 13.2s\n",
      "284:\tlearn: 0.0001103\ttotal: 5.24s\tremaining: 13.2s\n",
      "285:\tlearn: 0.0001103\ttotal: 5.26s\tremaining: 13.1s\n",
      "286:\tlearn: 0.0001103\ttotal: 5.29s\tremaining: 13.1s\n",
      "287:\tlearn: 0.0001103\ttotal: 5.31s\tremaining: 13.1s\n",
      "288:\tlearn: 0.0001103\ttotal: 5.34s\tremaining: 13.1s\n",
      "289:\tlearn: 0.0001103\ttotal: 5.36s\tremaining: 13.1s\n",
      "290:\tlearn: 0.0001103\ttotal: 5.38s\tremaining: 13.1s\n",
      "291:\tlearn: 0.0001103\ttotal: 5.4s\tremaining: 13.1s\n",
      "292:\tlearn: 0.0001103\ttotal: 5.42s\tremaining: 13.1s\n",
      "293:\tlearn: 0.0001103\ttotal: 5.44s\tremaining: 13.1s\n",
      "294:\tlearn: 0.0001103\ttotal: 5.46s\tremaining: 13s\n",
      "295:\tlearn: 0.0001103\ttotal: 5.48s\tremaining: 13s\n",
      "296:\tlearn: 0.0001103\ttotal: 5.49s\tremaining: 13s\n",
      "297:\tlearn: 0.0001103\ttotal: 5.51s\tremaining: 13s\n",
      "298:\tlearn: 0.0001103\ttotal: 5.53s\tremaining: 13s\n",
      "299:\tlearn: 0.0001103\ttotal: 5.54s\tremaining: 12.9s\n",
      "300:\tlearn: 0.0001103\ttotal: 5.55s\tremaining: 12.9s\n",
      "301:\tlearn: 0.0001103\ttotal: 5.57s\tremaining: 12.9s\n",
      "302:\tlearn: 0.0001103\ttotal: 5.58s\tremaining: 12.8s\n",
      "303:\tlearn: 0.0001103\ttotal: 5.6s\tremaining: 12.8s\n",
      "304:\tlearn: 0.0001103\ttotal: 5.62s\tremaining: 12.8s\n",
      "305:\tlearn: 0.0001103\ttotal: 5.63s\tremaining: 12.8s\n",
      "306:\tlearn: 0.0001103\ttotal: 5.65s\tremaining: 12.8s\n",
      "307:\tlearn: 0.0001103\ttotal: 5.67s\tremaining: 12.7s\n",
      "308:\tlearn: 0.0001103\ttotal: 5.68s\tremaining: 12.7s\n",
      "309:\tlearn: 0.0001103\ttotal: 5.7s\tremaining: 12.7s\n",
      "310:\tlearn: 0.0001103\ttotal: 5.72s\tremaining: 12.7s\n",
      "311:\tlearn: 0.0001103\ttotal: 5.73s\tremaining: 12.6s\n",
      "312:\tlearn: 0.0001103\ttotal: 5.75s\tremaining: 12.6s\n",
      "313:\tlearn: 0.0001103\ttotal: 5.77s\tremaining: 12.6s\n",
      "314:\tlearn: 0.0001103\ttotal: 5.78s\tremaining: 12.6s\n",
      "315:\tlearn: 0.0001103\ttotal: 5.8s\tremaining: 12.6s\n",
      "316:\tlearn: 0.0001103\ttotal: 5.82s\tremaining: 12.5s\n",
      "317:\tlearn: 0.0001103\ttotal: 5.83s\tremaining: 12.5s\n",
      "318:\tlearn: 0.0001103\ttotal: 5.85s\tremaining: 12.5s\n",
      "319:\tlearn: 0.0001103\ttotal: 5.88s\tremaining: 12.5s\n",
      "320:\tlearn: 0.0001103\ttotal: 5.89s\tremaining: 12.5s\n",
      "321:\tlearn: 0.0001103\ttotal: 5.91s\tremaining: 12.4s\n",
      "322:\tlearn: 0.0001103\ttotal: 5.92s\tremaining: 12.4s\n",
      "323:\tlearn: 0.0001103\ttotal: 5.94s\tremaining: 12.4s\n",
      "324:\tlearn: 0.0001103\ttotal: 5.95s\tremaining: 12.4s\n",
      "325:\tlearn: 0.0001103\ttotal: 5.97s\tremaining: 12.3s\n",
      "326:\tlearn: 0.0001103\ttotal: 5.98s\tremaining: 12.3s\n",
      "327:\tlearn: 0.0001103\ttotal: 6s\tremaining: 12.3s\n",
      "328:\tlearn: 0.0001103\ttotal: 6.02s\tremaining: 12.3s\n",
      "329:\tlearn: 0.0001103\ttotal: 6.04s\tremaining: 12.3s\n",
      "330:\tlearn: 0.0001103\ttotal: 6.05s\tremaining: 12.2s\n",
      "331:\tlearn: 0.0001103\ttotal: 6.07s\tremaining: 12.2s\n",
      "332:\tlearn: 0.0001103\ttotal: 6.08s\tremaining: 12.2s\n",
      "333:\tlearn: 0.0001102\ttotal: 6.09s\tremaining: 12.2s\n",
      "334:\tlearn: 0.0001102\ttotal: 6.11s\tremaining: 12.1s\n",
      "335:\tlearn: 0.0001102\ttotal: 6.13s\tremaining: 12.1s\n",
      "336:\tlearn: 0.0001102\ttotal: 6.14s\tremaining: 12.1s\n",
      "337:\tlearn: 0.0001102\ttotal: 6.16s\tremaining: 12.1s\n",
      "338:\tlearn: 0.0001102\ttotal: 6.17s\tremaining: 12s\n",
      "339:\tlearn: 0.0001102\ttotal: 6.19s\tremaining: 12s\n",
      "340:\tlearn: 0.0001102\ttotal: 6.2s\tremaining: 12s\n",
      "341:\tlearn: 0.0001102\ttotal: 6.22s\tremaining: 12s\n",
      "342:\tlearn: 0.0001102\ttotal: 6.24s\tremaining: 11.9s\n",
      "343:\tlearn: 0.0001102\ttotal: 6.25s\tremaining: 11.9s\n",
      "344:\tlearn: 0.0001102\ttotal: 6.27s\tremaining: 11.9s\n",
      "345:\tlearn: 0.0001102\ttotal: 6.28s\tremaining: 11.9s\n",
      "346:\tlearn: 0.0001102\ttotal: 6.3s\tremaining: 11.8s\n",
      "347:\tlearn: 0.0001102\ttotal: 6.31s\tremaining: 11.8s\n",
      "348:\tlearn: 0.0001102\ttotal: 6.33s\tremaining: 11.8s\n",
      "349:\tlearn: 0.0001102\ttotal: 6.34s\tremaining: 11.8s\n",
      "350:\tlearn: 0.0001102\ttotal: 6.36s\tremaining: 11.8s\n",
      "351:\tlearn: 0.0001102\ttotal: 6.37s\tremaining: 11.7s\n",
      "352:\tlearn: 0.0001102\ttotal: 6.39s\tremaining: 11.7s\n",
      "353:\tlearn: 0.0001102\ttotal: 6.4s\tremaining: 11.7s\n",
      "354:\tlearn: 0.0001102\ttotal: 6.42s\tremaining: 11.7s\n",
      "355:\tlearn: 0.0001102\ttotal: 6.44s\tremaining: 11.7s\n",
      "356:\tlearn: 0.0001102\ttotal: 6.46s\tremaining: 11.6s\n",
      "357:\tlearn: 0.0001102\ttotal: 6.47s\tremaining: 11.6s\n",
      "358:\tlearn: 0.0001102\ttotal: 6.49s\tremaining: 11.6s\n",
      "359:\tlearn: 0.0001102\ttotal: 6.5s\tremaining: 11.6s\n",
      "360:\tlearn: 0.0001102\ttotal: 6.52s\tremaining: 11.5s\n",
      "361:\tlearn: 0.0001102\ttotal: 6.54s\tremaining: 11.5s\n",
      "362:\tlearn: 0.0001102\ttotal: 6.55s\tremaining: 11.5s\n",
      "363:\tlearn: 0.0001102\ttotal: 6.57s\tremaining: 11.5s\n",
      "364:\tlearn: 0.0001102\ttotal: 6.58s\tremaining: 11.5s\n",
      "365:\tlearn: 0.0001102\ttotal: 6.6s\tremaining: 11.4s\n",
      "366:\tlearn: 0.0001102\ttotal: 6.61s\tremaining: 11.4s\n",
      "367:\tlearn: 0.0001102\ttotal: 6.63s\tremaining: 11.4s\n",
      "368:\tlearn: 0.0001102\ttotal: 6.65s\tremaining: 11.4s\n",
      "369:\tlearn: 0.0001102\ttotal: 6.66s\tremaining: 11.3s\n",
      "370:\tlearn: 0.0001102\ttotal: 6.68s\tremaining: 11.3s\n",
      "371:\tlearn: 0.0001102\ttotal: 6.69s\tremaining: 11.3s\n",
      "372:\tlearn: 0.0001102\ttotal: 6.71s\tremaining: 11.3s\n",
      "373:\tlearn: 0.0001102\ttotal: 6.72s\tremaining: 11.2s\n",
      "374:\tlearn: 0.0001102\ttotal: 6.73s\tremaining: 11.2s\n",
      "375:\tlearn: 0.0001102\ttotal: 6.75s\tremaining: 11.2s\n",
      "376:\tlearn: 0.0001102\ttotal: 6.76s\tremaining: 11.2s\n",
      "377:\tlearn: 0.0001102\ttotal: 6.78s\tremaining: 11.2s\n",
      "378:\tlearn: 0.0001102\ttotal: 6.8s\tremaining: 11.1s\n",
      "379:\tlearn: 0.0001102\ttotal: 6.81s\tremaining: 11.1s\n",
      "380:\tlearn: 0.0001102\ttotal: 6.83s\tremaining: 11.1s\n",
      "381:\tlearn: 0.0001102\ttotal: 6.84s\tremaining: 11.1s\n",
      "382:\tlearn: 0.0001102\ttotal: 6.86s\tremaining: 11.1s\n",
      "383:\tlearn: 0.0001102\ttotal: 6.88s\tremaining: 11s\n",
      "384:\tlearn: 0.0001102\ttotal: 6.89s\tremaining: 11s\n",
      "385:\tlearn: 0.0001102\ttotal: 6.91s\tremaining: 11s\n",
      "386:\tlearn: 0.0001102\ttotal: 6.92s\tremaining: 11s\n",
      "387:\tlearn: 0.0001102\ttotal: 6.94s\tremaining: 10.9s\n",
      "388:\tlearn: 0.0001102\ttotal: 6.96s\tremaining: 10.9s\n",
      "389:\tlearn: 0.0001102\ttotal: 6.97s\tremaining: 10.9s\n",
      "390:\tlearn: 0.0001102\ttotal: 6.99s\tremaining: 10.9s\n",
      "391:\tlearn: 0.0001102\ttotal: 7s\tremaining: 10.9s\n",
      "392:\tlearn: 0.0001102\ttotal: 7.01s\tremaining: 10.8s\n",
      "393:\tlearn: 0.0001102\ttotal: 7.03s\tremaining: 10.8s\n",
      "394:\tlearn: 0.0001102\ttotal: 7.04s\tremaining: 10.8s\n",
      "395:\tlearn: 0.0001102\ttotal: 7.06s\tremaining: 10.8s\n",
      "396:\tlearn: 0.0001102\ttotal: 7.08s\tremaining: 10.8s\n",
      "397:\tlearn: 0.0001102\ttotal: 7.1s\tremaining: 10.7s\n",
      "398:\tlearn: 0.0001102\ttotal: 7.11s\tremaining: 10.7s\n",
      "399:\tlearn: 0.0001102\ttotal: 7.13s\tremaining: 10.7s\n",
      "400:\tlearn: 0.0001102\ttotal: 7.14s\tremaining: 10.7s\n",
      "401:\tlearn: 0.0001102\ttotal: 7.16s\tremaining: 10.7s\n",
      "402:\tlearn: 0.0001102\ttotal: 7.17s\tremaining: 10.6s\n",
      "403:\tlearn: 0.0001102\ttotal: 7.19s\tremaining: 10.6s\n",
      "404:\tlearn: 0.0001102\ttotal: 7.21s\tremaining: 10.6s\n",
      "405:\tlearn: 0.0001102\ttotal: 7.22s\tremaining: 10.6s\n",
      "406:\tlearn: 0.0001102\ttotal: 7.24s\tremaining: 10.5s\n",
      "407:\tlearn: 0.0001102\ttotal: 7.26s\tremaining: 10.5s\n",
      "408:\tlearn: 0.0001102\ttotal: 7.27s\tremaining: 10.5s\n",
      "409:\tlearn: 0.0001102\ttotal: 7.29s\tremaining: 10.5s\n",
      "410:\tlearn: 0.0001102\ttotal: 7.3s\tremaining: 10.5s\n",
      "411:\tlearn: 0.0001102\ttotal: 7.32s\tremaining: 10.4s\n",
      "412:\tlearn: 0.0001102\ttotal: 7.34s\tremaining: 10.4s\n",
      "413:\tlearn: 0.0001101\ttotal: 7.35s\tremaining: 10.4s\n",
      "414:\tlearn: 0.0001101\ttotal: 7.37s\tremaining: 10.4s\n",
      "415:\tlearn: 0.0001101\ttotal: 7.38s\tremaining: 10.4s\n",
      "416:\tlearn: 0.0001101\ttotal: 7.4s\tremaining: 10.3s\n",
      "417:\tlearn: 0.0001101\ttotal: 7.42s\tremaining: 10.3s\n",
      "418:\tlearn: 0.0001101\ttotal: 7.43s\tremaining: 10.3s\n",
      "419:\tlearn: 0.0001101\ttotal: 7.45s\tremaining: 10.3s\n",
      "420:\tlearn: 0.0001101\ttotal: 7.46s\tremaining: 10.3s\n",
      "421:\tlearn: 0.0001101\ttotal: 7.48s\tremaining: 10.2s\n",
      "422:\tlearn: 0.0001101\ttotal: 7.49s\tremaining: 10.2s\n",
      "423:\tlearn: 0.0001101\ttotal: 7.51s\tremaining: 10.2s\n",
      "424:\tlearn: 0.0001101\ttotal: 7.52s\tremaining: 10.2s\n",
      "425:\tlearn: 0.0001101\ttotal: 7.54s\tremaining: 10.2s\n",
      "426:\tlearn: 0.0001101\ttotal: 7.56s\tremaining: 10.1s\n",
      "427:\tlearn: 0.0001101\ttotal: 7.57s\tremaining: 10.1s\n",
      "428:\tlearn: 0.0001101\ttotal: 7.59s\tremaining: 10.1s\n",
      "429:\tlearn: 0.0001101\ttotal: 7.61s\tremaining: 10.1s\n",
      "430:\tlearn: 0.0001101\ttotal: 7.62s\tremaining: 10.1s\n",
      "431:\tlearn: 0.0001101\ttotal: 7.64s\tremaining: 10s\n",
      "432:\tlearn: 0.0001101\ttotal: 7.66s\tremaining: 10s\n",
      "433:\tlearn: 0.0001101\ttotal: 7.68s\tremaining: 10s\n",
      "434:\tlearn: 0.0001101\ttotal: 7.7s\tremaining: 10s\n",
      "435:\tlearn: 0.0001101\ttotal: 7.71s\tremaining: 9.98s\n",
      "436:\tlearn: 0.0001101\ttotal: 7.73s\tremaining: 9.96s\n",
      "437:\tlearn: 0.0001101\ttotal: 7.74s\tremaining: 9.94s\n",
      "438:\tlearn: 0.0001101\ttotal: 7.76s\tremaining: 9.92s\n",
      "439:\tlearn: 0.0001101\ttotal: 7.78s\tremaining: 9.89s\n",
      "440:\tlearn: 0.0001101\ttotal: 7.79s\tremaining: 9.87s\n",
      "441:\tlearn: 0.0001101\ttotal: 7.8s\tremaining: 9.85s\n",
      "442:\tlearn: 0.0001101\ttotal: 7.82s\tremaining: 9.83s\n",
      "443:\tlearn: 0.0001101\ttotal: 7.83s\tremaining: 9.81s\n",
      "444:\tlearn: 0.0001101\ttotal: 7.85s\tremaining: 9.79s\n",
      "445:\tlearn: 0.0001101\ttotal: 7.87s\tremaining: 9.77s\n",
      "446:\tlearn: 0.0001101\ttotal: 7.89s\tremaining: 9.77s\n",
      "447:\tlearn: 0.0001101\ttotal: 7.91s\tremaining: 9.75s\n",
      "448:\tlearn: 0.0001101\ttotal: 7.93s\tremaining: 9.73s\n",
      "449:\tlearn: 0.0001101\ttotal: 7.94s\tremaining: 9.7s\n",
      "450:\tlearn: 0.0001101\ttotal: 7.96s\tremaining: 9.68s\n",
      "451:\tlearn: 0.0001101\ttotal: 7.97s\tremaining: 9.67s\n",
      "452:\tlearn: 0.0001101\ttotal: 7.99s\tremaining: 9.65s\n",
      "453:\tlearn: 0.0001101\ttotal: 8s\tremaining: 9.62s\n",
      "454:\tlearn: 0.0001101\ttotal: 8.02s\tremaining: 9.6s\n",
      "455:\tlearn: 0.0001101\ttotal: 8.03s\tremaining: 9.58s\n",
      "456:\tlearn: 0.0001101\ttotal: 8.05s\tremaining: 9.56s\n",
      "457:\tlearn: 0.0001101\ttotal: 8.06s\tremaining: 9.54s\n",
      "458:\tlearn: 0.0001101\ttotal: 8.08s\tremaining: 9.52s\n",
      "459:\tlearn: 0.0001101\ttotal: 8.1s\tremaining: 9.51s\n",
      "460:\tlearn: 0.0001101\ttotal: 8.11s\tremaining: 9.49s\n",
      "461:\tlearn: 0.0001101\ttotal: 8.13s\tremaining: 9.47s\n",
      "462:\tlearn: 0.0001101\ttotal: 8.15s\tremaining: 9.45s\n",
      "463:\tlearn: 0.0001101\ttotal: 8.16s\tremaining: 9.43s\n",
      "464:\tlearn: 0.0001101\ttotal: 8.18s\tremaining: 9.41s\n",
      "465:\tlearn: 0.0001101\ttotal: 8.2s\tremaining: 9.39s\n",
      "466:\tlearn: 0.0001101\ttotal: 8.21s\tremaining: 9.37s\n",
      "467:\tlearn: 0.0001101\ttotal: 8.23s\tremaining: 9.35s\n",
      "468:\tlearn: 0.0001101\ttotal: 8.24s\tremaining: 9.33s\n",
      "469:\tlearn: 0.0001101\ttotal: 8.26s\tremaining: 9.31s\n",
      "470:\tlearn: 0.0001101\ttotal: 8.27s\tremaining: 9.29s\n",
      "471:\tlearn: 0.0001101\ttotal: 8.29s\tremaining: 9.27s\n",
      "472:\tlearn: 0.0001101\ttotal: 8.3s\tremaining: 9.25s\n",
      "473:\tlearn: 0.0001101\ttotal: 8.32s\tremaining: 9.23s\n",
      "474:\tlearn: 0.0001101\ttotal: 8.34s\tremaining: 9.21s\n",
      "475:\tlearn: 0.0001101\ttotal: 8.35s\tremaining: 9.19s\n",
      "476:\tlearn: 0.0001101\ttotal: 8.37s\tremaining: 9.17s\n",
      "477:\tlearn: 0.0001101\ttotal: 8.39s\tremaining: 9.16s\n",
      "478:\tlearn: 0.0001101\ttotal: 8.41s\tremaining: 9.15s\n",
      "479:\tlearn: 0.0001101\ttotal: 8.43s\tremaining: 9.13s\n",
      "480:\tlearn: 0.0001101\ttotal: 8.44s\tremaining: 9.11s\n",
      "481:\tlearn: 0.0001101\ttotal: 8.45s\tremaining: 9.09s\n",
      "482:\tlearn: 0.0001101\ttotal: 8.47s\tremaining: 9.06s\n",
      "483:\tlearn: 0.0001101\ttotal: 8.48s\tremaining: 9.04s\n",
      "484:\tlearn: 0.0001101\ttotal: 8.5s\tremaining: 9.02s\n",
      "485:\tlearn: 0.0001101\ttotal: 8.51s\tremaining: 9s\n",
      "486:\tlearn: 0.0001101\ttotal: 8.53s\tremaining: 8.98s\n",
      "487:\tlearn: 0.0001101\ttotal: 8.54s\tremaining: 8.96s\n",
      "488:\tlearn: 0.0001101\ttotal: 8.56s\tremaining: 8.95s\n",
      "489:\tlearn: 0.0001101\ttotal: 8.58s\tremaining: 8.93s\n",
      "490:\tlearn: 0.0001101\ttotal: 8.59s\tremaining: 8.91s\n",
      "491:\tlearn: 0.0001101\ttotal: 8.61s\tremaining: 8.89s\n",
      "492:\tlearn: 0.0001101\ttotal: 8.62s\tremaining: 8.87s\n",
      "493:\tlearn: 0.0001101\ttotal: 8.64s\tremaining: 8.85s\n",
      "494:\tlearn: 0.0001101\ttotal: 8.66s\tremaining: 8.84s\n",
      "495:\tlearn: 0.0001101\ttotal: 8.68s\tremaining: 8.82s\n",
      "496:\tlearn: 0.0001101\ttotal: 8.69s\tremaining: 8.8s\n",
      "497:\tlearn: 0.0001101\ttotal: 8.71s\tremaining: 8.78s\n",
      "498:\tlearn: 0.0001101\ttotal: 8.72s\tremaining: 8.76s\n",
      "499:\tlearn: 0.0001101\ttotal: 8.74s\tremaining: 8.74s\n",
      "500:\tlearn: 0.0001101\ttotal: 8.76s\tremaining: 8.72s\n",
      "501:\tlearn: 0.0001101\ttotal: 8.78s\tremaining: 8.71s\n",
      "502:\tlearn: 0.0001101\ttotal: 8.79s\tremaining: 8.69s\n",
      "503:\tlearn: 0.0001101\ttotal: 8.81s\tremaining: 8.67s\n",
      "504:\tlearn: 0.0001101\ttotal: 8.82s\tremaining: 8.65s\n",
      "505:\tlearn: 0.0001101\ttotal: 8.84s\tremaining: 8.63s\n",
      "506:\tlearn: 0.0001101\ttotal: 8.85s\tremaining: 8.61s\n",
      "507:\tlearn: 0.0001101\ttotal: 8.87s\tremaining: 8.59s\n",
      "508:\tlearn: 0.0001101\ttotal: 8.88s\tremaining: 8.57s\n",
      "509:\tlearn: 0.0001101\ttotal: 8.9s\tremaining: 8.55s\n",
      "510:\tlearn: 0.0001101\ttotal: 8.91s\tremaining: 8.53s\n",
      "511:\tlearn: 0.0001101\ttotal: 8.93s\tremaining: 8.51s\n",
      "512:\tlearn: 0.0001101\ttotal: 8.95s\tremaining: 8.49s\n",
      "513:\tlearn: 0.0001101\ttotal: 8.96s\tremaining: 8.47s\n",
      "514:\tlearn: 0.0001101\ttotal: 8.97s\tremaining: 8.45s\n",
      "515:\tlearn: 0.0001101\ttotal: 8.99s\tremaining: 8.43s\n",
      "516:\tlearn: 0.0001101\ttotal: 9s\tremaining: 8.41s\n",
      "517:\tlearn: 0.0001101\ttotal: 9.02s\tremaining: 8.39s\n",
      "518:\tlearn: 0.0001101\ttotal: 9.04s\tremaining: 8.38s\n",
      "519:\tlearn: 0.0001101\ttotal: 9.06s\tremaining: 8.36s\n",
      "520:\tlearn: 0.0001101\ttotal: 9.07s\tremaining: 8.34s\n",
      "521:\tlearn: 0.0001101\ttotal: 9.09s\tremaining: 8.32s\n",
      "522:\tlearn: 0.0001101\ttotal: 9.1s\tremaining: 8.3s\n",
      "523:\tlearn: 0.0001101\ttotal: 9.12s\tremaining: 8.29s\n",
      "524:\tlearn: 0.0001101\ttotal: 9.14s\tremaining: 8.27s\n",
      "525:\tlearn: 0.0001100\ttotal: 9.16s\tremaining: 8.25s\n",
      "526:\tlearn: 0.0001100\ttotal: 9.17s\tremaining: 8.23s\n",
      "527:\tlearn: 0.0001100\ttotal: 9.19s\tremaining: 8.21s\n",
      "528:\tlearn: 0.0001100\ttotal: 9.2s\tremaining: 8.19s\n",
      "529:\tlearn: 0.0001100\ttotal: 9.22s\tremaining: 8.17s\n",
      "530:\tlearn: 0.0001100\ttotal: 9.23s\tremaining: 8.15s\n",
      "531:\tlearn: 0.0001100\ttotal: 9.25s\tremaining: 8.13s\n",
      "532:\tlearn: 0.0001100\ttotal: 9.26s\tremaining: 8.11s\n",
      "533:\tlearn: 0.0001100\ttotal: 9.28s\tremaining: 8.1s\n",
      "534:\tlearn: 0.0001100\ttotal: 9.3s\tremaining: 8.08s\n",
      "535:\tlearn: 0.0001100\ttotal: 9.31s\tremaining: 8.06s\n",
      "536:\tlearn: 0.0001100\ttotal: 9.33s\tremaining: 8.04s\n",
      "537:\tlearn: 0.0001100\ttotal: 9.35s\tremaining: 8.03s\n",
      "538:\tlearn: 0.0001100\ttotal: 9.36s\tremaining: 8.01s\n",
      "539:\tlearn: 0.0001100\ttotal: 9.38s\tremaining: 7.99s\n",
      "540:\tlearn: 0.0001100\ttotal: 9.39s\tremaining: 7.97s\n",
      "541:\tlearn: 0.0001100\ttotal: 9.41s\tremaining: 7.95s\n",
      "542:\tlearn: 0.0001100\ttotal: 9.42s\tremaining: 7.93s\n",
      "543:\tlearn: 0.0001100\ttotal: 9.44s\tremaining: 7.91s\n",
      "544:\tlearn: 0.0001100\ttotal: 9.45s\tremaining: 7.89s\n",
      "545:\tlearn: 0.0001100\ttotal: 9.47s\tremaining: 7.88s\n",
      "546:\tlearn: 0.0001100\ttotal: 9.5s\tremaining: 7.86s\n",
      "547:\tlearn: 0.0001100\ttotal: 9.51s\tremaining: 7.84s\n",
      "548:\tlearn: 0.0001100\ttotal: 9.53s\tremaining: 7.83s\n",
      "549:\tlearn: 0.0001100\ttotal: 9.54s\tremaining: 7.8s\n",
      "550:\tlearn: 0.0001100\ttotal: 9.56s\tremaining: 7.79s\n",
      "551:\tlearn: 0.0001100\ttotal: 9.57s\tremaining: 7.77s\n",
      "552:\tlearn: 0.0001100\ttotal: 9.59s\tremaining: 7.75s\n",
      "553:\tlearn: 0.0001100\ttotal: 9.6s\tremaining: 7.73s\n",
      "554:\tlearn: 0.0001100\ttotal: 9.62s\tremaining: 7.71s\n",
      "555:\tlearn: 0.0001100\ttotal: 9.63s\tremaining: 7.69s\n",
      "556:\tlearn: 0.0001100\ttotal: 9.65s\tremaining: 7.67s\n",
      "557:\tlearn: 0.0001100\ttotal: 9.66s\tremaining: 7.65s\n",
      "558:\tlearn: 0.0001100\ttotal: 9.68s\tremaining: 7.63s\n",
      "559:\tlearn: 0.0001100\ttotal: 9.69s\tremaining: 7.62s\n",
      "560:\tlearn: 0.0001100\ttotal: 9.71s\tremaining: 7.6s\n",
      "561:\tlearn: 0.0001100\ttotal: 9.72s\tremaining: 7.58s\n",
      "562:\tlearn: 0.0001100\ttotal: 9.74s\tremaining: 7.56s\n",
      "563:\tlearn: 0.0001100\ttotal: 9.75s\tremaining: 7.54s\n",
      "564:\tlearn: 0.0001100\ttotal: 9.77s\tremaining: 7.52s\n",
      "565:\tlearn: 0.0001100\ttotal: 9.79s\tremaining: 7.5s\n",
      "566:\tlearn: 0.0001100\ttotal: 9.8s\tremaining: 7.48s\n",
      "567:\tlearn: 0.0001100\ttotal: 9.82s\tremaining: 7.47s\n",
      "568:\tlearn: 0.0001100\ttotal: 9.83s\tremaining: 7.45s\n",
      "569:\tlearn: 0.0001100\ttotal: 9.85s\tremaining: 7.43s\n",
      "570:\tlearn: 0.0001100\ttotal: 9.86s\tremaining: 7.41s\n",
      "571:\tlearn: 0.0001100\ttotal: 9.88s\tremaining: 7.39s\n",
      "572:\tlearn: 0.0001100\ttotal: 9.89s\tremaining: 7.37s\n",
      "573:\tlearn: 0.0001100\ttotal: 9.91s\tremaining: 7.35s\n",
      "574:\tlearn: 0.0001100\ttotal: 9.92s\tremaining: 7.33s\n",
      "575:\tlearn: 0.0001100\ttotal: 9.94s\tremaining: 7.31s\n",
      "576:\tlearn: 0.0001100\ttotal: 9.95s\tremaining: 7.29s\n",
      "577:\tlearn: 0.0001100\ttotal: 9.96s\tremaining: 7.28s\n",
      "578:\tlearn: 0.0001100\ttotal: 9.98s\tremaining: 7.26s\n",
      "579:\tlearn: 0.0001100\ttotal: 10s\tremaining: 7.24s\n",
      "580:\tlearn: 0.0001100\ttotal: 10s\tremaining: 7.22s\n",
      "581:\tlearn: 0.0001100\ttotal: 10s\tremaining: 7.21s\n",
      "582:\tlearn: 0.0001100\ttotal: 10s\tremaining: 7.19s\n",
      "583:\tlearn: 0.0001100\ttotal: 10.1s\tremaining: 7.17s\n",
      "584:\tlearn: 0.0001100\ttotal: 10.1s\tremaining: 7.15s\n",
      "585:\tlearn: 0.0001100\ttotal: 10.1s\tremaining: 7.13s\n",
      "586:\tlearn: 0.0001100\ttotal: 10.1s\tremaining: 7.11s\n",
      "587:\tlearn: 0.0001100\ttotal: 10.1s\tremaining: 7.09s\n",
      "588:\tlearn: 0.0001100\ttotal: 10.1s\tremaining: 7.08s\n",
      "589:\tlearn: 0.0001100\ttotal: 10.2s\tremaining: 7.06s\n",
      "590:\tlearn: 0.0001100\ttotal: 10.2s\tremaining: 7.04s\n",
      "591:\tlearn: 0.0001100\ttotal: 10.2s\tremaining: 7.02s\n",
      "592:\tlearn: 0.0001100\ttotal: 10.2s\tremaining: 7s\n",
      "593:\tlearn: 0.0001100\ttotal: 10.2s\tremaining: 6.99s\n",
      "594:\tlearn: 0.0001100\ttotal: 10.2s\tremaining: 6.97s\n",
      "595:\tlearn: 0.0001100\ttotal: 10.3s\tremaining: 6.95s\n",
      "596:\tlearn: 0.0001100\ttotal: 10.3s\tremaining: 6.93s\n",
      "597:\tlearn: 0.0001100\ttotal: 10.3s\tremaining: 6.92s\n",
      "598:\tlearn: 0.0001100\ttotal: 10.3s\tremaining: 6.9s\n",
      "599:\tlearn: 0.0001100\ttotal: 10.3s\tremaining: 6.88s\n",
      "600:\tlearn: 0.0001100\ttotal: 10.3s\tremaining: 6.86s\n",
      "601:\tlearn: 0.0001100\ttotal: 10.3s\tremaining: 6.84s\n",
      "602:\tlearn: 0.0001100\ttotal: 10.4s\tremaining: 6.83s\n",
      "603:\tlearn: 0.0001100\ttotal: 10.4s\tremaining: 6.81s\n",
      "604:\tlearn: 0.0001100\ttotal: 10.4s\tremaining: 6.79s\n",
      "605:\tlearn: 0.0001100\ttotal: 10.4s\tremaining: 6.77s\n",
      "606:\tlearn: 0.0001100\ttotal: 10.4s\tremaining: 6.75s\n",
      "607:\tlearn: 0.0001100\ttotal: 10.4s\tremaining: 6.73s\n",
      "608:\tlearn: 0.0001100\ttotal: 10.5s\tremaining: 6.71s\n",
      "609:\tlearn: 0.0001100\ttotal: 10.5s\tremaining: 6.69s\n",
      "610:\tlearn: 0.0001100\ttotal: 10.5s\tremaining: 6.68s\n",
      "611:\tlearn: 0.0001100\ttotal: 10.5s\tremaining: 6.66s\n",
      "612:\tlearn: 0.0001100\ttotal: 10.5s\tremaining: 6.64s\n",
      "613:\tlearn: 0.0001100\ttotal: 10.5s\tremaining: 6.62s\n",
      "614:\tlearn: 0.0001100\ttotal: 10.5s\tremaining: 6.6s\n",
      "615:\tlearn: 0.0001100\ttotal: 10.6s\tremaining: 6.58s\n",
      "616:\tlearn: 0.0001100\ttotal: 10.6s\tremaining: 6.56s\n",
      "617:\tlearn: 0.0001100\ttotal: 10.6s\tremaining: 6.54s\n",
      "618:\tlearn: 0.0001100\ttotal: 10.6s\tremaining: 6.53s\n",
      "619:\tlearn: 0.0001100\ttotal: 10.6s\tremaining: 6.51s\n",
      "620:\tlearn: 0.0001100\ttotal: 10.6s\tremaining: 6.49s\n",
      "621:\tlearn: 0.0001100\ttotal: 10.6s\tremaining: 6.47s\n",
      "622:\tlearn: 0.0001100\ttotal: 10.7s\tremaining: 6.45s\n",
      "623:\tlearn: 0.0001100\ttotal: 10.7s\tremaining: 6.43s\n",
      "624:\tlearn: 0.0001100\ttotal: 10.7s\tremaining: 6.42s\n",
      "625:\tlearn: 0.0001100\ttotal: 10.7s\tremaining: 6.4s\n",
      "626:\tlearn: 0.0001100\ttotal: 10.7s\tremaining: 6.38s\n",
      "627:\tlearn: 0.0001100\ttotal: 10.7s\tremaining: 6.36s\n",
      "628:\tlearn: 0.0001100\ttotal: 10.8s\tremaining: 6.34s\n",
      "629:\tlearn: 0.0001100\ttotal: 10.8s\tremaining: 6.33s\n",
      "630:\tlearn: 0.0001100\ttotal: 10.8s\tremaining: 6.31s\n",
      "631:\tlearn: 0.0001100\ttotal: 10.8s\tremaining: 6.29s\n",
      "632:\tlearn: 0.0001100\ttotal: 10.8s\tremaining: 6.27s\n",
      "633:\tlearn: 0.0001100\ttotal: 10.8s\tremaining: 6.26s\n",
      "634:\tlearn: 0.0001099\ttotal: 10.9s\tremaining: 6.24s\n",
      "635:\tlearn: 0.0001099\ttotal: 10.9s\tremaining: 6.22s\n",
      "636:\tlearn: 0.0001099\ttotal: 10.9s\tremaining: 6.2s\n",
      "637:\tlearn: 0.0001099\ttotal: 10.9s\tremaining: 6.18s\n",
      "638:\tlearn: 0.0001099\ttotal: 10.9s\tremaining: 6.17s\n",
      "639:\tlearn: 0.0001099\ttotal: 10.9s\tremaining: 6.15s\n",
      "640:\tlearn: 0.0001099\ttotal: 10.9s\tremaining: 6.13s\n",
      "641:\tlearn: 0.0001099\ttotal: 11s\tremaining: 6.11s\n",
      "642:\tlearn: 0.0001099\ttotal: 11s\tremaining: 6.09s\n",
      "643:\tlearn: 0.0001099\ttotal: 11s\tremaining: 6.08s\n",
      "644:\tlearn: 0.0001099\ttotal: 11s\tremaining: 6.06s\n",
      "645:\tlearn: 0.0001099\ttotal: 11s\tremaining: 6.04s\n",
      "646:\tlearn: 0.0001099\ttotal: 11s\tremaining: 6.03s\n",
      "647:\tlearn: 0.0001099\ttotal: 11.1s\tremaining: 6.01s\n",
      "648:\tlearn: 0.0001099\ttotal: 11.1s\tremaining: 5.99s\n",
      "649:\tlearn: 0.0001099\ttotal: 11.1s\tremaining: 5.97s\n",
      "650:\tlearn: 0.0001099\ttotal: 11.1s\tremaining: 5.95s\n",
      "651:\tlearn: 0.0001099\ttotal: 11.1s\tremaining: 5.93s\n",
      "652:\tlearn: 0.0001099\ttotal: 11.1s\tremaining: 5.92s\n",
      "653:\tlearn: 0.0001099\ttotal: 11.1s\tremaining: 5.9s\n",
      "654:\tlearn: 0.0001099\ttotal: 11.2s\tremaining: 5.88s\n",
      "655:\tlearn: 0.0001099\ttotal: 11.2s\tremaining: 5.86s\n",
      "656:\tlearn: 0.0001099\ttotal: 11.2s\tremaining: 5.84s\n",
      "657:\tlearn: 0.0001099\ttotal: 11.2s\tremaining: 5.82s\n",
      "658:\tlearn: 0.0001099\ttotal: 11.2s\tremaining: 5.8s\n",
      "659:\tlearn: 0.0001099\ttotal: 11.2s\tremaining: 5.79s\n",
      "660:\tlearn: 0.0001099\ttotal: 11.3s\tremaining: 5.77s\n",
      "661:\tlearn: 0.0001099\ttotal: 11.3s\tremaining: 5.75s\n",
      "662:\tlearn: 0.0001099\ttotal: 11.3s\tremaining: 5.73s\n",
      "663:\tlearn: 0.0001099\ttotal: 11.3s\tremaining: 5.71s\n",
      "664:\tlearn: 0.0001099\ttotal: 11.3s\tremaining: 5.7s\n",
      "665:\tlearn: 0.0001099\ttotal: 11.3s\tremaining: 5.68s\n",
      "666:\tlearn: 0.0001099\ttotal: 11.3s\tremaining: 5.66s\n",
      "667:\tlearn: 0.0001099\ttotal: 11.4s\tremaining: 5.64s\n",
      "668:\tlearn: 0.0001099\ttotal: 11.4s\tremaining: 5.62s\n",
      "669:\tlearn: 0.0001099\ttotal: 11.4s\tremaining: 5.61s\n",
      "670:\tlearn: 0.0001099\ttotal: 11.4s\tremaining: 5.59s\n",
      "671:\tlearn: 0.0001099\ttotal: 11.4s\tremaining: 5.57s\n",
      "672:\tlearn: 0.0001099\ttotal: 11.4s\tremaining: 5.55s\n",
      "673:\tlearn: 0.0001099\ttotal: 11.4s\tremaining: 5.54s\n",
      "674:\tlearn: 0.0001099\ttotal: 11.5s\tremaining: 5.52s\n",
      "675:\tlearn: 0.0001099\ttotal: 11.5s\tremaining: 5.5s\n",
      "676:\tlearn: 0.0001099\ttotal: 11.5s\tremaining: 5.48s\n",
      "677:\tlearn: 0.0001099\ttotal: 11.5s\tremaining: 5.46s\n",
      "678:\tlearn: 0.0001099\ttotal: 11.5s\tremaining: 5.45s\n",
      "679:\tlearn: 0.0001099\ttotal: 11.5s\tremaining: 5.43s\n",
      "680:\tlearn: 0.0001099\ttotal: 11.6s\tremaining: 5.41s\n",
      "681:\tlearn: 0.0001099\ttotal: 11.6s\tremaining: 5.39s\n",
      "682:\tlearn: 0.0001099\ttotal: 11.6s\tremaining: 5.38s\n",
      "683:\tlearn: 0.0001099\ttotal: 11.6s\tremaining: 5.36s\n",
      "684:\tlearn: 0.0001099\ttotal: 11.6s\tremaining: 5.34s\n",
      "685:\tlearn: 0.0001099\ttotal: 11.6s\tremaining: 5.33s\n",
      "686:\tlearn: 0.0001099\ttotal: 11.6s\tremaining: 5.31s\n",
      "687:\tlearn: 0.0001099\ttotal: 11.7s\tremaining: 5.29s\n",
      "688:\tlearn: 0.0001099\ttotal: 11.7s\tremaining: 5.27s\n",
      "689:\tlearn: 0.0001099\ttotal: 11.7s\tremaining: 5.25s\n",
      "690:\tlearn: 0.0001099\ttotal: 11.7s\tremaining: 5.24s\n",
      "691:\tlearn: 0.0001099\ttotal: 11.7s\tremaining: 5.22s\n",
      "692:\tlearn: 0.0001099\ttotal: 11.7s\tremaining: 5.2s\n",
      "693:\tlearn: 0.0001099\ttotal: 11.8s\tremaining: 5.19s\n",
      "694:\tlearn: 0.0001099\ttotal: 11.8s\tremaining: 5.17s\n",
      "695:\tlearn: 0.0001099\ttotal: 11.8s\tremaining: 5.15s\n",
      "696:\tlearn: 0.0001099\ttotal: 11.8s\tremaining: 5.13s\n",
      "697:\tlearn: 0.0001099\ttotal: 11.8s\tremaining: 5.12s\n",
      "698:\tlearn: 0.0001099\ttotal: 11.8s\tremaining: 5.1s\n",
      "699:\tlearn: 0.0001099\ttotal: 11.9s\tremaining: 5.08s\n",
      "700:\tlearn: 0.0001099\ttotal: 11.9s\tremaining: 5.07s\n",
      "701:\tlearn: 0.0001099\ttotal: 11.9s\tremaining: 5.05s\n",
      "702:\tlearn: 0.0001099\ttotal: 11.9s\tremaining: 5.03s\n",
      "703:\tlearn: 0.0001099\ttotal: 11.9s\tremaining: 5.01s\n",
      "704:\tlearn: 0.0001099\ttotal: 11.9s\tremaining: 5s\n",
      "705:\tlearn: 0.0001099\ttotal: 12s\tremaining: 4.98s\n",
      "706:\tlearn: 0.0001099\ttotal: 12s\tremaining: 4.96s\n",
      "707:\tlearn: 0.0001099\ttotal: 12s\tremaining: 4.94s\n",
      "708:\tlearn: 0.0001099\ttotal: 12s\tremaining: 4.92s\n",
      "709:\tlearn: 0.0001099\ttotal: 12s\tremaining: 4.91s\n",
      "710:\tlearn: 0.0001099\ttotal: 12s\tremaining: 4.89s\n",
      "711:\tlearn: 0.0001099\ttotal: 12s\tremaining: 4.87s\n",
      "712:\tlearn: 0.0001099\ttotal: 12.1s\tremaining: 4.86s\n",
      "713:\tlearn: 0.0001099\ttotal: 12.1s\tremaining: 4.84s\n",
      "714:\tlearn: 0.0001099\ttotal: 12.1s\tremaining: 4.82s\n",
      "715:\tlearn: 0.0001099\ttotal: 12.1s\tremaining: 4.8s\n",
      "716:\tlearn: 0.0001099\ttotal: 12.1s\tremaining: 4.79s\n",
      "717:\tlearn: 0.0001099\ttotal: 12.2s\tremaining: 4.77s\n",
      "718:\tlearn: 0.0001099\ttotal: 12.2s\tremaining: 4.76s\n",
      "719:\tlearn: 0.0001099\ttotal: 12.2s\tremaining: 4.74s\n",
      "720:\tlearn: 0.0001099\ttotal: 12.2s\tremaining: 4.72s\n",
      "721:\tlearn: 0.0001099\ttotal: 12.2s\tremaining: 4.7s\n",
      "722:\tlearn: 0.0001099\ttotal: 12.2s\tremaining: 4.69s\n",
      "723:\tlearn: 0.0001099\ttotal: 12.3s\tremaining: 4.67s\n",
      "724:\tlearn: 0.0001099\ttotal: 12.3s\tremaining: 4.65s\n",
      "725:\tlearn: 0.0001099\ttotal: 12.3s\tremaining: 4.63s\n",
      "726:\tlearn: 0.0001099\ttotal: 12.3s\tremaining: 4.62s\n",
      "727:\tlearn: 0.0001099\ttotal: 12.3s\tremaining: 4.6s\n",
      "728:\tlearn: 0.0001099\ttotal: 12.3s\tremaining: 4.58s\n",
      "729:\tlearn: 0.0001099\ttotal: 12.3s\tremaining: 4.56s\n",
      "730:\tlearn: 0.0001099\ttotal: 12.4s\tremaining: 4.55s\n",
      "731:\tlearn: 0.0001099\ttotal: 12.4s\tremaining: 4.53s\n",
      "732:\tlearn: 0.0001099\ttotal: 12.4s\tremaining: 4.51s\n",
      "733:\tlearn: 0.0001099\ttotal: 12.4s\tremaining: 4.49s\n",
      "734:\tlearn: 0.0001099\ttotal: 12.4s\tremaining: 4.48s\n",
      "735:\tlearn: 0.0001099\ttotal: 12.4s\tremaining: 4.46s\n",
      "736:\tlearn: 0.0001099\ttotal: 12.4s\tremaining: 4.44s\n",
      "737:\tlearn: 0.0001099\ttotal: 12.5s\tremaining: 4.42s\n",
      "738:\tlearn: 0.0001099\ttotal: 12.5s\tremaining: 4.41s\n",
      "739:\tlearn: 0.0001099\ttotal: 12.5s\tremaining: 4.39s\n",
      "740:\tlearn: 0.0001099\ttotal: 12.5s\tremaining: 4.37s\n",
      "741:\tlearn: 0.0001099\ttotal: 12.5s\tremaining: 4.35s\n",
      "742:\tlearn: 0.0001099\ttotal: 12.5s\tremaining: 4.34s\n",
      "743:\tlearn: 0.0001099\ttotal: 12.5s\tremaining: 4.32s\n",
      "744:\tlearn: 0.0001099\ttotal: 12.6s\tremaining: 4.3s\n",
      "745:\tlearn: 0.0001099\ttotal: 12.6s\tremaining: 4.28s\n",
      "746:\tlearn: 0.0001099\ttotal: 12.6s\tremaining: 4.26s\n",
      "747:\tlearn: 0.0001099\ttotal: 12.6s\tremaining: 4.25s\n",
      "748:\tlearn: 0.0001099\ttotal: 12.6s\tremaining: 4.23s\n",
      "749:\tlearn: 0.0001099\ttotal: 12.6s\tremaining: 4.21s\n",
      "750:\tlearn: 0.0001099\ttotal: 12.6s\tremaining: 4.19s\n",
      "751:\tlearn: 0.0001099\ttotal: 12.7s\tremaining: 4.17s\n",
      "752:\tlearn: 0.0001099\ttotal: 12.7s\tremaining: 4.16s\n",
      "753:\tlearn: 0.0001099\ttotal: 12.7s\tremaining: 4.14s\n",
      "754:\tlearn: 0.0001099\ttotal: 12.7s\tremaining: 4.12s\n",
      "755:\tlearn: 0.0001099\ttotal: 12.7s\tremaining: 4.11s\n",
      "756:\tlearn: 0.0001099\ttotal: 12.7s\tremaining: 4.09s\n",
      "757:\tlearn: 0.0001099\ttotal: 12.7s\tremaining: 4.07s\n",
      "758:\tlearn: 0.0001099\ttotal: 12.8s\tremaining: 4.05s\n",
      "759:\tlearn: 0.0001099\ttotal: 12.8s\tremaining: 4.03s\n",
      "760:\tlearn: 0.0001099\ttotal: 12.8s\tremaining: 4.02s\n",
      "761:\tlearn: 0.0001099\ttotal: 12.8s\tremaining: 4s\n",
      "762:\tlearn: 0.0001099\ttotal: 12.8s\tremaining: 3.98s\n",
      "763:\tlearn: 0.0001098\ttotal: 12.8s\tremaining: 3.96s\n",
      "764:\tlearn: 0.0001098\ttotal: 12.8s\tremaining: 3.95s\n",
      "765:\tlearn: 0.0001098\ttotal: 12.9s\tremaining: 3.93s\n",
      "766:\tlearn: 0.0001098\ttotal: 12.9s\tremaining: 3.91s\n",
      "767:\tlearn: 0.0001098\ttotal: 12.9s\tremaining: 3.9s\n",
      "768:\tlearn: 0.0001098\ttotal: 12.9s\tremaining: 3.88s\n",
      "769:\tlearn: 0.0001098\ttotal: 12.9s\tremaining: 3.86s\n",
      "770:\tlearn: 0.0001098\ttotal: 12.9s\tremaining: 3.84s\n",
      "771:\tlearn: 0.0001098\ttotal: 13s\tremaining: 3.83s\n",
      "772:\tlearn: 0.0001098\ttotal: 13s\tremaining: 3.81s\n",
      "773:\tlearn: 0.0001098\ttotal: 13s\tremaining: 3.79s\n",
      "774:\tlearn: 0.0001098\ttotal: 13s\tremaining: 3.78s\n",
      "775:\tlearn: 0.0001098\ttotal: 13s\tremaining: 3.76s\n",
      "776:\tlearn: 0.0001098\ttotal: 13s\tremaining: 3.74s\n",
      "777:\tlearn: 0.0001098\ttotal: 13.1s\tremaining: 3.73s\n",
      "778:\tlearn: 0.0001098\ttotal: 13.1s\tremaining: 3.71s\n",
      "779:\tlearn: 0.0001098\ttotal: 13.1s\tremaining: 3.69s\n",
      "780:\tlearn: 0.0001098\ttotal: 13.1s\tremaining: 3.67s\n",
      "781:\tlearn: 0.0001098\ttotal: 13.1s\tremaining: 3.66s\n",
      "782:\tlearn: 0.0001098\ttotal: 13.1s\tremaining: 3.64s\n",
      "783:\tlearn: 0.0001098\ttotal: 13.2s\tremaining: 3.62s\n",
      "784:\tlearn: 0.0001098\ttotal: 13.2s\tremaining: 3.61s\n",
      "785:\tlearn: 0.0001098\ttotal: 13.2s\tremaining: 3.59s\n",
      "786:\tlearn: 0.0001098\ttotal: 13.2s\tremaining: 3.57s\n",
      "787:\tlearn: 0.0001098\ttotal: 13.2s\tremaining: 3.56s\n",
      "788:\tlearn: 0.0001098\ttotal: 13.2s\tremaining: 3.54s\n",
      "789:\tlearn: 0.0001098\ttotal: 13.2s\tremaining: 3.52s\n",
      "790:\tlearn: 0.0001098\ttotal: 13.3s\tremaining: 3.5s\n",
      "791:\tlearn: 0.0001098\ttotal: 13.3s\tremaining: 3.48s\n",
      "792:\tlearn: 0.0001098\ttotal: 13.3s\tremaining: 3.47s\n",
      "793:\tlearn: 0.0001098\ttotal: 13.3s\tremaining: 3.45s\n",
      "794:\tlearn: 0.0001098\ttotal: 13.3s\tremaining: 3.43s\n",
      "795:\tlearn: 0.0001098\ttotal: 13.3s\tremaining: 3.42s\n",
      "796:\tlearn: 0.0001098\ttotal: 13.3s\tremaining: 3.4s\n",
      "797:\tlearn: 0.0001098\ttotal: 13.4s\tremaining: 3.38s\n",
      "798:\tlearn: 0.0001098\ttotal: 13.4s\tremaining: 3.37s\n",
      "799:\tlearn: 0.0001098\ttotal: 13.4s\tremaining: 3.35s\n",
      "800:\tlearn: 0.0001098\ttotal: 13.4s\tremaining: 3.33s\n",
      "801:\tlearn: 0.0001098\ttotal: 13.4s\tremaining: 3.31s\n",
      "802:\tlearn: 0.0001098\ttotal: 13.4s\tremaining: 3.3s\n",
      "803:\tlearn: 0.0001098\ttotal: 13.5s\tremaining: 3.28s\n",
      "804:\tlearn: 0.0001098\ttotal: 13.5s\tremaining: 3.26s\n",
      "805:\tlearn: 0.0001098\ttotal: 13.5s\tremaining: 3.25s\n",
      "806:\tlearn: 0.0001098\ttotal: 13.5s\tremaining: 3.23s\n",
      "807:\tlearn: 0.0001098\ttotal: 13.5s\tremaining: 3.21s\n",
      "808:\tlearn: 0.0001098\ttotal: 13.5s\tremaining: 3.19s\n",
      "809:\tlearn: 0.0001098\ttotal: 13.5s\tremaining: 3.18s\n",
      "810:\tlearn: 0.0001098\ttotal: 13.6s\tremaining: 3.16s\n",
      "811:\tlearn: 0.0001098\ttotal: 13.6s\tremaining: 3.14s\n",
      "812:\tlearn: 0.0001098\ttotal: 13.6s\tremaining: 3.13s\n",
      "813:\tlearn: 0.0001098\ttotal: 13.6s\tremaining: 3.11s\n",
      "814:\tlearn: 0.0001098\ttotal: 13.6s\tremaining: 3.09s\n",
      "815:\tlearn: 0.0001098\ttotal: 13.6s\tremaining: 3.08s\n",
      "816:\tlearn: 0.0001098\ttotal: 13.7s\tremaining: 3.06s\n",
      "817:\tlearn: 0.0001098\ttotal: 13.7s\tremaining: 3.04s\n",
      "818:\tlearn: 0.0001098\ttotal: 13.7s\tremaining: 3.02s\n",
      "819:\tlearn: 0.0001098\ttotal: 13.7s\tremaining: 3.01s\n",
      "820:\tlearn: 0.0001098\ttotal: 13.7s\tremaining: 2.99s\n",
      "821:\tlearn: 0.0001098\ttotal: 13.7s\tremaining: 2.97s\n",
      "822:\tlearn: 0.0001098\ttotal: 13.7s\tremaining: 2.96s\n",
      "823:\tlearn: 0.0001098\ttotal: 13.8s\tremaining: 2.94s\n",
      "824:\tlearn: 0.0001098\ttotal: 13.8s\tremaining: 2.92s\n",
      "825:\tlearn: 0.0001098\ttotal: 13.8s\tremaining: 2.9s\n",
      "826:\tlearn: 0.0001098\ttotal: 13.8s\tremaining: 2.89s\n",
      "827:\tlearn: 0.0001098\ttotal: 13.8s\tremaining: 2.87s\n",
      "828:\tlearn: 0.0001098\ttotal: 13.8s\tremaining: 2.85s\n",
      "829:\tlearn: 0.0001098\ttotal: 13.9s\tremaining: 2.84s\n",
      "830:\tlearn: 0.0001098\ttotal: 13.9s\tremaining: 2.82s\n",
      "831:\tlearn: 0.0001098\ttotal: 13.9s\tremaining: 2.8s\n",
      "832:\tlearn: 0.0001098\ttotal: 13.9s\tremaining: 2.79s\n",
      "833:\tlearn: 0.0001098\ttotal: 13.9s\tremaining: 2.77s\n",
      "834:\tlearn: 0.0001098\ttotal: 13.9s\tremaining: 2.75s\n",
      "835:\tlearn: 0.0001098\ttotal: 13.9s\tremaining: 2.73s\n",
      "836:\tlearn: 0.0001098\ttotal: 14s\tremaining: 2.72s\n",
      "837:\tlearn: 0.0001098\ttotal: 14s\tremaining: 2.7s\n",
      "838:\tlearn: 0.0001098\ttotal: 14s\tremaining: 2.68s\n",
      "839:\tlearn: 0.0001098\ttotal: 14s\tremaining: 2.67s\n",
      "840:\tlearn: 0.0001097\ttotal: 14s\tremaining: 2.65s\n",
      "841:\tlearn: 0.0001097\ttotal: 14s\tremaining: 2.63s\n",
      "842:\tlearn: 0.0001097\ttotal: 14.1s\tremaining: 2.62s\n",
      "843:\tlearn: 0.0001097\ttotal: 14.1s\tremaining: 2.6s\n",
      "844:\tlearn: 0.0001097\ttotal: 14.1s\tremaining: 2.58s\n",
      "845:\tlearn: 0.0001097\ttotal: 14.1s\tremaining: 2.57s\n",
      "846:\tlearn: 0.0001097\ttotal: 14.1s\tremaining: 2.55s\n",
      "847:\tlearn: 0.0001097\ttotal: 14.1s\tremaining: 2.53s\n",
      "848:\tlearn: 0.0001097\ttotal: 14.2s\tremaining: 2.52s\n",
      "849:\tlearn: 0.0001097\ttotal: 14.2s\tremaining: 2.5s\n",
      "850:\tlearn: 0.0001097\ttotal: 14.2s\tremaining: 2.48s\n",
      "851:\tlearn: 0.0001097\ttotal: 14.2s\tremaining: 2.47s\n",
      "852:\tlearn: 0.0001097\ttotal: 14.2s\tremaining: 2.45s\n",
      "853:\tlearn: 0.0001097\ttotal: 14.2s\tremaining: 2.43s\n",
      "854:\tlearn: 0.0001097\ttotal: 14.3s\tremaining: 2.42s\n",
      "855:\tlearn: 0.0001097\ttotal: 14.3s\tremaining: 2.4s\n",
      "856:\tlearn: 0.0001097\ttotal: 14.3s\tremaining: 2.38s\n",
      "857:\tlearn: 0.0001097\ttotal: 14.3s\tremaining: 2.37s\n",
      "858:\tlearn: 0.0001097\ttotal: 14.3s\tremaining: 2.35s\n",
      "859:\tlearn: 0.0001097\ttotal: 14.3s\tremaining: 2.33s\n",
      "860:\tlearn: 0.0001097\ttotal: 14.3s\tremaining: 2.31s\n",
      "861:\tlearn: 0.0001097\ttotal: 14.4s\tremaining: 2.3s\n",
      "862:\tlearn: 0.0001097\ttotal: 14.4s\tremaining: 2.28s\n",
      "863:\tlearn: 0.0001097\ttotal: 14.4s\tremaining: 2.26s\n",
      "864:\tlearn: 0.0001097\ttotal: 14.4s\tremaining: 2.25s\n",
      "865:\tlearn: 0.0001097\ttotal: 14.4s\tremaining: 2.23s\n",
      "866:\tlearn: 0.0001097\ttotal: 14.4s\tremaining: 2.21s\n",
      "867:\tlearn: 0.0001097\ttotal: 14.4s\tremaining: 2.2s\n",
      "868:\tlearn: 0.0001097\ttotal: 14.5s\tremaining: 2.18s\n",
      "869:\tlearn: 0.0001097\ttotal: 14.5s\tremaining: 2.16s\n",
      "870:\tlearn: 0.0001097\ttotal: 14.5s\tremaining: 2.15s\n",
      "871:\tlearn: 0.0001097\ttotal: 14.5s\tremaining: 2.13s\n",
      "872:\tlearn: 0.0001097\ttotal: 14.5s\tremaining: 2.11s\n",
      "873:\tlearn: 0.0001097\ttotal: 14.5s\tremaining: 2.1s\n",
      "874:\tlearn: 0.0001097\ttotal: 14.6s\tremaining: 2.08s\n",
      "875:\tlearn: 0.0001097\ttotal: 14.6s\tremaining: 2.06s\n",
      "876:\tlearn: 0.0001097\ttotal: 14.6s\tremaining: 2.04s\n",
      "877:\tlearn: 0.0001097\ttotal: 14.6s\tremaining: 2.03s\n",
      "878:\tlearn: 0.0001097\ttotal: 14.6s\tremaining: 2.01s\n",
      "879:\tlearn: 0.0001097\ttotal: 14.6s\tremaining: 1.99s\n",
      "880:\tlearn: 0.0001097\ttotal: 14.6s\tremaining: 1.98s\n",
      "881:\tlearn: 0.0001097\ttotal: 14.7s\tremaining: 1.96s\n",
      "882:\tlearn: 0.0001097\ttotal: 14.7s\tremaining: 1.94s\n",
      "883:\tlearn: 0.0001097\ttotal: 14.7s\tremaining: 1.93s\n",
      "884:\tlearn: 0.0001097\ttotal: 14.7s\tremaining: 1.91s\n",
      "885:\tlearn: 0.0001097\ttotal: 14.7s\tremaining: 1.89s\n",
      "886:\tlearn: 0.0001097\ttotal: 14.7s\tremaining: 1.88s\n",
      "887:\tlearn: 0.0001097\ttotal: 14.7s\tremaining: 1.86s\n",
      "888:\tlearn: 0.0001097\ttotal: 14.8s\tremaining: 1.84s\n",
      "889:\tlearn: 0.0001097\ttotal: 14.8s\tremaining: 1.83s\n",
      "890:\tlearn: 0.0001097\ttotal: 14.8s\tremaining: 1.81s\n",
      "891:\tlearn: 0.0001097\ttotal: 14.8s\tremaining: 1.79s\n",
      "892:\tlearn: 0.0001097\ttotal: 14.8s\tremaining: 1.78s\n",
      "893:\tlearn: 0.0001097\ttotal: 14.8s\tremaining: 1.76s\n",
      "894:\tlearn: 0.0001097\ttotal: 14.9s\tremaining: 1.74s\n",
      "895:\tlearn: 0.0001097\ttotal: 14.9s\tremaining: 1.73s\n",
      "896:\tlearn: 0.0001097\ttotal: 14.9s\tremaining: 1.71s\n",
      "897:\tlearn: 0.0001097\ttotal: 14.9s\tremaining: 1.69s\n",
      "898:\tlearn: 0.0001097\ttotal: 14.9s\tremaining: 1.68s\n",
      "899:\tlearn: 0.0001097\ttotal: 15s\tremaining: 1.66s\n",
      "900:\tlearn: 0.0001097\ttotal: 15s\tremaining: 1.65s\n",
      "901:\tlearn: 0.0001097\ttotal: 15s\tremaining: 1.63s\n",
      "902:\tlearn: 0.0001097\ttotal: 15s\tremaining: 1.61s\n",
      "903:\tlearn: 0.0001097\ttotal: 15s\tremaining: 1.59s\n",
      "904:\tlearn: 0.0001097\ttotal: 15s\tremaining: 1.58s\n",
      "905:\tlearn: 0.0001097\ttotal: 15.1s\tremaining: 1.56s\n",
      "906:\tlearn: 0.0001097\ttotal: 15.1s\tremaining: 1.54s\n",
      "907:\tlearn: 0.0001097\ttotal: 15.1s\tremaining: 1.53s\n",
      "908:\tlearn: 0.0001097\ttotal: 15.1s\tremaining: 1.51s\n",
      "909:\tlearn: 0.0001097\ttotal: 15.1s\tremaining: 1.5s\n",
      "910:\tlearn: 0.0001097\ttotal: 15.1s\tremaining: 1.48s\n",
      "911:\tlearn: 0.0001097\ttotal: 15.2s\tremaining: 1.46s\n",
      "912:\tlearn: 0.0001097\ttotal: 15.2s\tremaining: 1.45s\n",
      "913:\tlearn: 0.0001097\ttotal: 15.2s\tremaining: 1.43s\n",
      "914:\tlearn: 0.0001097\ttotal: 15.2s\tremaining: 1.41s\n",
      "915:\tlearn: 0.0001097\ttotal: 15.2s\tremaining: 1.4s\n",
      "916:\tlearn: 0.0001097\ttotal: 15.2s\tremaining: 1.38s\n",
      "917:\tlearn: 0.0001097\ttotal: 15.2s\tremaining: 1.36s\n",
      "918:\tlearn: 0.0001097\ttotal: 15.3s\tremaining: 1.34s\n",
      "919:\tlearn: 0.0001097\ttotal: 15.3s\tremaining: 1.33s\n",
      "920:\tlearn: 0.0001097\ttotal: 15.3s\tremaining: 1.31s\n",
      "921:\tlearn: 0.0001097\ttotal: 15.3s\tremaining: 1.29s\n",
      "922:\tlearn: 0.0001097\ttotal: 15.3s\tremaining: 1.28s\n",
      "923:\tlearn: 0.0001097\ttotal: 15.3s\tremaining: 1.26s\n",
      "924:\tlearn: 0.0001097\ttotal: 15.3s\tremaining: 1.24s\n",
      "925:\tlearn: 0.0001097\ttotal: 15.4s\tremaining: 1.23s\n",
      "926:\tlearn: 0.0001097\ttotal: 15.4s\tremaining: 1.21s\n",
      "927:\tlearn: 0.0001096\ttotal: 15.4s\tremaining: 1.19s\n",
      "928:\tlearn: 0.0001096\ttotal: 15.4s\tremaining: 1.18s\n",
      "929:\tlearn: 0.0001096\ttotal: 15.4s\tremaining: 1.16s\n",
      "930:\tlearn: 0.0001096\ttotal: 15.4s\tremaining: 1.14s\n",
      "931:\tlearn: 0.0001096\ttotal: 15.5s\tremaining: 1.13s\n",
      "932:\tlearn: 0.0001096\ttotal: 15.5s\tremaining: 1.11s\n",
      "933:\tlearn: 0.0001096\ttotal: 15.5s\tremaining: 1.09s\n",
      "934:\tlearn: 0.0001096\ttotal: 15.5s\tremaining: 1.08s\n",
      "935:\tlearn: 0.0001096\ttotal: 15.5s\tremaining: 1.06s\n",
      "936:\tlearn: 0.0001096\ttotal: 15.5s\tremaining: 1.04s\n",
      "937:\tlearn: 0.0001096\ttotal: 15.5s\tremaining: 1.03s\n",
      "938:\tlearn: 0.0001096\ttotal: 15.6s\tremaining: 1.01s\n",
      "939:\tlearn: 0.0001096\ttotal: 15.6s\tremaining: 994ms\n",
      "940:\tlearn: 0.0001096\ttotal: 15.6s\tremaining: 978ms\n",
      "941:\tlearn: 0.0001096\ttotal: 15.6s\tremaining: 961ms\n",
      "942:\tlearn: 0.0001096\ttotal: 15.6s\tremaining: 944ms\n",
      "943:\tlearn: 0.0001096\ttotal: 15.6s\tremaining: 928ms\n",
      "944:\tlearn: 0.0001096\ttotal: 15.7s\tremaining: 911ms\n",
      "945:\tlearn: 0.0001096\ttotal: 15.7s\tremaining: 894ms\n",
      "946:\tlearn: 0.0001096\ttotal: 15.7s\tremaining: 878ms\n",
      "947:\tlearn: 0.0001096\ttotal: 15.7s\tremaining: 861ms\n",
      "948:\tlearn: 0.0001096\ttotal: 15.7s\tremaining: 845ms\n",
      "949:\tlearn: 0.0001096\ttotal: 15.7s\tremaining: 828ms\n",
      "950:\tlearn: 0.0001096\ttotal: 15.7s\tremaining: 811ms\n",
      "951:\tlearn: 0.0001096\ttotal: 15.8s\tremaining: 795ms\n",
      "952:\tlearn: 0.0001096\ttotal: 15.8s\tremaining: 778ms\n",
      "953:\tlearn: 0.0001096\ttotal: 15.8s\tremaining: 761ms\n",
      "954:\tlearn: 0.0001096\ttotal: 15.8s\tremaining: 745ms\n",
      "955:\tlearn: 0.0001096\ttotal: 15.8s\tremaining: 728ms\n",
      "956:\tlearn: 0.0001096\ttotal: 15.8s\tremaining: 712ms\n",
      "957:\tlearn: 0.0001096\ttotal: 15.9s\tremaining: 695ms\n",
      "958:\tlearn: 0.0001096\ttotal: 15.9s\tremaining: 679ms\n",
      "959:\tlearn: 0.0001096\ttotal: 15.9s\tremaining: 662ms\n",
      "960:\tlearn: 0.0001096\ttotal: 15.9s\tremaining: 646ms\n",
      "961:\tlearn: 0.0001096\ttotal: 15.9s\tremaining: 629ms\n",
      "962:\tlearn: 0.0001096\ttotal: 15.9s\tremaining: 613ms\n",
      "963:\tlearn: 0.0001096\ttotal: 16s\tremaining: 596ms\n",
      "964:\tlearn: 0.0001096\ttotal: 16s\tremaining: 580ms\n",
      "965:\tlearn: 0.0001096\ttotal: 16s\tremaining: 563ms\n",
      "966:\tlearn: 0.0001096\ttotal: 16s\tremaining: 547ms\n",
      "967:\tlearn: 0.0001096\ttotal: 16s\tremaining: 530ms\n",
      "968:\tlearn: 0.0001096\ttotal: 16.1s\tremaining: 514ms\n",
      "969:\tlearn: 0.0001096\ttotal: 16.1s\tremaining: 497ms\n",
      "970:\tlearn: 0.0001096\ttotal: 16.1s\tremaining: 481ms\n",
      "971:\tlearn: 0.0001096\ttotal: 16.1s\tremaining: 464ms\n",
      "972:\tlearn: 0.0001096\ttotal: 16.1s\tremaining: 448ms\n",
      "973:\tlearn: 0.0001096\ttotal: 16.2s\tremaining: 432ms\n",
      "974:\tlearn: 0.0001096\ttotal: 16.2s\tremaining: 415ms\n",
      "975:\tlearn: 0.0001096\ttotal: 16.2s\tremaining: 399ms\n",
      "976:\tlearn: 0.0001096\ttotal: 16.2s\tremaining: 382ms\n",
      "977:\tlearn: 0.0001096\ttotal: 16.2s\tremaining: 365ms\n",
      "978:\tlearn: 0.0001096\ttotal: 16.3s\tremaining: 349ms\n",
      "979:\tlearn: 0.0001096\ttotal: 16.3s\tremaining: 332ms\n",
      "980:\tlearn: 0.0001096\ttotal: 16.3s\tremaining: 315ms\n",
      "981:\tlearn: 0.0001096\ttotal: 16.3s\tremaining: 299ms\n",
      "982:\tlearn: 0.0001096\ttotal: 16.3s\tremaining: 282ms\n",
      "983:\tlearn: 0.0001096\ttotal: 16.3s\tremaining: 266ms\n",
      "984:\tlearn: 0.0001096\ttotal: 16.4s\tremaining: 249ms\n",
      "985:\tlearn: 0.0001096\ttotal: 16.4s\tremaining: 232ms\n",
      "986:\tlearn: 0.0001096\ttotal: 16.4s\tremaining: 216ms\n",
      "987:\tlearn: 0.0001096\ttotal: 16.4s\tremaining: 199ms\n",
      "988:\tlearn: 0.0001096\ttotal: 16.4s\tremaining: 183ms\n",
      "989:\tlearn: 0.0001096\ttotal: 16.4s\tremaining: 166ms\n",
      "990:\tlearn: 0.0001096\ttotal: 16.4s\tremaining: 149ms\n",
      "991:\tlearn: 0.0001096\ttotal: 16.5s\tremaining: 133ms\n",
      "992:\tlearn: 0.0001096\ttotal: 16.5s\tremaining: 116ms\n",
      "993:\tlearn: 0.0001096\ttotal: 16.5s\tremaining: 99.5ms\n",
      "994:\tlearn: 0.0001096\ttotal: 16.5s\tremaining: 82.9ms\n",
      "995:\tlearn: 0.0001096\ttotal: 16.5s\tremaining: 66.3ms\n",
      "996:\tlearn: 0.0001096\ttotal: 16.5s\tremaining: 49.8ms\n",
      "997:\tlearn: 0.0001096\ttotal: 16.5s\tremaining: 33.2ms\n",
      "998:\tlearn: 0.0001096\ttotal: 16.6s\tremaining: 16.6ms\n",
      "999:\tlearn: 0.0001096\ttotal: 16.6s\tremaining: 0us\n"
     ]
    },
    {
     "data": {
      "text/plain": [
       "<catboost.core.CatBoostClassifier at 0x7f65359c7410>"
      ]
     },
     "execution_count": 42,
     "metadata": {},
     "output_type": "execute_result"
    }
   ],
   "source": [
    "clf4.fit(X_train_cat, y_train_cat, early_stopping_rounds=10)"
   ]
  },
  {
   "cell_type": "code",
   "execution_count": 43,
   "metadata": {
    "execution": {
     "iopub.execute_input": "2021-03-13T18:58:25.016669Z",
     "iopub.status.busy": "2021-03-13T18:58:24.991421Z",
     "iopub.status.idle": "2021-03-13T18:58:25.045022Z",
     "shell.execute_reply": "2021-03-13T18:58:25.044384Z"
    },
    "papermill": {
     "duration": 0.209284,
     "end_time": "2021-03-13T18:58:25.045197",
     "exception": false,
     "start_time": "2021-03-13T18:58:24.835913",
     "status": "completed"
    },
    "tags": []
   },
   "outputs": [],
   "source": [
    "scores['CatBoost'] = clf4.score(X_test_cat, y_test_cat)"
   ]
  },
  {
   "cell_type": "code",
   "execution_count": 44,
   "metadata": {
    "execution": {
     "iopub.execute_input": "2021-03-13T18:58:25.332680Z",
     "iopub.status.busy": "2021-03-13T18:58:25.331664Z",
     "iopub.status.idle": "2021-03-13T18:58:25.336814Z",
     "shell.execute_reply": "2021-03-13T18:58:25.336252Z"
    },
    "papermill": {
     "duration": 0.150657,
     "end_time": "2021-03-13T18:58:25.336973",
     "exception": false,
     "start_time": "2021-03-13T18:58:25.186316",
     "status": "completed"
    },
    "tags": []
   },
   "outputs": [
    {
     "data": {
      "text/plain": [
       "{'LinearSVC': 0.958706265256306,\n",
       " 'MultinomialNB': 0.939924057499322,\n",
       " 'XGB': 0.9374830485489558,\n",
       " 'CatBoost': 1.0}"
      ]
     },
     "execution_count": 44,
     "metadata": {},
     "output_type": "execute_result"
    }
   ],
   "source": [
    "scores"
   ]
  },
  {
   "cell_type": "code",
   "execution_count": 45,
   "metadata": {
    "execution": {
     "iopub.execute_input": "2021-03-13T18:58:25.647309Z",
     "iopub.status.busy": "2021-03-13T18:58:25.630316Z",
     "iopub.status.idle": "2021-03-13T18:58:25.758108Z",
     "shell.execute_reply": "2021-03-13T18:58:25.757535Z"
    },
    "papermill": {
     "duration": 0.275954,
     "end_time": "2021-03-13T18:58:25.758271",
     "exception": false,
     "start_time": "2021-03-13T18:58:25.482317",
     "status": "completed"
    },
    "tags": []
   },
   "outputs": [
    {
     "data": {
      "text/plain": [
       "<BarContainer object of 4 artists>"
      ]
     },
     "execution_count": 45,
     "metadata": {},
     "output_type": "execute_result"
    },
    {
     "data": {
      "image/png": "[encoded data removed]",
      "text/plain": [
       "<Figure size 432x288 with 1 Axes>"
      ]
     },
     "metadata": {
      "needs_background": "light"
     },
     "output_type": "display_data"
    }
   ],
   "source": [
    "plt.bar(scores.keys(), scores.values())"
   ]
  },
  {
   "cell_type": "markdown",
   "metadata": {
    "papermill": {
     "duration": 0.144557,
     "end_time": "2021-03-13T18:58:26.047753",
     "exception": false,
     "start_time": "2021-03-13T18:58:25.903196",
     "status": "completed"
    },
    "tags": []
   },
   "source": []
  }
 ],
 "metadata": {
  "kernelspec": {
   "display_name": "Python 3",
   "language": "python",
   "name": "python3"
  },
  "language_info": {
   "codemirror_mode": {
    "name": "ipython",
    "version": 3
   },
   "file_extension": ".py",
   "mimetype": "text/x-python",
   "name": "python",
   "nbconvert_exporter": "python",
   "pygments_lexer": "ipython3",
   "version": "3.9.1"
  },
  "papermill": {
   "default_parameters": {},
   "duration": 453.174715,
   "end_time": "2021-03-13T18:58:27.309204",
   "environment_variables": {},
   "exception": null,
   "input_path": "__notebook__.ipynb",
   "output_path": "__notebook__.ipynb",
   "parameters": {},
   "start_time": "2021-03-13T18:50:54.134489",
   "version": "2.2.2"
  },
  "widgets": {
   "application/vnd.jupyter.widget-state+json": {
    "state": {
     "099ffe409f4e4d7a82cad06b63855c07": {
      "model_module": "@jupyter-widgets/controls",
      "model_module_version": "1.5.0",
      "model_name": "IntProgressModel",
      "state": {
       "_dom_classes": [],
       "_model_module": "@jupyter-widgets/controls",
       "_model_module_version": "1.5.0",
       "_model_name": "IntProgressModel",
       "_view_count": null,
       "_view_module": "@jupyter-widgets/controls",
       "_view_module_version": "1.5.0",
       "_view_name": "ProgressView",
       "bar_style": "",
       "description": "Processing: ",
       "description_tooltip": null,
       "layout": "IPY_MODEL_e50d77b0cf7243459c9448f1c0107542",
       "max": 11,
       "min": 0,
       "orientation": "horizontal",
       "style": "IPY_MODEL_d49b87713ea04b96bdf683baee1e8e33",
       "value": 11
      }
     },
     "80b4a666bb1c4c9484c1ca5478b016d9": {
      "model_module": "@jupyter-widgets/controls",
      "model_module_version": "1.5.0",
      "model_name": "IntProgressModel",
      "state": {
       "_dom_classes": [],
       "_model_module": "@jupyter-widgets/controls",
       "_model_module_version": "1.5.0",
       "_model_name": "IntProgressModel",
       "_view_count": null,
       "_view_module": "@jupyter-widgets/controls",
       "_view_module_version": "1.5.0",
       "_view_name": "ProgressView",
       "bar_style": "",
       "description": "Processing: ",
       "description_tooltip": null,
       "layout": "IPY_MODEL_b0a9f338b554452baf9c50c6c07f1ebf",
       "max": 4,
       "min": 0,
       "orientation": "horizontal",
       "style": "IPY_MODEL_96de8690334a415daf4872f9bbfdefdf",
       "value": 4
      }
     },
     "96de8690334a415daf4872f9bbfdefdf": {
      "model_module": "@jupyter-widgets/controls",
      "model_module_version": "1.5.0",
      "model_name": "ProgressStyleModel",
      "state": {
       "_model_module": "@jupyter-widgets/controls",
       "_model_module_version": "1.5.0",
       "_model_name": "ProgressStyleModel",
       "_view_count": null,
       "_view_module": "@jupyter-widgets/base",
       "_view_module_version": "1.2.0",
       "_view_name": "StyleView",
       "bar_color": null,
       "description_width": ""
      }
     },
     "b0a9f338b554452baf9c50c6c07f1ebf": {
      "model_module": "@jupyter-widgets/base",
      "model_module_version": "1.2.0",
      "model_name": "LayoutModel",
      "state": {
       "_model_module": "@jupyter-widgets/base",
       "_model_module_version": "1.2.0",
       "_model_name": "LayoutModel",
       "_view_count": null,
       "_view_module": "@jupyter-widgets/base",
       "_view_module_version": "1.2.0",
       "_view_name": "LayoutView",
       "align_content": null,
       "align_items": null,
       "align_self": null,
       "border": null,
       "bottom": null,
       "display": null,
       "flex": null,
       "flex_flow": null,
       "grid_area": null,
       "grid_auto_columns": null,
       "grid_auto_flow": null,
       "grid_auto_rows": null,
       "grid_column": null,
       "grid_gap": null,
       "grid_row": null,
       "grid_template_areas": null,
       "grid_template_columns": null,
       "grid_template_rows": null,
       "height": null,
       "justify_content": null,
       "justify_items": null,
       "left": null,
       "margin": null,
       "max_height": null,
       "max_width": null,
       "min_height": null,
       "min_width": null,
       "object_fit": null,
       "object_position": null,
       "order": null,
       "overflow": null,
       "overflow_x": null,
       "overflow_y": null,
       "padding": null,
       "right": null,
       "top": null,
       "visibility": null,
       "width": null
      }
     },
     "d49b87713ea04b96bdf683baee1e8e33": {
      "model_module": "@jupyter-widgets/controls",
      "model_module_version": "1.5.0",
      "model_name": "ProgressStyleModel",
      "state": {
       "_model_module": "@jupyter-widgets/controls",
       "_model_module_version": "1.5.0",
       "_model_name": "ProgressStyleModel",
       "_view_count": null,
       "_view_module": "@jupyter-widgets/base",
       "_view_module_version": "1.2.0",
       "_view_name": "StyleView",
       "bar_color": null,
       "description_width": ""
      }
     },
     "deb178162e124a82bb6b358a04142e7a": {
      "model_module": "@jupyter-widgets/controls",
      "model_module_version": "1.5.0",
      "model_name": "ProgressStyleModel",
      "state": {
       "_model_module": "@jupyter-widgets/controls",
       "_model_module_version": "1.5.0",
       "_model_name": "ProgressStyleModel",
       "_view_count": null,
       "_view_module": "@jupyter-widgets/base",
       "_view_module_version": "1.2.0",
       "_view_name": "StyleView",
       "bar_color": null,
       "description_width": ""
      }
     },
     "e50d77b0cf7243459c9448f1c0107542": {
      "model_module": "@jupyter-widgets/base",
      "model_module_version": "1.2.0",
      "model_name": "LayoutModel",
      "state": {
       "_model_module": "@jupyter-widgets/base",
       "_model_module_version": "1.2.0",
       "_model_name": "LayoutModel",
       "_view_count": null,
       "_view_module": "@jupyter-widgets/base",
       "_view_module_version": "1.2.0",
       "_view_name": "LayoutView",
       "align_content": null,
       "align_items": null,
       "align_self": null,
       "border": null,
       "bottom": null,
       "display": null,
       "flex": null,
       "flex_flow": null,
       "grid_area": null,
       "grid_auto_columns": null,
       "grid_auto_flow": null,
       "grid_auto_rows": null,
       "grid_column": null,
       "grid_gap": null,
       "grid_row": null,
       "grid_template_areas": null,
       "grid_template_columns": null,
       "grid_template_rows": null,
       "height": null,
       "justify_content": null,
       "justify_items": null,
       "left": null,
       "margin": null,
       "max_height": null,
       "max_width": null,
       "min_height": null,
       "min_width": null,
       "object_fit": null,
       "object_position": null,
       "order": null,
       "overflow": null,
       "overflow_x": null,
       "overflow_y": null,
       "padding": null,
       "right": null,
       "top": null,
       "visibility": null,
       "width": null
      }
     },
     "f74c1e3986064dd4b92607d1207cab18": {
      "model_module": "@jupyter-widgets/base",
      "model_module_version": "1.2.0",
      "model_name": "LayoutModel",
      "state": {
       "_model_module": "@jupyter-widgets/base",
       "_model_module_version": "1.2.0",
       "_model_name": "LayoutModel",
       "_view_count": null,
       "_view_module": "@jupyter-widgets/base",
       "_view_module_version": "1.2.0",
       "_view_name": "LayoutView",
       "align_content": null,
       "align_items": null,
       "align_self": null,
       "border": null,
       "bottom": null,
       "display": null,
       "flex": null,
       "flex_flow": null,
       "grid_area": null,
       "grid_auto_columns": null,
       "grid_auto_flow": null,
       "grid_auto_rows": null,
       "grid_column": null,
       "grid_gap": null,
       "grid_row": null,
       "grid_template_areas": null,
       "grid_template_columns": null,
       "grid_template_rows": null,
       "height": null,
       "justify_content": null,
       "justify_items": null,
       "left": null,
       "margin": null,
       "max_height": null,
       "max_width": null,
       "min_height": null,
       "min_width": null,
       "object_fit": null,
       "object_position": null,
       "order": null,
       "overflow": null,
       "overflow_x": null,
       "overflow_y": null,
       "padding": null,
       "right": null,
       "top": null,
       "visibility": null,
       "width": null
      }
     },
     "fa3efd0dd4b643faa64e260e2cb4e7d8": {
      "model_module": "@jupyter-widgets/controls",
      "model_module_version": "1.5.0",
      "model_name": "IntProgressModel",
      "state": {
       "_dom_classes": [],
       "_model_module": "@jupyter-widgets/controls",
       "_model_module_version": "1.5.0",
       "_model_name": "IntProgressModel",
       "_view_count": null,
       "_view_module": "@jupyter-widgets/controls",
       "_view_module_version": "1.5.0",
       "_view_name": "ProgressView",
       "bar_style": "",
       "description": "Processing: ",
       "description_tooltip": null,
       "layout": "IPY_MODEL_f74c1e3986064dd4b92607d1207cab18",
       "max": 44694,
       "min": 0,
       "orientation": "horizontal",
       "style": "IPY_MODEL_deb178162e124a82bb6b358a04142e7a",
       "value": 44694
      }
     }
    },
    "version_major": 2,
    "version_minor": 0
   }
  }
 },
 "nbformat": 4,
 "nbformat_minor": 4
}
